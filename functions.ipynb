{
 "cells": [
  {
   "cell_type": "code",
   "execution_count": 1,
   "metadata": {},
   "outputs": [
    {
     "name": "stdout",
     "output_type": "stream",
     "text": [
      "Enter a value:12\n",
      "Enter v value:13\n",
      "25.0\n",
      "Enter a value:14\n",
      "Enter v value:15\n",
      "29.0\n",
      "Enter a value:16\n",
      "Enter v value:17\n",
      "33.0\n",
      "Enter a value:18\n",
      "Enter v value:19\n",
      "37.0\n",
      "Enter a value:23\n",
      "Enter v value:24\n",
      "47.0\n"
     ]
    }
   ],
   "source": [
    "for i in range(5):\n",
    "    a=float(input(\"Enter a value:\"))\n",
    "    b=float(input(\"Enter v value:\"))\n",
    "    print(a+b)"
   ]
  },
  {
   "cell_type": "code",
   "execution_count": 2,
   "metadata": {},
   "outputs": [
    {
     "name": "stdout",
     "output_type": "stream",
     "text": [
      "Enter a value:12\n",
      "Enter v value:23\n",
      "12.0+23.0=35.0\n",
      "Enter a value:334\n",
      "Enter v value:34\n",
      "334.0+34.0=368.0\n",
      "Enter a value:343\n",
      "Enter v value:4\n",
      "343.0+4.0=347.0\n",
      "Enter a value:34\n",
      "Enter v value:34\n",
      "68.0\n",
      "Enter a value:3\n",
      "Enter v value:4\n",
      "3.0+4.0=7.0\n"
     ]
    }
   ],
   "source": [
    "a=float(input(\"Enter a value:\"))\n",
    "b=float(input(\"Enter v value:\"))\n",
    "print(f\"{a}+{b}={a+b}\")\n",
    "a=float(input(\"Enter a value:\"))\n",
    "b=float(input(\"Enter v value:\"))\n",
    "print(f\"{a}+{b}={a+b}\")\n",
    "a=float(input(\"Enter a value:\"))\n",
    "b=float(input(\"Enter v value:\"))\n",
    "print(f\"{a}+{b}={a+b}\")\n",
    "a=float(input(\"Enter a value:\"))\n",
    "b=float(input(\"Enter v value:\"))\n",
    "print(a+b)\n",
    "a=float(input(\"Enter a value:\"))\n",
    "b=float(input(\"Enter v value:\"))\n",
    "print(f\"{a}+{b}={a+b}\")"
   ]
  },
  {
   "cell_type": "code",
   "execution_count": 3,
   "metadata": {},
   "outputs": [
    {
     "name": "stdout",
     "output_type": "stream",
     "text": [
      "Enter a value:1\n",
      "Enter v value:2\n",
      "1.0+2.0=3.0\n",
      "Enter a value:3\n",
      "Enter v value:4\n",
      "3.0+4.0=7.0\n"
     ]
    }
   ],
   "source": [
    "for i in range(2):\n",
    "    a=float(input(\"Enter a value:\"))\n",
    "    b=float(input(\"Enter v value:\"))\n",
    "    print(f\"{a}+{b}={a+b}\")"
   ]
  },
  {
   "cell_type": "code",
   "execution_count": 4,
   "metadata": {},
   "outputs": [],
   "source": [
    "# add product in to database\n",
    "#sales.py 3 places\n",
    "\n",
    "#pur.py\n",
    "\n",
    "#stock.py\n"
   ]
  },
  {
   "cell_type": "code",
   "execution_count": 5,
   "metadata": {},
   "outputs": [
    {
     "name": "stdout",
     "output_type": "stream",
     "text": [
      "123\n",
      "456\n",
      "789\n"
     ]
    }
   ],
   "source": [
    "print(\"123\")\n",
    "print(\"456\")\n",
    "def get():\n",
    "    print(\"10\")\n",
    "print(\"789\")"
   ]
  },
  {
   "cell_type": "code",
   "execution_count": 6,
   "metadata": {},
   "outputs": [
    {
     "name": "stdout",
     "output_type": "stream",
     "text": [
      "123\n",
      "456\n",
      "789\n",
      "10\n"
     ]
    }
   ],
   "source": [
    "print(\"123\")\n",
    "print(\"456\")\n",
    "# function\n",
    "def get(): # signature\n",
    "    # function body\n",
    "    print(\"10\")\n",
    "print(\"789\")\n",
    "get() # function call"
   ]
  },
  {
   "cell_type": "code",
   "execution_count": 7,
   "metadata": {},
   "outputs": [
    {
     "name": "stdout",
     "output_type": "stream",
     "text": [
      "123\n",
      "456\n",
      "789\n",
      "10\n",
      "10\n",
      "10\n"
     ]
    }
   ],
   "source": [
    "print(\"123\")\n",
    "print(\"456\")\n",
    "def get(): \n",
    "    print(\"10\")\n",
    "print(\"789\")\n",
    "get() \n",
    "get()\n",
    "get()"
   ]
  },
  {
   "cell_type": "code",
   "execution_count": 8,
   "metadata": {},
   "outputs": [
    {
     "name": "stdout",
     "output_type": "stream",
     "text": [
      "1\n",
      "Enter a value:1\n",
      "Enter v value:2\n",
      "1.0+2.0=3.0\n",
      "2\n",
      "3\n",
      "Enter a value:3\n",
      "Enter v value:4\n",
      "3.0+4.0=7.0\n",
      "hello\n",
      "hi\n",
      "Enter a value:5\n",
      "Enter v value:6\n",
      "5.0+6.0=11.0\n"
     ]
    }
   ],
   "source": [
    "print(\"1\")\n",
    "a=float(input(\"Enter a value:\"))\n",
    "b=float(input(\"Enter v value:\"))\n",
    "print(f\"{a}+{b}={a+b}\")\n",
    "print(\"2\")\n",
    "print(\"3\")\n",
    "a=float(input(\"Enter a value:\"))\n",
    "b=float(input(\"Enter v value:\"))\n",
    "print(f\"{a}+{b}={a+b}\")\n",
    "print(\"hello\")\n",
    "print(\"hi\")\n",
    "a=float(input(\"Enter a value:\"))\n",
    "b=float(input(\"Enter v value:\"))\n",
    "print(f\"{a}+{b}={a+b}\")"
   ]
  },
  {
   "cell_type": "code",
   "execution_count": null,
   "metadata": {},
   "outputs": [],
   "source": [
    "def add():\n",
    "    a=float(input(\"Enter a value:\"))\n",
    "    b=float(input(\"Enter b value:\"))\n",
    "    print(f\"{a}+{b}={a+b}\")\n",
    "print(\"1\")\n",
    "print(\"2\")\n",
    "add()\n",
    "print(\"3\")\n",
    "add()\n",
    "print(\"hello\")\n",
    "print(\"hi\")\n",
    "add()"
   ]
  }
 ],
 "metadata": {
  "kernelspec": {
   "display_name": "Python 3",
   "language": "python",
   "name": "python3"
  },
  "language_info": {
   "codemirror_mode": {
    "name": "ipython",
    "version": 3
   },
   "file_extension": ".py",
   "mimetype": "text/x-python",
   "name": "python",
   "nbconvert_exporter": "python",
   "pygments_lexer": "ipython3",
   "version": "3.8.3"
  }
 },
 "nbformat": 4,
 "nbformat_minor": 4
}
