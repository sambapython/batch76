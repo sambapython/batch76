{
 "cells": [
  {
   "cell_type": "code",
   "execution_count": 1,
   "metadata": {},
   "outputs": [
    {
     "name": "stdout",
     "output_type": "stream",
     "text": [
      "Enter a value:12\n",
      "Enter v value:13\n",
      "25.0\n",
      "Enter a value:14\n",
      "Enter v value:15\n",
      "29.0\n",
      "Enter a value:16\n",
      "Enter v value:17\n",
      "33.0\n",
      "Enter a value:18\n",
      "Enter v value:19\n",
      "37.0\n",
      "Enter a value:23\n",
      "Enter v value:24\n",
      "47.0\n"
     ]
    }
   ],
   "source": [
    "for i in range(5):\n",
    "    a=float(input(\"Enter a value:\"))\n",
    "    b=float(input(\"Enter v value:\"))\n",
    "    print(a+b)"
   ]
  },
  {
   "cell_type": "code",
   "execution_count": 2,
   "metadata": {},
   "outputs": [
    {
     "name": "stdout",
     "output_type": "stream",
     "text": [
      "Enter a value:12\n",
      "Enter v value:23\n",
      "12.0+23.0=35.0\n",
      "Enter a value:334\n",
      "Enter v value:34\n",
      "334.0+34.0=368.0\n",
      "Enter a value:343\n",
      "Enter v value:4\n",
      "343.0+4.0=347.0\n",
      "Enter a value:34\n",
      "Enter v value:34\n",
      "68.0\n",
      "Enter a value:3\n",
      "Enter v value:4\n",
      "3.0+4.0=7.0\n"
     ]
    }
   ],
   "source": [
    "a=float(input(\"Enter a value:\"))\n",
    "b=float(input(\"Enter v value:\"))\n",
    "print(f\"{a}+{b}={a+b}\")\n",
    "a=float(input(\"Enter a value:\"))\n",
    "b=float(input(\"Enter v value:\"))\n",
    "print(f\"{a}+{b}={a+b}\")\n",
    "a=float(input(\"Enter a value:\"))\n",
    "b=float(input(\"Enter v value:\"))\n",
    "print(f\"{a}+{b}={a+b}\")\n",
    "a=float(input(\"Enter a value:\"))\n",
    "b=float(input(\"Enter v value:\"))\n",
    "print(a+b)\n",
    "a=float(input(\"Enter a value:\"))\n",
    "b=float(input(\"Enter v value:\"))\n",
    "print(f\"{a}+{b}={a+b}\")"
   ]
  },
  {
   "cell_type": "code",
   "execution_count": 3,
   "metadata": {},
   "outputs": [
    {
     "name": "stdout",
     "output_type": "stream",
     "text": [
      "Enter a value:1\n",
      "Enter v value:2\n",
      "1.0+2.0=3.0\n",
      "Enter a value:3\n",
      "Enter v value:4\n",
      "3.0+4.0=7.0\n"
     ]
    }
   ],
   "source": [
    "for i in range(2):\n",
    "    a=float(input(\"Enter a value:\"))\n",
    "    b=float(input(\"Enter v value:\"))\n",
    "    print(f\"{a}+{b}={a+b}\")"
   ]
  },
  {
   "cell_type": "code",
   "execution_count": 4,
   "metadata": {},
   "outputs": [],
   "source": [
    "# add product in to database\n",
    "#sales.py 3 places\n",
    "\n",
    "#pur.py\n",
    "\n",
    "#stock.py\n"
   ]
  },
  {
   "cell_type": "code",
   "execution_count": 5,
   "metadata": {},
   "outputs": [
    {
     "name": "stdout",
     "output_type": "stream",
     "text": [
      "123\n",
      "456\n",
      "789\n"
     ]
    }
   ],
   "source": [
    "print(\"123\")\n",
    "print(\"456\")\n",
    "def get():\n",
    "    print(\"10\")\n",
    "print(\"789\")"
   ]
  },
  {
   "cell_type": "code",
   "execution_count": 6,
   "metadata": {},
   "outputs": [
    {
     "name": "stdout",
     "output_type": "stream",
     "text": [
      "123\n",
      "456\n",
      "789\n",
      "10\n"
     ]
    }
   ],
   "source": [
    "print(\"123\")\n",
    "print(\"456\")\n",
    "# function\n",
    "def get(): # signature\n",
    "    # function body\n",
    "    print(\"10\")\n",
    "print(\"789\")\n",
    "get() # function call"
   ]
  },
  {
   "cell_type": "code",
   "execution_count": 7,
   "metadata": {},
   "outputs": [
    {
     "name": "stdout",
     "output_type": "stream",
     "text": [
      "123\n",
      "456\n",
      "789\n",
      "10\n",
      "10\n",
      "10\n"
     ]
    }
   ],
   "source": [
    "print(\"123\")\n",
    "print(\"456\")\n",
    "def get(): \n",
    "    print(\"10\")\n",
    "print(\"789\")\n",
    "get() \n",
    "get()\n",
    "get()"
   ]
  },
  {
   "cell_type": "code",
   "execution_count": 8,
   "metadata": {},
   "outputs": [
    {
     "name": "stdout",
     "output_type": "stream",
     "text": [
      "1\n",
      "Enter a value:1\n",
      "Enter v value:2\n",
      "1.0+2.0=3.0\n",
      "2\n",
      "3\n",
      "Enter a value:3\n",
      "Enter v value:4\n",
      "3.0+4.0=7.0\n",
      "hello\n",
      "hi\n",
      "Enter a value:5\n",
      "Enter v value:6\n",
      "5.0+6.0=11.0\n"
     ]
    }
   ],
   "source": [
    "print(\"1\")\n",
    "a=float(input(\"Enter a value:\"))\n",
    "b=float(input(\"Enter v value:\"))\n",
    "print(f\"{a}+{b}={a+b}\")\n",
    "print(\"2\")\n",
    "print(\"3\")\n",
    "a=float(input(\"Enter a value:\"))\n",
    "b=float(input(\"Enter v value:\"))\n",
    "print(f\"{a}+{b}={a+b}\")\n",
    "print(\"hello\")\n",
    "print(\"hi\")\n",
    "a=float(input(\"Enter a value:\"))\n",
    "b=float(input(\"Enter v value:\"))\n",
    "print(f\"{a}+{b}={a+b}\")"
   ]
  },
  {
   "cell_type": "code",
   "execution_count": null,
   "metadata": {},
   "outputs": [],
   "source": [
    "def add():\n",
    "    a=float(input(\"Enter a value:\"))\n",
    "    b=float(input(\"Enter b value:\"))\n",
    "    print(f\"{a}+{b}={a+b}\")\n",
    "print(\"1\")\n",
    "print(\"2\")\n",
    "add()\n",
    "print(\"3\")\n",
    "add()\n",
    "print(\"hello\")\n",
    "print(\"hi\")\n",
    "add()"
   ]
  },
  {
   "cell_type": "code",
   "execution_count": 1,
   "metadata": {},
   "outputs": [
    {
     "name": "stdout",
     "output_type": "stream",
     "text": [
      "started\n",
      "x=10,y=20,a=1,b=200,c=300\n",
      "z=30, p=-10\n",
      "ended\n"
     ]
    }
   ],
   "source": [
    "print(\"started\")\n",
    "a=100\n",
    "b=200\n",
    "c=300\n",
    "def add(x,y):\n",
    "    a=1\n",
    "    print(f\"x={x},y={y},a={a},b={b},c={c}\")\n",
    "    z=x+y\n",
    "    p=x-y\n",
    "    print(f\"z={z}, p={p}\")\n",
    "add(10,20)\n",
    "print(\"ended\")"
   ]
  },
  {
   "cell_type": "code",
   "execution_count": 2,
   "metadata": {},
   "outputs": [
    {
     "name": "stdout",
     "output_type": "stream",
     "text": [
      "30\n",
      "3\n",
      "50\n",
      "300\n"
     ]
    }
   ],
   "source": [
    "def add(x,y): #add(10,20)\n",
    "    print(x+y)\n",
    "add(10,20)\n",
    "add(1,2)\n",
    "add(20,30)\n",
    "add(100,200)"
   ]
  },
  {
   "cell_type": "code",
   "execution_count": 3,
   "metadata": {},
   "outputs": [
    {
     "ename": "SyntaxError",
     "evalue": "invalid syntax (<ipython-input-3-90eb16ab1471>, line 1)",
     "output_type": "error",
     "traceback": [
      "\u001b[1;36m  File \u001b[1;32m\"<ipython-input-3-90eb16ab1471>\"\u001b[1;36m, line \u001b[1;32m1\u001b[0m\n\u001b[1;33m    def add(10,20): #add(10,20)\u001b[0m\n\u001b[1;37m            ^\u001b[0m\n\u001b[1;31mSyntaxError\u001b[0m\u001b[1;31m:\u001b[0m invalid syntax\n"
     ]
    }
   ],
   "source": [
    "def add(10,20): #add(10,20)\n",
    "    print(10+20)"
   ]
  },
  {
   "cell_type": "code",
   "execution_count": 4,
   "metadata": {},
   "outputs": [
    {
     "name": "stdout",
     "output_type": "stream",
     "text": [
      "30\n"
     ]
    }
   ],
   "source": [
    "print(10+20)"
   ]
  },
  {
   "cell_type": "code",
   "execution_count": 5,
   "metadata": {},
   "outputs": [
    {
     "name": "stdout",
     "output_type": "stream",
     "text": [
      "started\n",
      "x=10,y=20,a=1,b=200,c=300\n",
      "z=30, p=-10\n",
      "ended\n"
     ]
    }
   ],
   "source": [
    "print(\"started\")\n",
    "a=100\n",
    "b=200\n",
    "c=300\n",
    "def add(x,y):\n",
    "    a=1\n",
    "    print(f\"x={x},y={y},a={a},b={b},c={c}\")\n",
    "    z=x+y\n",
    "    p=x-y\n",
    "    print(f\"z={z}, p={p}\")\n",
    "add(10,20)\n",
    "print(\"ended\")"
   ]
  },
  {
   "cell_type": "code",
   "execution_count": null,
   "metadata": {},
   "outputs": [],
   "source": [
    "a=1000\n",
    "def fun(x,y):\n",
    "    print(x,y)\n",
    "    print(\"a inside the function:\",a)\n",
    "print(\"a before calling a fun:\",a)\n",
    "fun(10,20)\n",
    "print(\"a after calling a fun:\",a)\n",
    "\"\"\"\n",
    "output:\n",
    "10 20\n",
    "\"\"\""
   ]
  },
  {
   "cell_type": "code",
   "execution_count": null,
   "metadata": {},
   "outputs": [],
   "source": [
    "print(\"hello\")\n",
    "def fun():\n",
    "    print(\"hi\")\n",
    "print(\"hyderabad\")\n",
    "fun()\n",
    "print(\"banglore\")\n",
    "\"\"\"\n",
    "hello\n",
    "hyderabad\n",
    "hi\n",
    "banglore\n",
    "\"\"\""
   ]
  },
  {
   "cell_type": "code",
   "execution_count": null,
   "metadata": {},
   "outputs": [],
   "source": []
  },
  {
   "cell_type": "code",
   "execution_count": null,
   "metadata": {},
   "outputs": [],
   "source": [
    "a=1000\n",
    "def fun(x,y):\n",
    "    print(x,y)\n",
    "    print(\"a inside the function:\",a)\n",
    "print(\"a before calling a fun:\",a)\n",
    "fun(10,20)\n",
    "print(\"a after calling a fun:\",a)\n",
    "\"\"\"\n",
    "output:\n",
    "a inside the function: 1000\n",
    "\n",
    "\"\"\""
   ]
  },
  {
   "cell_type": "code",
   "execution_count": 1,
   "metadata": {},
   "outputs": [
    {
     "name": "stdout",
     "output_type": "stream",
     "text": [
      "hello\n",
      "hyderabad\n",
      "banglore\n"
     ]
    }
   ],
   "source": [
    "print(\"hello\")\n",
    "def fun():\n",
    "    print(\"hi\")\n",
    "print(\"hyderabad\")\n",
    "print(\"banglore\")"
   ]
  },
  {
   "cell_type": "code",
   "execution_count": 3,
   "metadata": {},
   "outputs": [
    {
     "name": "stdout",
     "output_type": "stream",
     "text": [
      "hello\n",
      "hyderabad\n",
      "banglore\n"
     ]
    }
   ],
   "source": [
    "print(\"hello\")\n",
    "def fun():\n",
    "    print(\"hi\")\n",
    "print(\"hyderabad\")\n",
    "print(\"banglore\")\n"
   ]
  },
  {
   "cell_type": "code",
   "execution_count": 4,
   "metadata": {},
   "outputs": [
    {
     "name": "stdout",
     "output_type": "stream",
     "text": [
      "hello\n",
      "hyderabad\n",
      "banglore\n",
      "hi\n",
      "HI\n"
     ]
    }
   ],
   "source": [
    "print(\"hello\")\n",
    "def fun():\n",
    "    print(\"hi\")\n",
    "    print(\"HI\")\n",
    "print(\"hyderabad\")\n",
    "print(\"banglore\")\n",
    "fun()"
   ]
  },
  {
   "cell_type": "code",
   "execution_count": 5,
   "metadata": {},
   "outputs": [
    {
     "name": "stdout",
     "output_type": "stream",
     "text": [
      "hello\n",
      "hyderabad\n",
      "hi\n",
      "apple\n",
      "banglore\n",
      "hi\n",
      "apple\n"
     ]
    }
   ],
   "source": [
    "print(\"hello\")\n",
    "def fun():\n",
    "    print(\"hi\")\n",
    "    print(\"apple\")\n",
    "print(\"hyderabad\")\n",
    "fun()\n",
    "print(\"banglore\")\n",
    "fun()"
   ]
  },
  {
   "cell_type": "code",
   "execution_count": null,
   "metadata": {},
   "outputs": [],
   "source": [
    "a=1000\n",
    "def fun(x,y):\n",
    "    print(x,y)\n",
    "    print(\"a inside the function:\",a)\n",
    "print(\"a before calling a fun:\",a)\n",
    "fun(10,20)\n",
    "print(\"a after calling a fun:\",a)"
   ]
  },
  {
   "cell_type": "code",
   "execution_count": 6,
   "metadata": {},
   "outputs": [
    {
     "name": "stdout",
     "output_type": "stream",
     "text": [
      "10 20\n"
     ]
    }
   ],
   "source": [
    "x,y=10,20\n",
    "print(x,y)"
   ]
  },
  {
   "cell_type": "code",
   "execution_count": 7,
   "metadata": {},
   "outputs": [
    {
     "name": "stdout",
     "output_type": "stream",
     "text": [
      "a before calling a fun: 1000\n",
      "10 20\n",
      "a inside the function: 1000\n",
      "a after calling a fun: 1000\n"
     ]
    }
   ],
   "source": [
    "a=1000\n",
    "def fun(x,y):\n",
    "    print(x,y)\n",
    "    print(\"a inside the function:\",a)\n",
    "print(\"a before calling a fun:\",a)\n",
    "fun(10,20)\n",
    "print(\"a after calling a fun:\",a)"
   ]
  },
  {
   "cell_type": "code",
   "execution_count": 8,
   "metadata": {},
   "outputs": [
    {
     "name": "stdout",
     "output_type": "stream",
     "text": [
      "a before calling a fun: 1000\n",
      "10 20\n",
      "a inside the function: 1000\n",
      "a after calling a fun: 1000\n",
      "1 2\n",
      "a inside the function: 1000\n"
     ]
    }
   ],
   "source": [
    "a=1000\n",
    "def fun(x,y):\n",
    "    print(x,y)\n",
    "    print(\"a inside the function:\",a)\n",
    "print(\"a before calling a fun:\",a)\n",
    "fun(10,20)\n",
    "print(\"a after calling a fun:\",a)\n",
    "fun(1,2)"
   ]
  },
  {
   "cell_type": "code",
   "execution_count": 9,
   "metadata": {},
   "outputs": [
    {
     "name": "stdout",
     "output_type": "stream",
     "text": [
      "started\n",
      "corona\n",
      "x=10,y=20\n",
      "result= 30\n",
      "maleria\n",
      "x=1,y=2\n",
      "result= 3\n",
      "cold\n",
      "x=100,y=200\n",
      "result= 300\n",
      "cough\n",
      "x=1000,y=2000\n",
      "result= 3000\n"
     ]
    }
   ],
   "source": [
    "print(\"started\")\n",
    "def add(x,y):\n",
    "    print(f\"x={x},y={y}\")\n",
    "    res=x+y\n",
    "    print(\"result=\",res)\n",
    "print(\"corona\")\n",
    "add(10,20)\n",
    "print(\"maleria\")\n",
    "add(1,2)\n",
    "print(\"cold\")\n",
    "add(100,200)\n",
    "print(\"cough\")\n",
    "add(1000,2000)"
   ]
  },
  {
   "cell_type": "code",
   "execution_count": 1,
   "metadata": {},
   "outputs": [
    {
     "name": "stdout",
     "output_type": "stream",
     "text": [
      "x=10,y=20,z=30,a=1000,b=2000\n"
     ]
    }
   ],
   "source": [
    "a=1000\n",
    "b=2000\n",
    "def fun(x,y):\n",
    "    z=x+y\n",
    "    print(f\"x={x},y={y},z={z},a={a},b={b}\")\n",
    "fun(10,20)"
   ]
  },
  {
   "cell_type": "code",
   "execution_count": 2,
   "metadata": {},
   "outputs": [
    {
     "name": "stdout",
     "output_type": "stream",
     "text": [
      "before calling fun: a=1000,b=2000\n",
      "x=10,y=20,z=30,a=1000,b=2000\n",
      "after calling fun: a=1000,b=2000\n"
     ]
    }
   ],
   "source": [
    "a=1000\n",
    "b=2000\n",
    "def fun(x,y):\n",
    "    z=x+y\n",
    "    print(f\"x={x},y={y},z={z},a={a},b={b}\")\n",
    "print(f\"before calling fun: a={a},b={b}\")\n",
    "fun(10,20)\n",
    "print(f\"after calling fun: a={a},b={b}\")"
   ]
  },
  {
   "cell_type": "code",
   "execution_count": 3,
   "metadata": {},
   "outputs": [
    {
     "name": "stdout",
     "output_type": "stream",
     "text": [
      "before calling fun: a=1000,b=2000\n",
      "x=10,y=20,z=30,a=2,b=2000\n",
      "after calling fun: a=1000,b=2000\n"
     ]
    }
   ],
   "source": [
    "a=1000\n",
    "b=2000\n",
    "def fun(x,y):\n",
    "    a=2\n",
    "    z=x+y\n",
    "    print(f\"x={x},y={y},z={z},a={a},b={b}\")\n",
    "    \n",
    "print(f\"before calling fun: a={a},b={b}\")\n",
    "fun(10,20)\n",
    "print(f\"after calling fun: a={a},b={b}\")"
   ]
  },
  {
   "cell_type": "code",
   "execution_count": 1,
   "metadata": {},
   "outputs": [
    {
     "name": "stdout",
     "output_type": "stream",
     "text": [
      "before function definition: a=1000,b=2000\n",
      "after function definition: a=1000,b=2000\n"
     ]
    }
   ],
   "source": [
    "a=1000\n",
    "b=2000\n",
    "print(f\"before function definition: a={a},b={b}\")\n",
    "def fun(x,y):\n",
    "    global a\n",
    "    a=2\n",
    "    z=x+y\n",
    "    print(f\"x={x},y={y},z={z},a={a},b={b}\")\n",
    "print(f\"after function definition: a={a},b={b}\")"
   ]
  },
  {
   "cell_type": "code",
   "execution_count": 2,
   "metadata": {},
   "outputs": [
    {
     "name": "stdout",
     "output_type": "stream",
     "text": [
      "before function definition: a=1000,b=2000\n",
      "after function definition: a=1000,b=2000\n",
      "x=10,y=20,z=30,a=2,b=2000\n"
     ]
    }
   ],
   "source": [
    "a=1000\n",
    "b=2000\n",
    "print(f\"before function definition: a={a},b={b}\")\n",
    "def fun(x,y):\n",
    "    global a\n",
    "    a=2\n",
    "    z=x+y\n",
    "    print(f\"x={x},y={y},z={z},a={a},b={b}\")\n",
    "print(f\"after function definition: a={a},b={b}\")"
   ]
  },
  {
   "cell_type": "code",
   "execution_count": 3,
   "metadata": {},
   "outputs": [
    {
     "name": "stdout",
     "output_type": "stream",
     "text": [
      "before function definition: a=1000,b=2000,c=3000\n",
      "after function definition: a=1000,b=2000,c=3000\n",
      "x=10,y=20,z=30,a=2,b=2000,c=3\n",
      "after function call: a=2,b=2000,c=3000\n"
     ]
    }
   ],
   "source": [
    "a=1000\n",
    "b=2000\n",
    "c=3000\n",
    "print(f\"before function definition: a={a},b={b},c={c}\")\n",
    "def fun(x,y):\n",
    "    global a\n",
    "    a=2\n",
    "    c=3\n",
    "    z=x+y\n",
    "    print(f\"x={x},y={y},z={z},a={a},b={b},c={c}\")\n",
    "print(f\"after function definition: a={a},b={b},c={c}\")\n",
    "fun(10,20)\n",
    "print(f\"after function call: a={a},b={b},c={c}\")"
   ]
  },
  {
   "cell_type": "code",
   "execution_count": null,
   "metadata": {},
   "outputs": [],
   "source": [
    "def add(x,y):\n",
    "    print(x+y)\n",
    "def add1(x,y,z):\n",
    "    print(x+y+z)\n",
    "def add(a,b,c,d):\n",
    "    print(a+b+c+d)\n",
    "add1(10,20,30)\n",
    "add(10,20)\n",
    "add(10,20,30,40)"
   ]
  },
  {
   "cell_type": "code",
   "execution_count": null,
   "metadata": {},
   "outputs": [],
   "source": []
  },
  {
   "cell_type": "code",
   "execution_count": 4,
   "metadata": {},
   "outputs": [],
   "source": [
    "a=1000\n",
    "b=2000\n",
    "a=3000\n",
    "b=4000\n",
    "c=5000\n",
    "c=6000"
   ]
  },
  {
   "cell_type": "code",
   "execution_count": 5,
   "metadata": {},
   "outputs": [
    {
     "name": "stdout",
     "output_type": "stream",
     "text": [
      "60\n"
     ]
    },
    {
     "ename": "TypeError",
     "evalue": "add() missing 2 required positional arguments: 'c' and 'd'",
     "output_type": "error",
     "traceback": [
      "\u001b[1;31m---------------------------------------------------------------------------\u001b[0m",
      "\u001b[1;31mTypeError\u001b[0m                                 Traceback (most recent call last)",
      "\u001b[1;32m<ipython-input-5-55c2ed1be94f>\u001b[0m in \u001b[0;36m<module>\u001b[1;34m\u001b[0m\n\u001b[0;32m      6\u001b[0m     \u001b[0mprint\u001b[0m\u001b[1;33m(\u001b[0m\u001b[0ma\u001b[0m\u001b[1;33m+\u001b[0m\u001b[0mb\u001b[0m\u001b[1;33m+\u001b[0m\u001b[0mc\u001b[0m\u001b[1;33m+\u001b[0m\u001b[0md\u001b[0m\u001b[1;33m)\u001b[0m\u001b[1;33m\u001b[0m\u001b[1;33m\u001b[0m\u001b[0m\n\u001b[0;32m      7\u001b[0m \u001b[0madd1\u001b[0m\u001b[1;33m(\u001b[0m\u001b[1;36m10\u001b[0m\u001b[1;33m,\u001b[0m\u001b[1;36m20\u001b[0m\u001b[1;33m,\u001b[0m\u001b[1;36m30\u001b[0m\u001b[1;33m)\u001b[0m\u001b[1;33m\u001b[0m\u001b[1;33m\u001b[0m\u001b[0m\n\u001b[1;32m----> 8\u001b[1;33m \u001b[0madd\u001b[0m\u001b[1;33m(\u001b[0m\u001b[1;36m10\u001b[0m\u001b[1;33m,\u001b[0m\u001b[1;36m20\u001b[0m\u001b[1;33m)\u001b[0m\u001b[1;33m\u001b[0m\u001b[1;33m\u001b[0m\u001b[0m\n\u001b[0m\u001b[0;32m      9\u001b[0m \u001b[0madd\u001b[0m\u001b[1;33m(\u001b[0m\u001b[1;36m10\u001b[0m\u001b[1;33m,\u001b[0m\u001b[1;36m20\u001b[0m\u001b[1;33m,\u001b[0m\u001b[1;36m30\u001b[0m\u001b[1;33m,\u001b[0m\u001b[1;36m40\u001b[0m\u001b[1;33m)\u001b[0m\u001b[1;33m\u001b[0m\u001b[1;33m\u001b[0m\u001b[0m\n",
      "\u001b[1;31mTypeError\u001b[0m: add() missing 2 required positional arguments: 'c' and 'd'"
     ]
    }
   ],
   "source": [
    "def add(x,y):\n",
    "    print(x+y)\n",
    "def add1(x,y,z):\n",
    "    print(x+y+z)\n",
    "def add(a,b,c,d):\n",
    "    print(a+b+c+d)\n",
    "add1(10,20,30)\n",
    "add(10,20)\n",
    "add(10,20,30,40)"
   ]
  },
  {
   "cell_type": "code",
   "execution_count": 6,
   "metadata": {},
   "outputs": [
    {
     "name": "stdout",
     "output_type": "stream",
     "text": [
      "300\n",
      "60\n"
     ]
    },
    {
     "ename": "TypeError",
     "evalue": "add() missing 2 required positional arguments: 'c' and 'd'",
     "output_type": "error",
     "traceback": [
      "\u001b[1;31m---------------------------------------------------------------------------\u001b[0m",
      "\u001b[1;31mTypeError\u001b[0m                                 Traceback (most recent call last)",
      "\u001b[1;32m<ipython-input-6-641ad3de4699>\u001b[0m in \u001b[0;36m<module>\u001b[1;34m\u001b[0m\n\u001b[0;32m      7\u001b[0m     \u001b[0mprint\u001b[0m\u001b[1;33m(\u001b[0m\u001b[0ma\u001b[0m\u001b[1;33m+\u001b[0m\u001b[0mb\u001b[0m\u001b[1;33m+\u001b[0m\u001b[0mc\u001b[0m\u001b[1;33m+\u001b[0m\u001b[0md\u001b[0m\u001b[1;33m)\u001b[0m\u001b[1;33m\u001b[0m\u001b[1;33m\u001b[0m\u001b[0m\n\u001b[0;32m      8\u001b[0m \u001b[0madd1\u001b[0m\u001b[1;33m(\u001b[0m\u001b[1;36m10\u001b[0m\u001b[1;33m,\u001b[0m\u001b[1;36m20\u001b[0m\u001b[1;33m,\u001b[0m\u001b[1;36m30\u001b[0m\u001b[1;33m)\u001b[0m\u001b[1;33m\u001b[0m\u001b[1;33m\u001b[0m\u001b[0m\n\u001b[1;32m----> 9\u001b[1;33m \u001b[0madd\u001b[0m\u001b[1;33m(\u001b[0m\u001b[1;36m10\u001b[0m\u001b[1;33m,\u001b[0m\u001b[1;36m20\u001b[0m\u001b[1;33m)\u001b[0m\u001b[1;33m\u001b[0m\u001b[1;33m\u001b[0m\u001b[0m\n\u001b[0m\u001b[0;32m     10\u001b[0m \u001b[0madd\u001b[0m\u001b[1;33m(\u001b[0m\u001b[1;36m10\u001b[0m\u001b[1;33m,\u001b[0m\u001b[1;36m20\u001b[0m\u001b[1;33m,\u001b[0m\u001b[1;36m30\u001b[0m\u001b[1;33m,\u001b[0m\u001b[1;36m40\u001b[0m\u001b[1;33m)\u001b[0m\u001b[1;33m\u001b[0m\u001b[1;33m\u001b[0m\u001b[0m\n",
      "\u001b[1;31mTypeError\u001b[0m: add() missing 2 required positional arguments: 'c' and 'd'"
     ]
    }
   ],
   "source": [
    "def add(x,y):\n",
    "    print(x+y)\n",
    "add(100,200)\n",
    "def add1(x,y,z):\n",
    "    print(x+y+z)\n",
    "def add(a,b,c,d):\n",
    "    print(a+b+c+d)\n",
    "add1(10,20,30)\n",
    "add(10,20)\n",
    "add(10,20,30,40)"
   ]
  },
  {
   "cell_type": "code",
   "execution_count": 7,
   "metadata": {},
   "outputs": [
    {
     "name": "stdout",
     "output_type": "stream",
     "text": [
      "300\n",
      "60\n",
      "10\n"
     ]
    },
    {
     "ename": "TypeError",
     "evalue": "add() missing 2 required positional arguments: 'c' and 'd'",
     "output_type": "error",
     "traceback": [
      "\u001b[1;31m---------------------------------------------------------------------------\u001b[0m",
      "\u001b[1;31mTypeError\u001b[0m                                 Traceback (most recent call last)",
      "\u001b[1;32m<ipython-input-7-93e02648658a>\u001b[0m in \u001b[0;36m<module>\u001b[1;34m\u001b[0m\n\u001b[0;32m      8\u001b[0m \u001b[0madd1\u001b[0m\u001b[1;33m(\u001b[0m\u001b[1;36m10\u001b[0m\u001b[1;33m,\u001b[0m\u001b[1;36m20\u001b[0m\u001b[1;33m,\u001b[0m\u001b[1;36m30\u001b[0m\u001b[1;33m)\u001b[0m\u001b[1;33m\u001b[0m\u001b[1;33m\u001b[0m\u001b[0m\n\u001b[0;32m      9\u001b[0m \u001b[0madd\u001b[0m\u001b[1;33m(\u001b[0m\u001b[1;36m1\u001b[0m\u001b[1;33m,\u001b[0m\u001b[1;36m2\u001b[0m\u001b[1;33m,\u001b[0m\u001b[1;36m3\u001b[0m\u001b[1;33m,\u001b[0m\u001b[1;36m4\u001b[0m\u001b[1;33m)\u001b[0m\u001b[1;33m\u001b[0m\u001b[1;33m\u001b[0m\u001b[0m\n\u001b[1;32m---> 10\u001b[1;33m \u001b[0madd\u001b[0m\u001b[1;33m(\u001b[0m\u001b[1;36m10\u001b[0m\u001b[1;33m,\u001b[0m\u001b[1;36m20\u001b[0m\u001b[1;33m)\u001b[0m\u001b[1;33m\u001b[0m\u001b[1;33m\u001b[0m\u001b[0m\n\u001b[0m\u001b[0;32m     11\u001b[0m \u001b[0madd\u001b[0m\u001b[1;33m(\u001b[0m\u001b[1;36m10\u001b[0m\u001b[1;33m,\u001b[0m\u001b[1;36m20\u001b[0m\u001b[1;33m,\u001b[0m\u001b[1;36m30\u001b[0m\u001b[1;33m,\u001b[0m\u001b[1;36m40\u001b[0m\u001b[1;33m)\u001b[0m\u001b[1;33m\u001b[0m\u001b[1;33m\u001b[0m\u001b[0m\n",
      "\u001b[1;31mTypeError\u001b[0m: add() missing 2 required positional arguments: 'c' and 'd'"
     ]
    }
   ],
   "source": [
    "def add(x,y):\n",
    "    print(x+y)\n",
    "add(100,200)\n",
    "def add1(x,y,z):\n",
    "    print(x+y+z)\n",
    "def add(a,b,c,d):\n",
    "    print(a+b+c+d)\n",
    "add1(10,20,30)\n",
    "add(1,2,3,4)\n",
    "add(10,20)\n",
    "add(10,20,30,40)"
   ]
  },
  {
   "cell_type": "code",
   "execution_count": 1,
   "metadata": {},
   "outputs": [
    {
     "name": "stdout",
     "output_type": "stream",
     "text": [
      "result= None\n"
     ]
    }
   ],
   "source": [
    "def add(x,y):\n",
    "    z=x+y\n",
    "res=add(1,3)\n",
    "print(\"result=\",res)"
   ]
  },
  {
   "cell_type": "code",
   "execution_count": 2,
   "metadata": {},
   "outputs": [
    {
     "name": "stdout",
     "output_type": "stream",
     "text": [
      "z= 4\n",
      "result= None\n"
     ]
    }
   ],
   "source": [
    "def add(x,y):\n",
    "    z=x+y\n",
    "    print(\"z=\",z)\n",
    "res=add(1,3)\n",
    "print(\"result=\",res)"
   ]
  },
  {
   "cell_type": "code",
   "execution_count": 3,
   "metadata": {},
   "outputs": [
    {
     "name": "stdout",
     "output_type": "stream",
     "text": [
      "z= 4\n",
      "result= 0\n"
     ]
    }
   ],
   "source": [
    "def add(x,y):\n",
    "    z=x+y\n",
    "    print(\"z=\",z)\n",
    "    return 0\n",
    "res=add(1,3)\n",
    "print(\"result=\",res)"
   ]
  },
  {
   "cell_type": "code",
   "execution_count": 4,
   "metadata": {},
   "outputs": [
    {
     "name": "stdout",
     "output_type": "stream",
     "text": [
      "result= 0\n"
     ]
    }
   ],
   "source": [
    "def add(x,y):\n",
    "    a=x+y\n",
    "    b=x-y\n",
    "    c=x*y\n",
    "    d=x/y\n",
    "    return 0\n",
    "s=add(1,3)\n",
    "print(\"result=\",s)"
   ]
  },
  {
   "cell_type": "code",
   "execution_count": 5,
   "metadata": {},
   "outputs": [
    {
     "name": "stdout",
     "output_type": "stream",
     "text": [
      "a=4,b=-2,c=3,d=0.3333333333333333\n",
      "result= 0\n"
     ]
    }
   ],
   "source": [
    "def add(x,y):\n",
    "    a=x+y\n",
    "    b=x-y\n",
    "    c=x*y\n",
    "    d=x/y\n",
    "    print(f\"a={a},b={b},c={c},d={d}\")\n",
    "    return 0\n",
    "s=add(1,3)\n",
    "print(\"result=\",s)"
   ]
  },
  {
   "cell_type": "code",
   "execution_count": 6,
   "metadata": {},
   "outputs": [
    {
     "name": "stdout",
     "output_type": "stream",
     "text": [
      "a=4,b=-2,c=3,d=0.3333333333333333\n",
      "result= 4\n"
     ]
    }
   ],
   "source": [
    "def add(x,y):\n",
    "    a=x+y\n",
    "    b=x-y\n",
    "    c=x*y\n",
    "    d=x/y\n",
    "    print(f\"a={a},b={b},c={c},d={d}\")\n",
    "    return a\n",
    "s=add(1,3)\n",
    "print(\"result=\",s)"
   ]
  },
  {
   "cell_type": "code",
   "execution_count": 7,
   "metadata": {},
   "outputs": [
    {
     "name": "stdout",
     "output_type": "stream",
     "text": [
      "a=4,b=-2,c=3,d=0.3333333333333333\n",
      "result= -2\n"
     ]
    }
   ],
   "source": [
    "def add(x,y):\n",
    "    a=x+y\n",
    "    b=x-y\n",
    "    c=x*y\n",
    "    d=x/y\n",
    "    print(f\"a={a},b={b},c={c},d={d}\")\n",
    "    return b\n",
    "s=add(1,3)\n",
    "print(\"result=\",s)"
   ]
  },
  {
   "cell_type": "code",
   "execution_count": 8,
   "metadata": {},
   "outputs": [
    {
     "name": "stdout",
     "output_type": "stream",
     "text": [
      "a=4,b=-2,c=3,d=0.3333333333333333\n",
      "result= (4, -2, 3, 0.3333333333333333)\n"
     ]
    }
   ],
   "source": [
    "def add(x,y):\n",
    "    a=x+y\n",
    "    b=x-y\n",
    "    c=x*y\n",
    "    d=x/y\n",
    "    print(f\"a={a},b={b},c={c},d={d}\")\n",
    "    return a,b,c,d\n",
    "s=add(1,3)\n",
    "print(\"result=\",s)"
   ]
  },
  {
   "cell_type": "code",
   "execution_count": 9,
   "metadata": {},
   "outputs": [
    {
     "name": "stdout",
     "output_type": "stream",
     "text": [
      "result= (4, -2, 3, 0.3333333333333333)\n"
     ]
    }
   ],
   "source": [
    "def add(x,y):\n",
    "    a=x+y\n",
    "    b=x-y\n",
    "    c=x*y\n",
    "    d=x/y\n",
    "    return a,b,c,d\n",
    "s=add(1,3)\n",
    "print(\"result=\",s)"
   ]
  },
  {
   "cell_type": "code",
   "execution_count": 10,
   "metadata": {},
   "outputs": [
    {
     "data": {
      "text/plain": [
       "0"
      ]
     },
     "execution_count": 10,
     "metadata": {},
     "output_type": "execute_result"
    }
   ],
   "source": [
    "-22%2"
   ]
  },
  {
   "cell_type": "code",
   "execution_count": 11,
   "metadata": {},
   "outputs": [
    {
     "name": "stdout",
     "output_type": "stream",
     "text": [
      "- EVEN\n"
     ]
    }
   ],
   "source": [
    "def get_sign(x):\n",
    "    if x>0:\n",
    "        return \"+\"\n",
    "    else:\n",
    "        return \"-\"\n",
    "def get_even_odd(x):\n",
    "    if x%2==0:\n",
    "        return \"EVEN\"\n",
    "    else:\n",
    "        return \"ODD\"\n",
    "sign = get_sign(-10)\n",
    "flag = get_even_odd(-10)\n",
    "print(f\"{sign} {flag}\")"
   ]
  },
  {
   "cell_type": "code",
   "execution_count": 13,
   "metadata": {},
   "outputs": [
    {
     "name": "stdout",
     "output_type": "stream",
     "text": [
      "17595\n"
     ]
    }
   ],
   "source": [
    "# invoice\n",
    "# costprice(Mi mobile)\n",
    "# discounts(Mi mobile, paymentmode)\n",
    "# delivery charges(mi mobile, destination,source)\n",
    "# ware house charges(mi mobile): \n",
    "# tax\n",
    "# tax values\n",
    "def get_costprice(product):\n",
    "    # code\n",
    "    if product==\"Mi mobile 7 pro\":\n",
    "        return 17000\n",
    "    else:\n",
    "        return 3000\n",
    "def get_discount(product, mode):\n",
    "    if mode==\"HDFC CREDITCARD\":\n",
    "        return 5\n",
    "    else:\n",
    "        return 3\n",
    "def get_weight(product):\n",
    "    if product==\"Mi mobile 7 pro\":\n",
    "        return 20\n",
    "def get_delivery(product, distance):\n",
    "    return get_weight(product) * distance\n",
    "\n",
    "\n",
    "def invoice(product,mode,distance):\n",
    "    cost_price = get_costprice(product)\n",
    "    discount = get_discount(product, mode)\n",
    "    delivery = get_delivery(product,distance)\n",
    "    discount_value=cost_price*(discount/100)\n",
    "    return cost_price-discount+delivery\n",
    "\n",
    "product = \"Mi mobile 7 pro\"\n",
    "print(invoice(product,\"HDFC CREDITCARD\",30))"
   ]
  },
  {
   "cell_type": "code",
   "execution_count": 14,
   "metadata": {},
   "outputs": [
    {
     "name": "stdout",
     "output_type": "stream",
     "text": [
      "{'net': 17000, 'gross': 17615}\n"
     ]
    }
   ],
   "source": [
    "# invoice\n",
    "# costprice(Mi mobile)\n",
    "# discounts(Mi mobile, paymentmode)\n",
    "# delivery charges(mi mobile, destination,source)\n",
    "# ware house charges(mi mobile): \n",
    "# tax\n",
    "# tax values\n",
    "def get_costprice(product):\n",
    "    # code\n",
    "    if product==\"Mi mobile 7 pro\":\n",
    "        return 17000\n",
    "    else:\n",
    "        return 3000\n",
    "def get_discount(product, mode):\n",
    "    if mode==\"HDFC CREDITCARD\":\n",
    "        return 5\n",
    "    else:\n",
    "        return 3\n",
    "def get_weight(product):\n",
    "    if product==\"Mi mobile 7 pro\":\n",
    "        return 20\n",
    "def get_delivery(product, distance):\n",
    "    return get_weight(product) * distance\n",
    "\n",
    "\n",
    "def invoice(product,mode,distance):\n",
    "    cost_price = get_costprice(product)\n",
    "    discount = get_discount(product, mode)\n",
    "    delivery = get_delivery(product,distance)\n",
    "    discount_value=cost_price*(discount/100)\n",
    "    taxes=20\n",
    "    net=cost_price\n",
    "    gross= cost_price-discount+delivery+taxes\n",
    "    return {\"net\":net,\"gross\":gross}\n",
    "\n",
    "product = \"Mi mobile 7 pro\"\n",
    "print(invoice(product,\"HDFC CREDITCARD\",30))"
   ]
  },
  {
   "cell_type": "code",
   "execution_count": 1,
   "metadata": {},
   "outputs": [
    {
     "name": "stdout",
     "output_type": "stream",
     "text": [
      "30\n"
     ]
    }
   ],
   "source": [
    "def add(x,y): #x,y are parameters\n",
    "    z=x+y\n",
    "    print(z)\n",
    "add(10,20) # 10,20 are arguments"
   ]
  },
  {
   "cell_type": "code",
   "execution_count": 2,
   "metadata": {},
   "outputs": [
    {
     "name": "stdout",
     "output_type": "stream",
     "text": [
      "30\n"
     ]
    },
    {
     "ename": "TypeError",
     "evalue": "add() missing 1 required positional argument: 'y'",
     "output_type": "error",
     "traceback": [
      "\u001b[1;31m---------------------------------------------------------------------------\u001b[0m",
      "\u001b[1;31mTypeError\u001b[0m                                 Traceback (most recent call last)",
      "\u001b[1;32m<ipython-input-2-5a71aa253ce8>\u001b[0m in \u001b[0;36m<module>\u001b[1;34m\u001b[0m\n\u001b[0;32m      3\u001b[0m     \u001b[0mprint\u001b[0m\u001b[1;33m(\u001b[0m\u001b[0mz\u001b[0m\u001b[1;33m)\u001b[0m\u001b[1;33m\u001b[0m\u001b[1;33m\u001b[0m\u001b[0m\n\u001b[0;32m      4\u001b[0m \u001b[0madd\u001b[0m\u001b[1;33m(\u001b[0m\u001b[1;36m10\u001b[0m\u001b[1;33m,\u001b[0m\u001b[1;36m20\u001b[0m\u001b[1;33m)\u001b[0m \u001b[1;31m# 10,20 are arguments\u001b[0m\u001b[1;33m\u001b[0m\u001b[1;33m\u001b[0m\u001b[0m\n\u001b[1;32m----> 5\u001b[1;33m \u001b[0madd\u001b[0m\u001b[1;33m(\u001b[0m\u001b[1;36m10\u001b[0m\u001b[1;33m)\u001b[0m\u001b[1;33m\u001b[0m\u001b[1;33m\u001b[0m\u001b[0m\n\u001b[0m",
      "\u001b[1;31mTypeError\u001b[0m: add() missing 1 required positional argument: 'y'"
     ]
    }
   ],
   "source": [
    "def add(x,y): #x,y are parameters\n",
    "    z=x+y\n",
    "    print(z)\n",
    "add(10,20) # 10,20 are arguments\n",
    "add(10)"
   ]
  },
  {
   "cell_type": "code",
   "execution_count": 3,
   "metadata": {},
   "outputs": [
    {
     "name": "stdout",
     "output_type": "stream",
     "text": [
      "30\n"
     ]
    },
    {
     "ename": "TypeError",
     "evalue": "add() takes 2 positional arguments but 3 were given",
     "output_type": "error",
     "traceback": [
      "\u001b[1;31m---------------------------------------------------------------------------\u001b[0m",
      "\u001b[1;31mTypeError\u001b[0m                                 Traceback (most recent call last)",
      "\u001b[1;32m<ipython-input-3-00a6eee0ac35>\u001b[0m in \u001b[0;36m<module>\u001b[1;34m\u001b[0m\n\u001b[0;32m      3\u001b[0m     \u001b[0mprint\u001b[0m\u001b[1;33m(\u001b[0m\u001b[0mz\u001b[0m\u001b[1;33m)\u001b[0m\u001b[1;33m\u001b[0m\u001b[1;33m\u001b[0m\u001b[0m\n\u001b[0;32m      4\u001b[0m \u001b[0madd\u001b[0m\u001b[1;33m(\u001b[0m\u001b[1;36m10\u001b[0m\u001b[1;33m,\u001b[0m\u001b[1;36m20\u001b[0m\u001b[1;33m)\u001b[0m \u001b[1;31m# 10,20 are arguments\u001b[0m\u001b[1;33m\u001b[0m\u001b[1;33m\u001b[0m\u001b[0m\n\u001b[1;32m----> 5\u001b[1;33m \u001b[0madd\u001b[0m\u001b[1;33m(\u001b[0m\u001b[1;36m10\u001b[0m\u001b[1;33m,\u001b[0m\u001b[1;36m20\u001b[0m\u001b[1;33m,\u001b[0m\u001b[1;36m30\u001b[0m\u001b[1;33m)\u001b[0m\u001b[1;33m\u001b[0m\u001b[1;33m\u001b[0m\u001b[0m\n\u001b[0m",
      "\u001b[1;31mTypeError\u001b[0m: add() takes 2 positional arguments but 3 were given"
     ]
    }
   ],
   "source": [
    "def add(x,y): #x,y are parameters\n",
    "    z=x+y\n",
    "    print(z)\n",
    "add(10,20) # 10,20 are arguments\n",
    "add(10,20,30)"
   ]
  },
  {
   "cell_type": "code",
   "execution_count": 4,
   "metadata": {},
   "outputs": [
    {
     "name": "stdout",
     "output_type": "stream",
     "text": [
      "a=1,b=2,c=3,d=4,e=5,f=6\n",
      "result= 21\n"
     ]
    }
   ],
   "source": [
    "#min2 max6 arguments\n",
    "def add(a,b,c,d,e,f):\n",
    "    print(f\"a={a},b={b},c={c},d={d},e={e},f={f}\")\n",
    "    x=a+b+c+d+e+f\n",
    "    print(\"result=\",x)\n",
    "add(1,2,3,4,5,6)"
   ]
  },
  {
   "cell_type": "code",
   "execution_count": 5,
   "metadata": {},
   "outputs": [
    {
     "name": "stdout",
     "output_type": "stream",
     "text": [
      "a=1,b=2,c=3,d=4,e=5,f=6\n",
      "result= 21\n"
     ]
    },
    {
     "ename": "TypeError",
     "evalue": "add() missing 4 required positional arguments: 'c', 'd', 'e', and 'f'",
     "output_type": "error",
     "traceback": [
      "\u001b[1;31m---------------------------------------------------------------------------\u001b[0m",
      "\u001b[1;31mTypeError\u001b[0m                                 Traceback (most recent call last)",
      "\u001b[1;32m<ipython-input-5-fdc517e73c2f>\u001b[0m in \u001b[0;36m<module>\u001b[1;34m\u001b[0m\n\u001b[0;32m      5\u001b[0m     \u001b[0mprint\u001b[0m\u001b[1;33m(\u001b[0m\u001b[1;34m\"result=\"\u001b[0m\u001b[1;33m,\u001b[0m\u001b[0mx\u001b[0m\u001b[1;33m)\u001b[0m\u001b[1;33m\u001b[0m\u001b[1;33m\u001b[0m\u001b[0m\n\u001b[0;32m      6\u001b[0m \u001b[0madd\u001b[0m\u001b[1;33m(\u001b[0m\u001b[1;36m1\u001b[0m\u001b[1;33m,\u001b[0m\u001b[1;36m2\u001b[0m\u001b[1;33m,\u001b[0m\u001b[1;36m3\u001b[0m\u001b[1;33m,\u001b[0m\u001b[1;36m4\u001b[0m\u001b[1;33m,\u001b[0m\u001b[1;36m5\u001b[0m\u001b[1;33m,\u001b[0m\u001b[1;36m6\u001b[0m\u001b[1;33m)\u001b[0m\u001b[1;33m\u001b[0m\u001b[1;33m\u001b[0m\u001b[0m\n\u001b[1;32m----> 7\u001b[1;33m \u001b[0madd\u001b[0m\u001b[1;33m(\u001b[0m\u001b[1;36m1\u001b[0m\u001b[1;33m,\u001b[0m\u001b[1;36m2\u001b[0m\u001b[1;33m)\u001b[0m\u001b[1;33m\u001b[0m\u001b[1;33m\u001b[0m\u001b[0m\n\u001b[0m",
      "\u001b[1;31mTypeError\u001b[0m: add() missing 4 required positional arguments: 'c', 'd', 'e', and 'f'"
     ]
    }
   ],
   "source": [
    "#min2 max6 arguments\n",
    "def add(a,b,c,d,e,f):\n",
    "    print(f\"a={a},b={b},c={c},d={d},e={e},f={f}\")\n",
    "    x=a+b+c+d+e+f\n",
    "    print(\"result=\",x)\n",
    "add(1,2,3,4,5,6)\n",
    "add(1,2)"
   ]
  },
  {
   "cell_type": "code",
   "execution_count": 6,
   "metadata": {},
   "outputs": [
    {
     "name": "stdout",
     "output_type": "stream",
     "text": [
      "a=1,b=2,c=3,d=4,e=5,f=6\n",
      "result= 21\n",
      "a=1,b=2,c=0,d=0,e=0,f=0\n",
      "result= 3\n"
     ]
    }
   ],
   "source": [
    "#min2 max6 arguments\n",
    "def add(a,b,c=0,d=0,e=0,f=0):\n",
    "    print(f\"a={a},b={b},c={c},d={d},e={e},f={f}\")\n",
    "    x=a+b+c+d+e+f\n",
    "    print(\"result=\",x)\n",
    "add(1,2,3,4,5,6)\n",
    "add(1,2)"
   ]
  },
  {
   "cell_type": "code",
   "execution_count": 7,
   "metadata": {},
   "outputs": [
    {
     "name": "stdout",
     "output_type": "stream",
     "text": [
      "a=1,b=2,c=3,d=4,e=5,f=6\n",
      "result= 21\n",
      "a=1,b=2,c=0,d=0,e=0,f=0\n",
      "result= 3\n",
      "a=1,b=2,c=3,d=0,e=0,f=0\n",
      "result= 6\n",
      "a=1,b=2,c=3,d=4,e=0,f=0\n",
      "result= 10\n",
      "a=1,b=2,c=3,d=4,e=5,f=0\n",
      "result= 15\n",
      "a=1,b=2,c=3,d=4,e=5,f=6\n",
      "result= 21\n"
     ]
    }
   ],
   "source": [
    "#min2 max6 arguments\n",
    "def add(a,b,c=0,d=0,e=0,f=0):\n",
    "    print(f\"a={a},b={b},c={c},d={d},e={e},f={f}\")\n",
    "    x=a+b+c+d+e+f\n",
    "    print(\"result=\",x)\n",
    "add(1,2,3,4,5,6)\n",
    "add(1,2)\n",
    "add(1,2,3)\n",
    "add(1,2,3,4)\n",
    "add(1,2,3,4,5)\n",
    "add(1,2,3,4,5,6)"
   ]
  },
  {
   "cell_type": "code",
   "execution_count": 8,
   "metadata": {},
   "outputs": [
    {
     "name": "stdout",
     "output_type": "stream",
     "text": [
      "a=1,b=2,c=3,d=4,e=5,f=6\n",
      "result= 21\n",
      "a=1,b=2,c=0,d=0,e=0,f=0\n",
      "result= 3\n",
      "a=1,b=2,c=3,d=0,e=0,f=0\n",
      "result= 6\n",
      "a=1,b=2,c=3,d=4,e=0,f=0\n",
      "result= 10\n",
      "a=1,b=2,c=3,d=4,e=5,f=0\n",
      "result= 15\n",
      "a=1,b=2,c=3,d=4,e=5,f=6\n",
      "result= 21\n"
     ]
    }
   ],
   "source": [
    "#min2 max6 arguments\n",
    "def add(a,b,c=0,d=0,e=0,f=0):#a,b are mandatory parameters, c,d,e,f are optional parameters.\n",
    "    print(f\"a={a},b={b},c={c},d={d},e={e},f={f}\")\n",
    "    x=a+b+c+d+e+f\n",
    "    print(\"result=\",x)\n",
    "add(1,2,3,4,5,6)\n",
    "add(1,2)\n",
    "add(1,2,3)\n",
    "add(1,2,3,4)\n",
    "add(1,2,3,4,5)\n",
    "add(1,2,3,4,5,6)"
   ]
  },
  {
   "cell_type": "code",
   "execution_count": 9,
   "metadata": {},
   "outputs": [
    {
     "name": "stdout",
     "output_type": "stream",
     "text": [
      "() <class 'tuple'>\n",
      "(1,) <class 'tuple'>\n",
      "(1, 2, 3) <class 'tuple'>\n",
      "(1, 2, 3, 4, 5, 6, 7, 8, 9) <class 'tuple'>\n",
      "(10, 20, 30, 3, 5, 2, 4, 5, 7, 8, 8, 56, 44, 3, 2, 5, 7, 8, 98, 9) <class 'tuple'>\n"
     ]
    }
   ],
   "source": [
    "def add(*x): # *args\n",
    "    print(x, type(x))\n",
    "add()\n",
    "add(1)\n",
    "add(1,2,3)\n",
    "add(1,2,3,4,5,6,7,8,9)\n",
    "add(10,20,30,3,5,2,4,5,7,8,8,56,44,3,2,5,7,8,98,9)"
   ]
  },
  {
   "cell_type": "code",
   "execution_count": 10,
   "metadata": {},
   "outputs": [
    {
     "name": "stdout",
     "output_type": "stream",
     "text": [
      "() <class 'tuple'>\n",
      "0\n",
      "(1,) <class 'tuple'>\n",
      "1\n",
      "(1, 2, 3) <class 'tuple'>\n",
      "6\n",
      "(1, 2, 3, 4, 5, 6, 7, 8, 9) <class 'tuple'>\n",
      "45\n",
      "(10, 20, 30, 3, 5, 2, 4, 5, 7, 8, 8, 56, 44, 3, 2, 5, 7, 8, 98, 9) <class 'tuple'>\n",
      "334\n"
     ]
    }
   ],
   "source": [
    "def add(*x): # *args\n",
    "    print(x, type(x))\n",
    "    print(sum(x))\n",
    "add()\n",
    "add(1)\n",
    "add(1,2,3)\n",
    "add(1,2,3,4,5,6,7,8,9)\n",
    "add(10,20,30,3,5,2,4,5,7,8,8,56,44,3,2,5,7,8,98,9)"
   ]
  },
  {
   "cell_type": "code",
   "execution_count": 12,
   "metadata": {},
   "outputs": [
    {
     "name": "stdout",
     "output_type": "stream",
     "text": [
      "a=10,b=20,x=()\n",
      "30\n",
      "a=1,b=2,x=(3, 4, 5, 6, 7, 8, 9)\n",
      "45\n"
     ]
    }
   ],
   "source": [
    "#min2 max:we dont know\n",
    "def add(a,b,*x):\n",
    "    print(f\"a={a},b={b},x={x}\")\n",
    "    print(a+b+sum(x))\n",
    "add(10,20)\n",
    "add(1,2,3,4,5,6,7,8,9)"
   ]
  },
  {
   "cell_type": "code",
   "execution_count": 14,
   "metadata": {},
   "outputs": [
    {
     "name": "stdout",
     "output_type": "stream",
     "text": [
      "a=10,b=20,c=0,x=()\n",
      "30\n",
      "a=1,b=2,c=3,x=(4, 5, 6, 7, 8, 9)\n",
      "42\n"
     ]
    }
   ],
   "source": [
    "#min2 max:we dont know\n",
    "def add(a,b,c=0,*x):\n",
    "    print(f\"a={a},b={b},c={c},x={x}\")\n",
    "    print(a+b+sum(x))\n",
    "add(10,20)\n",
    "add(1,2,3,4,5,6,7,8,9)"
   ]
  },
  {
   "cell_type": "code",
   "execution_count": 15,
   "metadata": {},
   "outputs": [
    {
     "name": "stdout",
     "output_type": "stream",
     "text": [
      "name=vedhanvesh,age=None,pan=None,adhar=None,passport=None,voterid=None\n"
     ]
    }
   ],
   "source": [
    "def registration(name,age=None,pan=None,adhar=None,passport=None,voterid=None):\n",
    "    print(f\"name={name},age={age},pan={pan},adhar={adhar},passport={passport},voterid={voterid}\")\n",
    "registration(\"vedhanvesh\")"
   ]
  },
  {
   "cell_type": "code",
   "execution_count": 16,
   "metadata": {},
   "outputs": [
    {
     "name": "stdout",
     "output_type": "stream",
     "text": [
      "name=vedhanvesh,age=None,pan=None,adhar=None,passport=None,voterid=None\n",
      "name=jayaram,age=4,pan=adhar_1223,adhar=None,passport=None,voterid=None\n"
     ]
    }
   ],
   "source": [
    "def registration(name,age=None,pan=None,adhar=None,passport=None,voterid=None):\n",
    "    print(f\"name={name},age={age},pan={pan},adhar={adhar},passport={passport},voterid={voterid}\")\n",
    "registration(\"vedhanvesh\")\n",
    "registration(\"jayaram\",4,\"adhar_1223\")"
   ]
  },
  {
   "cell_type": "code",
   "execution_count": 17,
   "metadata": {},
   "outputs": [
    {
     "name": "stdout",
     "output_type": "stream",
     "text": [
      "name=vedhanvesh,age=None,pan=None,adhar=None,passport=None,voterid=None\n",
      "name=jayaram,age=4,pan=0,adhar=adhar_1223,passport=None,voterid=None\n"
     ]
    }
   ],
   "source": [
    "def registration(name,age=None,pan=None,adhar=None,passport=None,voterid=None):\n",
    "    print(f\"name={name},age={age},pan={pan},adhar={adhar},passport={passport},voterid={voterid}\")\n",
    "registration(\"vedhanvesh\")\n",
    "registration(\"jayaram\",4,0,\"adhar_1223\")"
   ]
  },
  {
   "cell_type": "code",
   "execution_count": 18,
   "metadata": {},
   "outputs": [
    {
     "name": "stdout",
     "output_type": "stream",
     "text": [
      "name=vedhanvesh,age=None,pan=None,adhar=None,passport=None,voterid=None\n",
      "name=jayaram,age=4,pan=None,adhar=adhar_1223,passport=None,voterid=None\n"
     ]
    }
   ],
   "source": [
    "def registration(name,age=None,pan=None,adhar=None,passport=None,voterid=None):\n",
    "    print(f\"name={name},age={age},pan={pan},adhar={adhar},passport={passport},voterid={voterid}\")\n",
    "registration(\"vedhanvesh\")\n",
    "registration(\"jayaram\",4,None,\"adhar_1223\")"
   ]
  },
  {
   "cell_type": "code",
   "execution_count": 19,
   "metadata": {},
   "outputs": [
    {
     "name": "stdout",
     "output_type": "stream",
     "text": [
      "name=vedhanvesh,age=None,pan=None,adhar=None,passport=None,voterid=None\n",
      "name=jayaram,age=4,pan=None,adhar=None,passport=None,voterid=voter_1223\n"
     ]
    }
   ],
   "source": [
    "def registration(name,age=None,pan=None,adhar=None,passport=None,voterid=None):\n",
    "    print(f\"name={name},age={age},pan={pan},adhar={adhar},passport={passport},voterid={voterid}\")\n",
    "registration(\"vedhanvesh\")\n",
    "registration(\"jayaram\",4,None,None,None,\"voter_1223\")"
   ]
  },
  {
   "cell_type": "code",
   "execution_count": 20,
   "metadata": {},
   "outputs": [
    {
     "name": "stdout",
     "output_type": "stream",
     "text": [
      "name=vedhanvesh,age=None,pan=None,adhar=None,passport=None,voterid=None\n",
      "name=jayaram,age=4,pan=None,adhar=None,passport=None,voterid=voter_1223\n",
      "name=jayaram,age=None,pan=None,adhar=None,passport=None,voterid=voter_1234\n"
     ]
    }
   ],
   "source": [
    "def registration(name,age=None,pan=None,adhar=None,passport=None,voterid=None):\n",
    "    print(f\"name={name},age={age},pan={pan},adhar={adhar},passport={passport},voterid={voterid}\")\n",
    "registration(\"vedhanvesh\")# positional arguments\n",
    "registration(\"jayaram\",4,None,None,None,\"voter_1223\") # positional arguments\n",
    "registration(voterid=\"voter_1234\",name=\"jayaram\")# keyword arguments"
   ]
  },
  {
   "cell_type": "code",
   "execution_count": 21,
   "metadata": {},
   "outputs": [
    {
     "name": "stdout",
     "output_type": "stream",
     "text": [
      "name=vedhanvesh,age=None,pan=None,adhar=None,passport=None,voterid=None\n",
      "name=jayaram,age=4,pan=None,adhar=None,passport=None,voterid=voter_1223\n",
      "name=jayaram,age=None,pan=None,adhar=None,passport=None,voterid=voter_1234\n",
      "name=jayaram,age=4,pan=None,adhar=adhar_123,passport=None,voterid=voter_1234\n"
     ]
    }
   ],
   "source": [
    "def registration(name,age=None,pan=None,adhar=None,passport=None,voterid=None):\n",
    "    print(f\"name={name},age={age},pan={pan},adhar={adhar},passport={passport},voterid={voterid}\")\n",
    "registration(\"vedhanvesh\")# positional arguments\n",
    "registration(\"jayaram\",4,None,None,None,\"voter_1223\") # positional arguments\n",
    "registration(voterid=\"voter_1234\",name=\"jayaram\")# keyword arguments\n",
    "registration(\"jayaram\",4,adhar=\"adhar_123\",voterid=\"voter_1234\")"
   ]
  },
  {
   "cell_type": "code",
   "execution_count": 22,
   "metadata": {},
   "outputs": [
    {
     "ename": "TypeError",
     "evalue": "registration() got an unexpected keyword argument 'mobile'",
     "output_type": "error",
     "traceback": [
      "\u001b[1;31m---------------------------------------------------------------------------\u001b[0m",
      "\u001b[1;31mTypeError\u001b[0m                                 Traceback (most recent call last)",
      "\u001b[1;32m<ipython-input-22-e3ebdc9237b9>\u001b[0m in \u001b[0;36m<module>\u001b[1;34m\u001b[0m\n\u001b[0;32m      1\u001b[0m \u001b[1;32mdef\u001b[0m \u001b[0mregistration\u001b[0m\u001b[1;33m(\u001b[0m\u001b[0mname\u001b[0m\u001b[1;33m,\u001b[0m\u001b[0mage\u001b[0m\u001b[1;33m=\u001b[0m\u001b[1;32mNone\u001b[0m\u001b[1;33m,\u001b[0m\u001b[0mpan\u001b[0m\u001b[1;33m=\u001b[0m\u001b[1;32mNone\u001b[0m\u001b[1;33m,\u001b[0m\u001b[0madhar\u001b[0m\u001b[1;33m=\u001b[0m\u001b[1;32mNone\u001b[0m\u001b[1;33m,\u001b[0m\u001b[0mpassport\u001b[0m\u001b[1;33m=\u001b[0m\u001b[1;32mNone\u001b[0m\u001b[1;33m,\u001b[0m\u001b[0mvoterid\u001b[0m\u001b[1;33m=\u001b[0m\u001b[1;32mNone\u001b[0m\u001b[1;33m)\u001b[0m\u001b[1;33m:\u001b[0m\u001b[1;33m\u001b[0m\u001b[1;33m\u001b[0m\u001b[0m\n\u001b[0;32m      2\u001b[0m     \u001b[0mprint\u001b[0m\u001b[1;33m(\u001b[0m\u001b[1;34mf\"name={name},age={age},pan={pan},adhar={adhar},passport={passport},voterid={voterid}\"\u001b[0m\u001b[1;33m)\u001b[0m\u001b[1;33m\u001b[0m\u001b[1;33m\u001b[0m\u001b[0m\n\u001b[1;32m----> 3\u001b[1;33m \u001b[0mregistration\u001b[0m\u001b[1;33m(\u001b[0m\u001b[1;34m\"jayaram\"\u001b[0m\u001b[1;33m,\u001b[0m\u001b[1;36m4\u001b[0m\u001b[1;33m,\u001b[0m\u001b[0madhar\u001b[0m\u001b[1;33m=\u001b[0m\u001b[1;34m\"adhar_123\"\u001b[0m\u001b[1;33m,\u001b[0m\u001b[0mvoterid\u001b[0m\u001b[1;33m=\u001b[0m\u001b[1;34m\"voter_1234\"\u001b[0m\u001b[1;33m,\u001b[0m\u001b[0mmobile\u001b[0m\u001b[1;33m=\u001b[0m\u001b[1;34m\"9676622023\"\u001b[0m\u001b[1;33m,\u001b[0m\u001b[0memail\u001b[0m\u001b[1;33m=\u001b[0m\u001b[1;34m\"jay@gmail.com\"\u001b[0m\u001b[1;33m)\u001b[0m\u001b[1;33m\u001b[0m\u001b[1;33m\u001b[0m\u001b[0m\n\u001b[0m",
      "\u001b[1;31mTypeError\u001b[0m: registration() got an unexpected keyword argument 'mobile'"
     ]
    }
   ],
   "source": [
    "def registration(name,age=None,pan=None,adhar=None,passport=None,voterid=None):\n",
    "    print(f\"name={name},age={age},pan={pan},adhar={adhar},passport={passport},voterid={voterid}\")\n",
    "registration(\"jayaram\",4,adhar=\"adhar_123\",voterid=\"voter_1234\",mobile=\"9676622023\",email=\"jay@gmail.com\")"
   ]
  },
  {
   "cell_type": "code",
   "execution_count": 23,
   "metadata": {},
   "outputs": [
    {
     "ename": "TypeError",
     "evalue": "registration() got an unexpected keyword argument 'mobile'",
     "output_type": "error",
     "traceback": [
      "\u001b[1;31m---------------------------------------------------------------------------\u001b[0m",
      "\u001b[1;31mTypeError\u001b[0m                                 Traceback (most recent call last)",
      "\u001b[1;32m<ipython-input-23-2d4fe39c7463>\u001b[0m in \u001b[0;36m<module>\u001b[1;34m\u001b[0m\n\u001b[0;32m      2\u001b[0m     \u001b[0mprint\u001b[0m\u001b[1;33m(\u001b[0m\u001b[1;34mf\"name={name},age={age},pan={pan},adhar={adhar},passport={passport},voterid={voterid}\"\u001b[0m\u001b[1;33m)\u001b[0m\u001b[1;33m\u001b[0m\u001b[1;33m\u001b[0m\u001b[0m\n\u001b[0;32m      3\u001b[0m     \u001b[0mprint\u001b[0m\u001b[1;33m(\u001b[0m\u001b[1;34mf\"data={data}\"\u001b[0m\u001b[1;33m)\u001b[0m\u001b[1;33m\u001b[0m\u001b[1;33m\u001b[0m\u001b[0m\n\u001b[1;32m----> 4\u001b[1;33m \u001b[0mregistration\u001b[0m\u001b[1;33m(\u001b[0m\u001b[1;34m\"jayaram\"\u001b[0m\u001b[1;33m,\u001b[0m\u001b[1;36m4\u001b[0m\u001b[1;33m,\u001b[0m\u001b[0madhar\u001b[0m\u001b[1;33m=\u001b[0m\u001b[1;34m\"adhar_123\"\u001b[0m\u001b[1;33m,\u001b[0m\u001b[0mvoterid\u001b[0m\u001b[1;33m=\u001b[0m\u001b[1;34m\"voter_1234\"\u001b[0m\u001b[1;33m,\u001b[0m\u001b[0mmobile\u001b[0m\u001b[1;33m=\u001b[0m\u001b[1;34m\"9676622023\"\u001b[0m\u001b[1;33m,\u001b[0m\u001b[0memail\u001b[0m\u001b[1;33m=\u001b[0m\u001b[1;34m\"jay@gmail.com\"\u001b[0m\u001b[1;33m)\u001b[0m\u001b[1;33m\u001b[0m\u001b[1;33m\u001b[0m\u001b[0m\n\u001b[0m",
      "\u001b[1;31mTypeError\u001b[0m: registration() got an unexpected keyword argument 'mobile'"
     ]
    }
   ],
   "source": [
    "def registration(name,age=None,pan=None,adhar=None,passport=None,voterid=None,*data):\n",
    "    print(f\"name={name},age={age},pan={pan},adhar={adhar},passport={passport},voterid={voterid}\")\n",
    "    print(f\"data={data}\")\n",
    "registration(\"jayaram\",4,adhar=\"adhar_123\",voterid=\"voter_1234\",mobile=\"9676622023\",email=\"jay@gmail.com\")"
   ]
  },
  {
   "cell_type": "code",
   "execution_count": 24,
   "metadata": {},
   "outputs": [
    {
     "name": "stdout",
     "output_type": "stream",
     "text": [
      "name=jayaram,age=4,pan=None,adhar=adhar_123,passport=None,voterid=voter_1234\n",
      "data=()\n",
      "context={'mobile': '9676622023', 'email': 'jay@gmail.com'}\n"
     ]
    }
   ],
   "source": [
    "def registration(name,age=None,pan=None,adhar=None,passport=None,voterid=None,*data,**context): #**kwargs\n",
    "    print(f\"name={name},age={age},pan={pan},adhar={adhar},passport={passport},voterid={voterid}\")\n",
    "    print(f\"data={data}\")\n",
    "    print(f\"context={context}\")\n",
    "registration(\"jayaram\",4,adhar=\"adhar_123\",voterid=\"voter_1234\",mobile=\"9676622023\",email=\"jay@gmail.com\")"
   ]
  },
  {
   "cell_type": "code",
   "execution_count": 25,
   "metadata": {},
   "outputs": [
    {
     "name": "stdout",
     "output_type": "stream",
     "text": [
      "name=jayaram,age=4,pan=None,adhar=adhar_123,passport=None,voterid=voter_1234\n",
      "data=()\n",
      "context={'mobile': '9676622023', 'email': 'jay@gmail.com'}\n",
      "name=jayaram,age=4,pan=None,adhar=adhar_123,passport=None,voterid=voter_1234\n",
      "data=('9676622023', 'jay2gmail.com')\n",
      "context={}\n"
     ]
    }
   ],
   "source": [
    "def registration(name,age=None,pan=None,adhar=None,passport=None,voterid=None,*data,**context): #**kwargs\n",
    "    print(f\"name={name},age={age},pan={pan},adhar={adhar},passport={passport},voterid={voterid}\")\n",
    "    print(f\"data={data}\")\n",
    "    print(f\"context={context}\")\n",
    "registration(\"jayaram\",4,adhar=\"adhar_123\",voterid=\"voter_1234\",mobile=\"9676622023\",email=\"jay@gmail.com\")\n",
    "registration(\"jayaram\",4,None,\"adhar_123\",None,\"voter_1234\",\"9676622023\",\"jay2gmail.com\")"
   ]
  },
  {
   "cell_type": "code",
   "execution_count": null,
   "metadata": {},
   "outputs": [],
   "source": [
    "def fun(a,b,c=0,d,*data,**context):\n",
    "    print(f\"a={a},b={b},c={c},d={d}\")\n",
    "    print(f\"data={data},context={context}\")\n",
    "fun(10,20)"
   ]
  },
  {
   "cell_type": "code",
   "execution_count": 1,
   "metadata": {},
   "outputs": [
    {
     "name": "stdout",
     "output_type": "stream",
     "text": [
      "a=10,b=20,c=0,d=30\n",
      "data=(),context={}\n"
     ]
    }
   ],
   "source": [
    "def fun(a,b,d,c=0,*data,**context):\n",
    "    print(f\"a={a},b={b},c={c},d={d}\")\n",
    "    print(f\"data={data},context={context}\")\n",
    "fun(10,20,30)"
   ]
  },
  {
   "cell_type": "code",
   "execution_count": 2,
   "metadata": {},
   "outputs": [
    {
     "ename": "SyntaxError",
     "evalue": "invalid syntax (<ipython-input-2-4054bd245955>, line 1)",
     "output_type": "error",
     "traceback": [
      "\u001b[1;36m  File \u001b[1;32m\"<ipython-input-2-4054bd245955>\"\u001b[1;36m, line \u001b[1;32m1\u001b[0m\n\u001b[1;33m    def fun(a,b,d,c=0,**context,*data):\u001b[0m\n\u001b[1;37m                                ^\u001b[0m\n\u001b[1;31mSyntaxError\u001b[0m\u001b[1;31m:\u001b[0m invalid syntax\n"
     ]
    }
   ],
   "source": [
    "def fun(a,b,d,c=0,**context,*data):\n",
    "    print(f\"a={a},b={b},c={c},d={d}\")\n",
    "    print(f\"data={data},context={context}\")\n",
    "fun(10,20,30)"
   ]
  },
  {
   "cell_type": "code",
   "execution_count": 3,
   "metadata": {},
   "outputs": [
    {
     "name": "stdout",
     "output_type": "stream",
     "text": [
      "a=10,b=20,c=0,d=30\n",
      "data=(),context={}\n"
     ]
    }
   ],
   "source": [
    "def fun(a,b,d,*data, c=0,**context):\n",
    "    print(f\"a={a},b={b},c={c},d={d}\")\n",
    "    print(f\"data={data},context={context}\")\n",
    "fun(10,20,30)"
   ]
  },
  {
   "cell_type": "code",
   "execution_count": 4,
   "metadata": {},
   "outputs": [
    {
     "name": "stdout",
     "output_type": "stream",
     "text": [
      "a=10,b=20,c=0,d=30\n",
      "data=(40, 50, 60, 70),context={}\n"
     ]
    }
   ],
   "source": [
    "def fun(a,b,d,*data, c=0,**context):\n",
    "    print(f\"a={a},b={b},c={c},d={d}\")\n",
    "    print(f\"data={data},context={context}\")\n",
    "fun(10,20,30,40,50,60,70)"
   ]
  },
  {
   "cell_type": "code",
   "execution_count": 5,
   "metadata": {},
   "outputs": [
    {
     "name": "stdout",
     "output_type": "stream",
     "text": [
      "a=10,b=20,c=60,d=30\n",
      "data=(40, 50, 60, 70),context={}\n"
     ]
    }
   ],
   "source": [
    "def fun(a,b,d,*data, c=0,**context):\n",
    "    print(f\"a={a},b={b},c={c},d={d}\")\n",
    "    print(f\"data={data},context={context}\")\n",
    "fun(10,20,30,40,50,60,70,c=60)"
   ]
  },
  {
   "cell_type": "code",
   "execution_count": null,
   "metadata": {},
   "outputs": [],
   "source": [
    "def fun(a,b,d,c=0,*data, **context):\n",
    "    print(f\"a={a},b={b},c={c},d={d}\")\n",
    "    print(f\"data={data},context={context}\")\n",
    "fun(10,20,30,40,50,60,70,c=60)"
   ]
  },
  {
   "cell_type": "code",
   "execution_count": 6,
   "metadata": {},
   "outputs": [
    {
     "ename": "TypeError",
     "evalue": "fun() got multiple values for argument 'c'",
     "output_type": "error",
     "traceback": [
      "\u001b[1;31m---------------------------------------------------------------------------\u001b[0m",
      "\u001b[1;31mTypeError\u001b[0m                                 Traceback (most recent call last)",
      "\u001b[1;32m<ipython-input-6-b16cbd36cbeb>\u001b[0m in \u001b[0;36m<module>\u001b[1;34m\u001b[0m\n\u001b[0;32m      2\u001b[0m     \u001b[0mprint\u001b[0m\u001b[1;33m(\u001b[0m\u001b[1;34mf\"a={a},b={b},c={c},d={d}\"\u001b[0m\u001b[1;33m)\u001b[0m\u001b[1;33m\u001b[0m\u001b[1;33m\u001b[0m\u001b[0m\n\u001b[0;32m      3\u001b[0m     \u001b[0mprint\u001b[0m\u001b[1;33m(\u001b[0m\u001b[1;34mf\"data={data},context={context}\"\u001b[0m\u001b[1;33m)\u001b[0m\u001b[1;33m\u001b[0m\u001b[1;33m\u001b[0m\u001b[0m\n\u001b[1;32m----> 4\u001b[1;33m \u001b[0mfun\u001b[0m\u001b[1;33m(\u001b[0m\u001b[1;36m10\u001b[0m\u001b[1;33m,\u001b[0m\u001b[1;36m20\u001b[0m\u001b[1;33m,\u001b[0m\u001b[1;36m30\u001b[0m\u001b[1;33m,\u001b[0m\u001b[1;36m40\u001b[0m\u001b[1;33m,\u001b[0m\u001b[1;36m50\u001b[0m\u001b[1;33m,\u001b[0m\u001b[1;36m60\u001b[0m\u001b[1;33m,\u001b[0m\u001b[1;36m70\u001b[0m\u001b[1;33m,\u001b[0m\u001b[0mc\u001b[0m\u001b[1;33m=\u001b[0m\u001b[1;36m60\u001b[0m\u001b[1;33m)\u001b[0m\u001b[1;33m\u001b[0m\u001b[1;33m\u001b[0m\u001b[0m\n\u001b[0m",
      "\u001b[1;31mTypeError\u001b[0m: fun() got multiple values for argument 'c'"
     ]
    }
   ],
   "source": [
    "def fun(a,b,d,c=0,*data, **context):\n",
    "    print(f\"a={a},b={b},c={c},d={d}\")\n",
    "    print(f\"data={data},context={context}\")\n",
    "fun(10,20,30,40,50,60,70,c=60)"
   ]
  },
  {
   "cell_type": "code",
   "execution_count": 7,
   "metadata": {},
   "outputs": [
    {
     "name": "stdout",
     "output_type": "stream",
     "text": [
      "a=10,b=20,c=40,d=30\n",
      "data=(50, 60, 70),context={}\n"
     ]
    }
   ],
   "source": [
    "def fun(a,b,d,c=0,*data, **context):\n",
    "    print(f\"a={a},b={b},c={c},d={d}\")\n",
    "    print(f\"data={data},context={context}\")\n",
    "fun(10,20,30,40,50,60,70)"
   ]
  },
  {
   "cell_type": "code",
   "execution_count": 1,
   "metadata": {},
   "outputs": [
    {
     "name": "stdout",
     "output_type": "stream",
     "text": [
      "hello\n",
      "result= 10\n"
     ]
    }
   ],
   "source": [
    "def fun():\n",
    "    print(\"hello\")\n",
    "    return 10\n",
    "    print(\"hi\")\n",
    "    return 20\n",
    "res=fun()\n",
    "print(\"result=\",res)"
   ]
  },
  {
   "cell_type": "code",
   "execution_count": 2,
   "metadata": {},
   "outputs": [
    {
     "name": "stdout",
     "output_type": "stream",
     "text": [
      "hello\n",
      "hi\n",
      "result= 20\n",
      "hello\n",
      "result= 10\n"
     ]
    }
   ],
   "source": [
    "def fun(x):\n",
    "    print(\"hello\")\n",
    "    if x==2:\n",
    "        return 10\n",
    "    print(\"hi\")\n",
    "    if x==3:\n",
    "        return 20\n",
    "res=fun(3)\n",
    "print(\"result=\",res)\n",
    "res=fun(2)\n",
    "print(\"result=\",res)"
   ]
  },
  {
   "cell_type": "code",
   "execution_count": 3,
   "metadata": {},
   "outputs": [
    {
     "name": "stdout",
     "output_type": "stream",
     "text": [
      "resul= Divisible\n",
      "result= not divisible\n"
     ]
    }
   ],
   "source": [
    "# write a function to check the the number is divisible by gievn nuber or not\n",
    "#10,5:   divisible: 10%5-->0 \n",
    "#10,3:  not divisible: 10%3-->1\n",
    "def fun(x,y):\n",
    "    if x%y==0:\n",
    "        return \"Divisible\"\n",
    "    else:\n",
    "        return \"not divisible\"\n",
    "res=fun(10,5)\n",
    "print(\"resul=\",res)\n",
    "res=fun(10,3)\n",
    "print(\"result=\",res)"
   ]
  },
  {
   "cell_type": "code",
   "execution_count": null,
   "metadata": {},
   "outputs": [],
   "source": [
    "# write a function to check given number is divisible by 6 or not."
   ]
  }
 ],
 "metadata": {
  "kernelspec": {
   "display_name": "Python 3",
   "language": "python",
   "name": "python3"
  },
  "language_info": {
   "codemirror_mode": {
    "name": "ipython",
    "version": 3
   },
   "file_extension": ".py",
   "mimetype": "text/x-python",
   "name": "python",
   "nbconvert_exporter": "python",
   "pygments_lexer": "ipython3",
   "version": "3.8.3"
  }
 },
 "nbformat": 4,
 "nbformat_minor": 4
}
