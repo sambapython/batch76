{
 "cells": [
  {
   "cell_type": "code",
   "execution_count": 1,
   "metadata": {},
   "outputs": [
    {
     "name": "stdout",
     "output_type": "stream",
     "text": [
      "hello\n"
     ]
    }
   ],
   "source": [
    "print(\"hello\")"
   ]
  },
  {
   "cell_type": "code",
   "execution_count": 1,
   "metadata": {},
   "outputs": [],
   "source": [
    "a=1000\n",
    "b=2000\n",
    "c=a+b\n",
    "# we are not defining references here.\n",
    "# we are not associating references to perticula data type\n",
    "# here a refered to inteer object.\n",
    "a=\"python\"\n",
    "# The object of a can be changed to string data type.\n",
    "# this we call it as dynnamic type."
   ]
  },
  {
   "cell_type": "code",
   "execution_count": 2,
   "metadata": {},
   "outputs": [],
   "source": [
    "a=[1,2,3,4]\n",
    "b=[10,20,30,40,50,60,60,70]\n",
    "# are we defining the size of the list ? No. so it can adjust the memory based on the elements given.\n"
   ]
  },
  {
   "cell_type": "code",
   "execution_count": 3,
   "metadata": {},
   "outputs": [
    {
     "data": {
      "text/plain": [
       "'\\nIn the exeution phase the process will divided in to two threads:\\n    1. Main thread, which execute the code\\n    2. GC(garbage collector). This thread will hit the RAM in frequent intervals and look for the object which has RC=0.\\n    1000 will removed by GC from memory\\n'"
      ]
     },
     "execution_count": 3,
     "metadata": {},
     "output_type": "execute_result"
    }
   ],
   "source": [
    "a=1000 # it will store 1000 object in the heap memory. RC=1\n",
    "a=2000 # it will store 2000 object in the heap memory. RC=1\n",
    "# what is the RC value of 1000 now? RC=0. The link b/w a and 1000 removed when it's associate to 2000. that's why\n",
    "# RC value of 1000 is ZERO.\n",
    "\"\"\"\n",
    "In the exeution phase the process will divided in to two threads:\n",
    "    1. Main thread, which execute the code\n",
    "    2. GC(garbage collector). This thread will hit the RAM in frequent intervals and look for the object which has RC=0.\n",
    "    1000 will removed by GC from memory\n",
    "\"\"\""
   ]
  },
  {
   "cell_type": "code",
   "execution_count": 4,
   "metadata": {},
   "outputs": [
    {
     "name": "stdout",
     "output_type": "stream",
     "text": [
      "1000\n",
      "2000\n"
     ]
    }
   ],
   "source": [
    "a=1000\n",
    "print(a)\n",
    "b=2000\n",
    "a=2000\n",
    "print(a)\n"
   ]
  },
  {
   "cell_type": "code",
   "execution_count": 5,
   "metadata": {},
   "outputs": [
    {
     "name": "stdout",
     "output_type": "stream",
     "text": [
      "1000\n",
      "2000\n"
     ]
    }
   ],
   "source": [
    "a=1000\n",
    "print(a)\n",
    "b=2000\n",
    "a=2000\n",
    "print(a)\n",
    "# can i gewt 1000 now in to my program?.NO because we dont have reference to get it.\n",
    "# 1000 object is now unused, that's why it's removed by GC.\n",
    "# this process we call it as AUTOMATIC MEMORY MANAGEMENT.\n"
   ]
  },
  {
   "cell_type": "code",
   "execution_count": null,
   "metadata": {},
   "outputs": [],
   "source": [
    "# It will support scalability\n",
    "# it's very easy to learn\n",
    "# it will support oops\n",
    "# it will support threading.\n"
   ]
  },
  {
   "cell_type": "code",
   "execution_count": 6,
   "metadata": {},
   "outputs": [],
   "source": [
    "# scalalbilty.\n",
    "# we are started a small project, consider that we are expected 10 users are going to hit our software a day.\n",
    "# but all of sudden, our concept accepted most of the people in the world. they are expecting more features.\n",
    "# written 1000 lines of code.\n",
    "# bought two servers from amazon"
   ]
  },
  {
   "cell_type": "code",
   "execution_count": 7,
   "metadata": {},
   "outputs": [],
   "source": [
    "# it's very easy to learn."
   ]
  },
  {
   "cell_type": "code",
   "execution_count": null,
   "metadata": {},
   "outputs": [],
   "source": []
  }
 ],
 "metadata": {
  "kernelspec": {
   "display_name": "Python 3",
   "language": "python",
   "name": "python3"
  },
  "language_info": {
   "codemirror_mode": {
    "name": "ipython",
    "version": 3
   },
   "file_extension": ".py",
   "mimetype": "text/x-python",
   "name": "python",
   "nbconvert_exporter": "python",
   "pygments_lexer": "ipython3",
   "version": "3.8.3"
  }
 },
 "nbformat": 4,
 "nbformat_minor": 4
}
