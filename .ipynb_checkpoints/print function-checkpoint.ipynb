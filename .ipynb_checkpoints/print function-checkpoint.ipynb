{
 "cells": [
  {
   "cell_type": "code",
   "execution_count": 1,
   "metadata": {},
   "outputs": [
    {
     "name": "stdout",
     "output_type": "stream",
     "text": [
      "2855542420848 1000\n",
      "2855542420944 1000\n"
     ]
    }
   ],
   "source": [
    "a=1000\n",
    "b=1000\n",
    "print(id(a),a)\n",
    "print(id(b),b)"
   ]
  },
  {
   "cell_type": "code",
   "execution_count": 2,
   "metadata": {},
   "outputs": [
    {
     "name": "stdout",
     "output_type": "stream",
     "text": [
      "2855542421264 1000\n",
      "2855542421264 1000\n"
     ]
    }
   ],
   "source": [
    "a=1000\n",
    "b=a\n",
    "print(id(a),a)\n",
    "print(id(b),b)"
   ]
  },
  {
   "cell_type": "code",
   "execution_count": 3,
   "metadata": {},
   "outputs": [
    {
     "name": "stdout",
     "output_type": "stream",
     "text": [
      "[1, 2, 3, 4] [1, 2, 3, 4]\n"
     ]
    }
   ],
   "source": [
    "a=[1,2,3,4]\n",
    "b=a\n",
    "print(a,b)"
   ]
  },
  {
   "cell_type": "code",
   "execution_count": 4,
   "metadata": {},
   "outputs": [
    {
     "name": "stdout",
     "output_type": "stream",
     "text": [
      "[1, 2, 3, 4, 100]\n",
      "[1, 2, 3, 4, 100]\n"
     ]
    }
   ],
   "source": [
    "a=[1,2,3,4]\n",
    "b=a\n",
    "a.append(100)\n",
    "print(a)\n",
    "print(b)"
   ]
  },
  {
   "cell_type": "code",
   "execution_count": 5,
   "metadata": {},
   "outputs": [
    {
     "name": "stdout",
     "output_type": "stream",
     "text": [
      "[1, 2, 3, 4, 100]\n",
      "[1, 2, 3, 4]\n"
     ]
    }
   ],
   "source": [
    "a=[1,2,3,4]\n",
    "b=[1,2,3,4]\n",
    "a.append(100)\n",
    "print(a)\n",
    "print(b)"
   ]
  },
  {
   "cell_type": "code",
   "execution_count": 6,
   "metadata": {},
   "outputs": [
    {
     "name": "stdout",
     "output_type": "stream",
     "text": [
      "Mi 7 10000 4GB 64GB\n"
     ]
    }
   ],
   "source": [
    "name='Mi 7'\n",
    "cost=10000\n",
    "ram_size=\"4GB\"\n",
    "internal_memory=\"64GB\"\n",
    "print(name,cost,ram_size,internal_memory)"
   ]
  },
  {
   "cell_type": "code",
   "execution_count": 8,
   "metadata": {},
   "outputs": [
    {
     "name": "stdout",
     "output_type": "stream",
     "text": [
      "Releasing the new model Mi 7 with 4GB ram and 64 gb internalmemory only Rs.10000. limited offer.\n"
     ]
    }
   ],
   "source": [
    "name='Mi 7'\n",
    "cost=10000\n",
    "ram_size=\"4GB\"\n",
    "internal_memory=\"64GB\"\n",
    "# Releasing the new model Mi 7 with 4GB ram and 64 gb internalmemory only Rs.10000. limited offer.\n",
    "print(\"Releasing the new model Mi 7 with 4GB ram and 64 gb internalmemory only Rs.10000. limited offer.\")"
   ]
  },
  {
   "cell_type": "code",
   "execution_count": 9,
   "metadata": {},
   "outputs": [
    {
     "name": "stdout",
     "output_type": "stream",
     "text": [
      "Releasing the new model Mi 7  with 4GB  and  64GB  internalmemory only Rs. 10000 . limited offer.\n"
     ]
    }
   ],
   "source": [
    "name='Mi 7'\n",
    "cost=10000\n",
    "ram_size=\"4GB\"\n",
    "internal_memory=\"64GB\"\n",
    "# Releasing the new model Mi 7 with 4GB ram and 64 gb internalmemory only Rs.10000. limited offer.\n",
    "print(\"Releasing the new model\",name,\" with\",ram_size,\" and \",internal_memory,\" internalmemory only Rs.\",cost,\". limited offer.\")"
   ]
  },
  {
   "cell_type": "code",
   "execution_count": 16,
   "metadata": {},
   "outputs": [
    {
     "name": "stdout",
     "output_type": "stream",
     "text": [
      "Releasing the new model Mi 7 with 4GB and 64GB internalmemory only Rs. 10000 . limited offer.\n",
      "Releasing the new model Mi 7 with 4GB and 64GB internalmemory only Rs. 10000 . limited offer.\n"
     ]
    }
   ],
   "source": [
    "name='Mi 7'\n",
    "cost=10000\n",
    "ram_size=\"4GB\"\n",
    "internal_memory=\"64GB\"\n",
    "# Releasing the new model Mi 7 with 4GB ram and 64 gb internalmemory only Rs.10000. limited offer.\n",
    "print(\"Releasing the new model\",name,\"with\",ram_size,\"and\",internal_memory,\"internalmemory only Rs.\",cost,\". limited offer.\")\n",
    "print(f\"Releasing the new model {name} with {ram_size} and {internal_memory} internalmemory only Rs. {cost} . limited offer.\")\n",
    "# fstring or template strings."
   ]
  },
  {
   "cell_type": "code",
   "execution_count": 18,
   "metadata": {},
   "outputs": [
    {
     "name": "stdout",
     "output_type": "stream",
     "text": [
      "10 apple\n"
     ]
    }
   ],
   "source": [
    "a=10\n",
    "name=\"apple\"\n",
    "print(a,name)"
   ]
  },
  {
   "cell_type": "code",
   "execution_count": 20,
   "metadata": {},
   "outputs": [
    {
     "name": "stdout",
     "output_type": "stream",
     "text": [
      "10:apple\n"
     ]
    }
   ],
   "source": [
    "a=10\n",
    "name=\"apple\"\n",
    "print(a,name,sep=\":\")"
   ]
  },
  {
   "cell_type": "code",
   "execution_count": 21,
   "metadata": {},
   "outputs": [
    {
     "name": "stdout",
     "output_type": "stream",
     "text": [
      "10apple\n"
     ]
    }
   ],
   "source": [
    "a=10\n",
    "name=\"apple\"\n",
    "print(a,name,sep=\"\")"
   ]
  },
  {
   "cell_type": "code",
   "execution_count": 22,
   "metadata": {},
   "outputs": [
    {
     "name": "stdout",
     "output_type": "stream",
     "text": [
      "Releasing the new model Mi 7 with 4GB and 64GB internalmemory only Rs. 10000 . limited offer.\n",
      "Releasing the new model Mi 7 with 4GB and 64GB internalmemory only Rs. 10000 . limited offer.\n",
      "Releasing the new model %s with %s and %s internalmemory only Rs. %s . limited offer. ('Mi 7', '4GB', '64GB', 10000)\n"
     ]
    }
   ],
   "source": [
    "name='Mi 7'\n",
    "cost=10000\n",
    "ram_size=\"4GB\"\n",
    "internal_memory=\"64GB\"\n",
    "# Releasing the new model Mi 7 with 4GB ram and 64 gb internalmemory only Rs.10000. limited offer.\n",
    "print(\"Releasing the new model\",name,\"with\",ram_size,\"and\",internal_memory,\"internalmemory only Rs.\",cost,\". limited offer.\")\n",
    "print(f\"Releasing the new model {name} with {ram_size} and {internal_memory} internalmemory only Rs. {cost} . limited offer.\")\n",
    "# fstring or template strings.\n",
    "#format specifiers\n",
    "print(f\"Releasing the new model %s with %s and %s internalmemory only Rs. %s . limited offer.\",(name, ram_size,internal_memory,cost))"
   ]
  },
  {
   "cell_type": "code",
   "execution_count": 23,
   "metadata": {},
   "outputs": [
    {
     "name": "stdout",
     "output_type": "stream",
     "text": [
      "Releasing the new model Mi 7 with 4GB and 64GB internalmemory only Rs. 10000 . limited offer.\n",
      "Releasing the new model Mi 7 with 4GB and 64GB internalmemory only Rs. 10000 . limited offer.\n",
      "Releasing the new model Mi 7 with 4GB and 64GB internalmemory only Rs. 10000 . limited offer.\n"
     ]
    }
   ],
   "source": [
    "name='Mi 7'\n",
    "cost=10000\n",
    "ram_size=\"4GB\"\n",
    "internal_memory=\"64GB\"\n",
    "# Releasing the new model Mi 7 with 4GB ram and 64 gb internalmemory only Rs.10000. limited offer.\n",
    "print(\"Releasing the new model\",name,\"with\",ram_size,\"and\",internal_memory,\"internalmemory only Rs.\",cost,\". limited offer.\")\n",
    "print(f\"Releasing the new model {name} with {ram_size} and {internal_memory} internalmemory only Rs. {cost} . limited offer.\")\n",
    "# fstring or template strings.\n",
    "#format specifiers\n",
    "print(\"Releasing the new model %s with %s and %s internalmemory only Rs. %s . limited offer.\"%(name, ram_size,internal_memory,cost))"
   ]
  },
  {
   "cell_type": "code",
   "execution_count": 24,
   "metadata": {},
   "outputs": [
    {
     "name": "stdout",
     "output_type": "stream",
     "text": [
      "apple:10.234567\n"
     ]
    }
   ],
   "source": [
    "name=\"apple\"\n",
    "cost=10.234567\n",
    "print(\"%s:%s\"%(name,cost))"
   ]
  },
  {
   "cell_type": "code",
   "execution_count": 25,
   "metadata": {},
   "outputs": [
    {
     "name": "stdout",
     "output_type": "stream",
     "text": [
      "apple:10\n"
     ]
    }
   ],
   "source": [
    "name=\"apple\"\n",
    "cost=10.234567\n",
    "print(\"%s:%d\"%(name,cost))"
   ]
  },
  {
   "cell_type": "code",
   "execution_count": 27,
   "metadata": {},
   "outputs": [
    {
     "name": "stdout",
     "output_type": "stream",
     "text": [
      "apple:10.234567\n"
     ]
    }
   ],
   "source": [
    "name=\"apple\"\n",
    "cost=10.234567353466\n",
    "print(\"%s:%f\"%(name,cost))"
   ]
  },
  {
   "cell_type": "code",
   "execution_count": 28,
   "metadata": {},
   "outputs": [
    {
     "name": "stdout",
     "output_type": "stream",
     "text": [
      "apple:10.234568\n"
     ]
    }
   ],
   "source": [
    "name=\"apple\"\n",
    "cost=10.234567653466\n",
    "print(\"%s:%f\"%(name,cost))"
   ]
  },
  {
   "cell_type": "code",
   "execution_count": 29,
   "metadata": {},
   "outputs": [
    {
     "name": "stdout",
     "output_type": "stream",
     "text": [
      "apple:10.23\n"
     ]
    }
   ],
   "source": [
    "name=\"apple\"\n",
    "cost=10.234567653466\n",
    "print(\"%s:%.2f\"%(name,cost))"
   ]
  },
  {
   "cell_type": "code",
   "execution_count": 30,
   "metadata": {},
   "outputs": [
    {
     "data": {
      "text/plain": [
       "20"
      ]
     },
     "execution_count": 30,
     "metadata": {},
     "output_type": "execute_result"
    }
   ],
   "source": [
    "g1=10\n",
    "g2=20\n",
    "g3=7\n",
    "g4=5\n",
    "max([g1,g2,g3,g4])"
   ]
  },
  {
   "cell_type": "code",
   "execution_count": 31,
   "metadata": {},
   "outputs": [
    {
     "data": {
      "text/plain": [
       "5"
      ]
     },
     "execution_count": 31,
     "metadata": {},
     "output_type": "execute_result"
    }
   ],
   "source": [
    "g1=10\n",
    "g2=20\n",
    "g3=7\n",
    "g4=5\n",
    "min([g1,g2,g3,g4])"
   ]
  },
  {
   "cell_type": "code",
   "execution_count": 32,
   "metadata": {},
   "outputs": [
    {
     "data": {
      "text/plain": [
       "42"
      ]
     },
     "execution_count": 32,
     "metadata": {},
     "output_type": "execute_result"
    }
   ],
   "source": [
    "g1=10\n",
    "g2=20\n",
    "g3=7\n",
    "g4=5\n",
    "sum([g1,g2,g3,g4])"
   ]
  },
  {
   "cell_type": "code",
   "execution_count": 33,
   "metadata": {},
   "outputs": [
    {
     "data": {
      "text/plain": [
       "4"
      ]
     },
     "execution_count": 33,
     "metadata": {},
     "output_type": "execute_result"
    }
   ],
   "source": [
    "g1=10\n",
    "g2=20\n",
    "g3=7\n",
    "g4=5\n",
    "len([g1,g2,g3,g4])"
   ]
  },
  {
   "cell_type": "code",
   "execution_count": 34,
   "metadata": {},
   "outputs": [
    {
     "data": {
      "text/plain": [
       "10.5"
      ]
     },
     "execution_count": 34,
     "metadata": {},
     "output_type": "execute_result"
    }
   ],
   "source": [
    "g1=10\n",
    "g2=20\n",
    "g3=7\n",
    "g4=5\n",
    "sum([g1,g2,g3,g4])/len([g1,g2,g3,g4])"
   ]
  },
  {
   "cell_type": "code",
   "execution_count": null,
   "metadata": {},
   "outputs": [],
   "source": []
  }
 ],
 "metadata": {
  "kernelspec": {
   "display_name": "Python 3",
   "language": "python",
   "name": "python3"
  },
  "language_info": {
   "codemirror_mode": {
    "name": "ipython",
    "version": 3
   },
   "file_extension": ".py",
   "mimetype": "text/x-python",
   "name": "python",
   "nbconvert_exporter": "python",
   "pygments_lexer": "ipython3",
   "version": "3.8.3"
  }
 },
 "nbformat": 4,
 "nbformat_minor": 4
}
