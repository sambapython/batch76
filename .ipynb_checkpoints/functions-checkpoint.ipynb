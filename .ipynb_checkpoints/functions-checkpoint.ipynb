{
 "cells": [
  {
   "cell_type": "code",
   "execution_count": 1,
   "metadata": {},
   "outputs": [
    {
     "name": "stdout",
     "output_type": "stream",
     "text": [
      "Enter a value:12\n",
      "Enter v value:13\n",
      "25.0\n",
      "Enter a value:14\n",
      "Enter v value:15\n",
      "29.0\n",
      "Enter a value:16\n",
      "Enter v value:17\n",
      "33.0\n",
      "Enter a value:18\n",
      "Enter v value:19\n",
      "37.0\n",
      "Enter a value:23\n",
      "Enter v value:24\n",
      "47.0\n"
     ]
    }
   ],
   "source": [
    "for i in range(5):\n",
    "    a=float(input(\"Enter a value:\"))\n",
    "    b=float(input(\"Enter v value:\"))\n",
    "    print(a+b)"
   ]
  },
  {
   "cell_type": "code",
   "execution_count": 2,
   "metadata": {},
   "outputs": [
    {
     "name": "stdout",
     "output_type": "stream",
     "text": [
      "Enter a value:12\n",
      "Enter v value:23\n",
      "12.0+23.0=35.0\n",
      "Enter a value:334\n",
      "Enter v value:34\n",
      "334.0+34.0=368.0\n",
      "Enter a value:343\n",
      "Enter v value:4\n",
      "343.0+4.0=347.0\n",
      "Enter a value:34\n",
      "Enter v value:34\n",
      "68.0\n",
      "Enter a value:3\n",
      "Enter v value:4\n",
      "3.0+4.0=7.0\n"
     ]
    }
   ],
   "source": [
    "a=float(input(\"Enter a value:\"))\n",
    "b=float(input(\"Enter v value:\"))\n",
    "print(f\"{a}+{b}={a+b}\")\n",
    "a=float(input(\"Enter a value:\"))\n",
    "b=float(input(\"Enter v value:\"))\n",
    "print(f\"{a}+{b}={a+b}\")\n",
    "a=float(input(\"Enter a value:\"))\n",
    "b=float(input(\"Enter v value:\"))\n",
    "print(f\"{a}+{b}={a+b}\")\n",
    "a=float(input(\"Enter a value:\"))\n",
    "b=float(input(\"Enter v value:\"))\n",
    "print(a+b)\n",
    "a=float(input(\"Enter a value:\"))\n",
    "b=float(input(\"Enter v value:\"))\n",
    "print(f\"{a}+{b}={a+b}\")"
   ]
  },
  {
   "cell_type": "code",
   "execution_count": 3,
   "metadata": {},
   "outputs": [
    {
     "name": "stdout",
     "output_type": "stream",
     "text": [
      "Enter a value:1\n",
      "Enter v value:2\n",
      "1.0+2.0=3.0\n",
      "Enter a value:3\n",
      "Enter v value:4\n",
      "3.0+4.0=7.0\n"
     ]
    }
   ],
   "source": [
    "for i in range(2):\n",
    "    a=float(input(\"Enter a value:\"))\n",
    "    b=float(input(\"Enter v value:\"))\n",
    "    print(f\"{a}+{b}={a+b}\")"
   ]
  },
  {
   "cell_type": "code",
   "execution_count": 4,
   "metadata": {},
   "outputs": [],
   "source": [
    "# add product in to database\n",
    "#sales.py 3 places\n",
    "\n",
    "#pur.py\n",
    "\n",
    "#stock.py\n"
   ]
  },
  {
   "cell_type": "code",
   "execution_count": 5,
   "metadata": {},
   "outputs": [
    {
     "name": "stdout",
     "output_type": "stream",
     "text": [
      "123\n",
      "456\n",
      "789\n"
     ]
    }
   ],
   "source": [
    "print(\"123\")\n",
    "print(\"456\")\n",
    "def get():\n",
    "    print(\"10\")\n",
    "print(\"789\")"
   ]
  },
  {
   "cell_type": "code",
   "execution_count": 6,
   "metadata": {},
   "outputs": [
    {
     "name": "stdout",
     "output_type": "stream",
     "text": [
      "123\n",
      "456\n",
      "789\n",
      "10\n"
     ]
    }
   ],
   "source": [
    "print(\"123\")\n",
    "print(\"456\")\n",
    "# function\n",
    "def get(): # signature\n",
    "    # function body\n",
    "    print(\"10\")\n",
    "print(\"789\")\n",
    "get() # function call"
   ]
  },
  {
   "cell_type": "code",
   "execution_count": 7,
   "metadata": {},
   "outputs": [
    {
     "name": "stdout",
     "output_type": "stream",
     "text": [
      "123\n",
      "456\n",
      "789\n",
      "10\n",
      "10\n",
      "10\n"
     ]
    }
   ],
   "source": [
    "print(\"123\")\n",
    "print(\"456\")\n",
    "def get(): \n",
    "    print(\"10\")\n",
    "print(\"789\")\n",
    "get() \n",
    "get()\n",
    "get()"
   ]
  },
  {
   "cell_type": "code",
   "execution_count": 8,
   "metadata": {},
   "outputs": [
    {
     "name": "stdout",
     "output_type": "stream",
     "text": [
      "1\n",
      "Enter a value:1\n",
      "Enter v value:2\n",
      "1.0+2.0=3.0\n",
      "2\n",
      "3\n",
      "Enter a value:3\n",
      "Enter v value:4\n",
      "3.0+4.0=7.0\n",
      "hello\n",
      "hi\n",
      "Enter a value:5\n",
      "Enter v value:6\n",
      "5.0+6.0=11.0\n"
     ]
    }
   ],
   "source": [
    "print(\"1\")\n",
    "a=float(input(\"Enter a value:\"))\n",
    "b=float(input(\"Enter v value:\"))\n",
    "print(f\"{a}+{b}={a+b}\")\n",
    "print(\"2\")\n",
    "print(\"3\")\n",
    "a=float(input(\"Enter a value:\"))\n",
    "b=float(input(\"Enter v value:\"))\n",
    "print(f\"{a}+{b}={a+b}\")\n",
    "print(\"hello\")\n",
    "print(\"hi\")\n",
    "a=float(input(\"Enter a value:\"))\n",
    "b=float(input(\"Enter v value:\"))\n",
    "print(f\"{a}+{b}={a+b}\")"
   ]
  },
  {
   "cell_type": "code",
   "execution_count": null,
   "metadata": {},
   "outputs": [],
   "source": [
    "def add():\n",
    "    a=float(input(\"Enter a value:\"))\n",
    "    b=float(input(\"Enter b value:\"))\n",
    "    print(f\"{a}+{b}={a+b}\")\n",
    "print(\"1\")\n",
    "print(\"2\")\n",
    "add()\n",
    "print(\"3\")\n",
    "add()\n",
    "print(\"hello\")\n",
    "print(\"hi\")\n",
    "add()"
   ]
  },
  {
   "cell_type": "code",
   "execution_count": 1,
   "metadata": {},
   "outputs": [
    {
     "name": "stdout",
     "output_type": "stream",
     "text": [
      "started\n",
      "x=10,y=20,a=1,b=200,c=300\n",
      "z=30, p=-10\n",
      "ended\n"
     ]
    }
   ],
   "source": [
    "print(\"started\")\n",
    "a=100\n",
    "b=200\n",
    "c=300\n",
    "def add(x,y):\n",
    "    a=1\n",
    "    print(f\"x={x},y={y},a={a},b={b},c={c}\")\n",
    "    z=x+y\n",
    "    p=x-y\n",
    "    print(f\"z={z}, p={p}\")\n",
    "add(10,20)\n",
    "print(\"ended\")"
   ]
  },
  {
   "cell_type": "code",
   "execution_count": 2,
   "metadata": {},
   "outputs": [
    {
     "name": "stdout",
     "output_type": "stream",
     "text": [
      "30\n",
      "3\n",
      "50\n",
      "300\n"
     ]
    }
   ],
   "source": [
    "def add(x,y): #add(10,20)\n",
    "    print(x+y)\n",
    "add(10,20)\n",
    "add(1,2)\n",
    "add(20,30)\n",
    "add(100,200)"
   ]
  },
  {
   "cell_type": "code",
   "execution_count": 3,
   "metadata": {},
   "outputs": [
    {
     "ename": "SyntaxError",
     "evalue": "invalid syntax (<ipython-input-3-90eb16ab1471>, line 1)",
     "output_type": "error",
     "traceback": [
      "\u001b[1;36m  File \u001b[1;32m\"<ipython-input-3-90eb16ab1471>\"\u001b[1;36m, line \u001b[1;32m1\u001b[0m\n\u001b[1;33m    def add(10,20): #add(10,20)\u001b[0m\n\u001b[1;37m            ^\u001b[0m\n\u001b[1;31mSyntaxError\u001b[0m\u001b[1;31m:\u001b[0m invalid syntax\n"
     ]
    }
   ],
   "source": [
    "def add(10,20): #add(10,20)\n",
    "    print(10+20)"
   ]
  },
  {
   "cell_type": "code",
   "execution_count": 4,
   "metadata": {},
   "outputs": [
    {
     "name": "stdout",
     "output_type": "stream",
     "text": [
      "30\n"
     ]
    }
   ],
   "source": [
    "print(10+20)"
   ]
  },
  {
   "cell_type": "code",
   "execution_count": 5,
   "metadata": {},
   "outputs": [
    {
     "name": "stdout",
     "output_type": "stream",
     "text": [
      "started\n",
      "x=10,y=20,a=1,b=200,c=300\n",
      "z=30, p=-10\n",
      "ended\n"
     ]
    }
   ],
   "source": [
    "print(\"started\")\n",
    "a=100\n",
    "b=200\n",
    "c=300\n",
    "def add(x,y):\n",
    "    a=1\n",
    "    print(f\"x={x},y={y},a={a},b={b},c={c}\")\n",
    "    z=x+y\n",
    "    p=x-y\n",
    "    print(f\"z={z}, p={p}\")\n",
    "add(10,20)\n",
    "print(\"ended\")"
   ]
  },
  {
   "cell_type": "code",
   "execution_count": null,
   "metadata": {},
   "outputs": [],
   "source": [
    "a=1000\n",
    "def fun(x,y):\n",
    "    print(x,y)\n",
    "    print(\"a inside the function:\",a)\n",
    "print(\"a before calling a fun:\",a)\n",
    "fun(10,20)\n",
    "print(\"a after calling a fun:\",a)\n",
    "\"\"\"\n",
    "output:\n",
    "10 20\n",
    "\"\"\""
   ]
  },
  {
   "cell_type": "code",
   "execution_count": null,
   "metadata": {},
   "outputs": [],
   "source": [
    "print(\"hello\")\n",
    "def fun():\n",
    "    print(\"hi\")\n",
    "print(\"hyderabad\")\n",
    "fun()\n",
    "print(\"banglore\")\n",
    "\"\"\"\n",
    "hello\n",
    "hyderabad\n",
    "hi\n",
    "banglore\n",
    "\"\"\""
   ]
  },
  {
   "cell_type": "code",
   "execution_count": null,
   "metadata": {},
   "outputs": [],
   "source": []
  },
  {
   "cell_type": "code",
   "execution_count": null,
   "metadata": {},
   "outputs": [],
   "source": [
    "a=1000\n",
    "def fun(x,y):\n",
    "    print(x,y)\n",
    "    print(\"a inside the function:\",a)\n",
    "print(\"a before calling a fun:\",a)\n",
    "fun(10,20)\n",
    "print(\"a after calling a fun:\",a)\n",
    "\"\"\"\n",
    "output:\n",
    "a inside the function: 1000\n",
    "\n",
    "\"\"\""
   ]
  },
  {
   "cell_type": "code",
   "execution_count": 1,
   "metadata": {},
   "outputs": [
    {
     "name": "stdout",
     "output_type": "stream",
     "text": [
      "hello\n",
      "hyderabad\n",
      "banglore\n"
     ]
    }
   ],
   "source": [
    "print(\"hello\")\n",
    "def fun():\n",
    "    print(\"hi\")\n",
    "print(\"hyderabad\")\n",
    "print(\"banglore\")"
   ]
  },
  {
   "cell_type": "code",
   "execution_count": 3,
   "metadata": {},
   "outputs": [
    {
     "name": "stdout",
     "output_type": "stream",
     "text": [
      "hello\n",
      "hyderabad\n",
      "banglore\n"
     ]
    }
   ],
   "source": [
    "print(\"hello\")\n",
    "def fun():\n",
    "    print(\"hi\")\n",
    "print(\"hyderabad\")\n",
    "print(\"banglore\")\n"
   ]
  },
  {
   "cell_type": "code",
   "execution_count": 4,
   "metadata": {},
   "outputs": [
    {
     "name": "stdout",
     "output_type": "stream",
     "text": [
      "hello\n",
      "hyderabad\n",
      "banglore\n",
      "hi\n",
      "HI\n"
     ]
    }
   ],
   "source": [
    "print(\"hello\")\n",
    "def fun():\n",
    "    print(\"hi\")\n",
    "    print(\"HI\")\n",
    "print(\"hyderabad\")\n",
    "print(\"banglore\")\n",
    "fun()"
   ]
  },
  {
   "cell_type": "code",
   "execution_count": 5,
   "metadata": {},
   "outputs": [
    {
     "name": "stdout",
     "output_type": "stream",
     "text": [
      "hello\n",
      "hyderabad\n",
      "hi\n",
      "apple\n",
      "banglore\n",
      "hi\n",
      "apple\n"
     ]
    }
   ],
   "source": [
    "print(\"hello\")\n",
    "def fun():\n",
    "    print(\"hi\")\n",
    "    print(\"apple\")\n",
    "print(\"hyderabad\")\n",
    "fun()\n",
    "print(\"banglore\")\n",
    "fun()"
   ]
  },
  {
   "cell_type": "code",
   "execution_count": null,
   "metadata": {},
   "outputs": [],
   "source": [
    "a=1000\n",
    "def fun(x,y):\n",
    "    print(x,y)\n",
    "    print(\"a inside the function:\",a)\n",
    "print(\"a before calling a fun:\",a)\n",
    "fun(10,20)\n",
    "print(\"a after calling a fun:\",a)"
   ]
  },
  {
   "cell_type": "code",
   "execution_count": 6,
   "metadata": {},
   "outputs": [
    {
     "name": "stdout",
     "output_type": "stream",
     "text": [
      "10 20\n"
     ]
    }
   ],
   "source": [
    "x,y=10,20\n",
    "print(x,y)"
   ]
  },
  {
   "cell_type": "code",
   "execution_count": 7,
   "metadata": {},
   "outputs": [
    {
     "name": "stdout",
     "output_type": "stream",
     "text": [
      "a before calling a fun: 1000\n",
      "10 20\n",
      "a inside the function: 1000\n",
      "a after calling a fun: 1000\n"
     ]
    }
   ],
   "source": [
    "a=1000\n",
    "def fun(x,y):\n",
    "    print(x,y)\n",
    "    print(\"a inside the function:\",a)\n",
    "print(\"a before calling a fun:\",a)\n",
    "fun(10,20)\n",
    "print(\"a after calling a fun:\",a)"
   ]
  },
  {
   "cell_type": "code",
   "execution_count": 8,
   "metadata": {},
   "outputs": [
    {
     "name": "stdout",
     "output_type": "stream",
     "text": [
      "a before calling a fun: 1000\n",
      "10 20\n",
      "a inside the function: 1000\n",
      "a after calling a fun: 1000\n",
      "1 2\n",
      "a inside the function: 1000\n"
     ]
    }
   ],
   "source": [
    "a=1000\n",
    "def fun(x,y):\n",
    "    print(x,y)\n",
    "    print(\"a inside the function:\",a)\n",
    "print(\"a before calling a fun:\",a)\n",
    "fun(10,20)\n",
    "print(\"a after calling a fun:\",a)\n",
    "fun(1,2)"
   ]
  },
  {
   "cell_type": "code",
   "execution_count": 9,
   "metadata": {},
   "outputs": [
    {
     "name": "stdout",
     "output_type": "stream",
     "text": [
      "started\n",
      "corona\n",
      "x=10,y=20\n",
      "result= 30\n",
      "maleria\n",
      "x=1,y=2\n",
      "result= 3\n",
      "cold\n",
      "x=100,y=200\n",
      "result= 300\n",
      "cough\n",
      "x=1000,y=2000\n",
      "result= 3000\n"
     ]
    }
   ],
   "source": [
    "print(\"started\")\n",
    "def add(x,y):\n",
    "    print(f\"x={x},y={y}\")\n",
    "    res=x+y\n",
    "    print(\"result=\",res)\n",
    "print(\"corona\")\n",
    "add(10,20)\n",
    "print(\"maleria\")\n",
    "add(1,2)\n",
    "print(\"cold\")\n",
    "add(100,200)\n",
    "print(\"cough\")\n",
    "add(1000,2000)"
   ]
  },
  {
   "cell_type": "code",
   "execution_count": 1,
   "metadata": {},
   "outputs": [
    {
     "name": "stdout",
     "output_type": "stream",
     "text": [
      "x=10,y=20,z=30,a=1000,b=2000\n"
     ]
    }
   ],
   "source": [
    "a=1000\n",
    "b=2000\n",
    "def fun(x,y):\n",
    "    z=x+y\n",
    "    print(f\"x={x},y={y},z={z},a={a},b={b}\")\n",
    "fun(10,20)"
   ]
  },
  {
   "cell_type": "code",
   "execution_count": 2,
   "metadata": {},
   "outputs": [
    {
     "name": "stdout",
     "output_type": "stream",
     "text": [
      "before calling fun: a=1000,b=2000\n",
      "x=10,y=20,z=30,a=1000,b=2000\n",
      "after calling fun: a=1000,b=2000\n"
     ]
    }
   ],
   "source": [
    "a=1000\n",
    "b=2000\n",
    "def fun(x,y):\n",
    "    z=x+y\n",
    "    print(f\"x={x},y={y},z={z},a={a},b={b}\")\n",
    "print(f\"before calling fun: a={a},b={b}\")\n",
    "fun(10,20)\n",
    "print(f\"after calling fun: a={a},b={b}\")"
   ]
  },
  {
   "cell_type": "code",
   "execution_count": 3,
   "metadata": {},
   "outputs": [
    {
     "name": "stdout",
     "output_type": "stream",
     "text": [
      "before calling fun: a=1000,b=2000\n",
      "x=10,y=20,z=30,a=2,b=2000\n",
      "after calling fun: a=1000,b=2000\n"
     ]
    }
   ],
   "source": [
    "a=1000\n",
    "b=2000\n",
    "def fun(x,y):\n",
    "    a=2\n",
    "    z=x+y\n",
    "    print(f\"x={x},y={y},z={z},a={a},b={b}\")\n",
    "    \n",
    "print(f\"before calling fun: a={a},b={b}\")\n",
    "fun(10,20)\n",
    "print(f\"after calling fun: a={a},b={b}\")"
   ]
  },
  {
   "cell_type": "code",
   "execution_count": 1,
   "metadata": {},
   "outputs": [
    {
     "name": "stdout",
     "output_type": "stream",
     "text": [
      "before function definition: a=1000,b=2000\n",
      "after function definition: a=1000,b=2000\n"
     ]
    }
   ],
   "source": [
    "a=1000\n",
    "b=2000\n",
    "print(f\"before function definition: a={a},b={b}\")\n",
    "def fun(x,y):\n",
    "    global a\n",
    "    a=2\n",
    "    z=x+y\n",
    "    print(f\"x={x},y={y},z={z},a={a},b={b}\")\n",
    "print(f\"after function definition: a={a},b={b}\")"
   ]
  },
  {
   "cell_type": "code",
   "execution_count": 2,
   "metadata": {},
   "outputs": [
    {
     "name": "stdout",
     "output_type": "stream",
     "text": [
      "before function definition: a=1000,b=2000\n",
      "after function definition: a=1000,b=2000\n",
      "x=10,y=20,z=30,a=2,b=2000\n"
     ]
    }
   ],
   "source": [
    "a=1000\n",
    "b=2000\n",
    "print(f\"before function definition: a={a},b={b}\")\n",
    "def fun(x,y):\n",
    "    global a\n",
    "    a=2\n",
    "    z=x+y\n",
    "    print(f\"x={x},y={y},z={z},a={a},b={b}\")\n",
    "print(f\"after function definition: a={a},b={b}\")"
   ]
  },
  {
   "cell_type": "code",
   "execution_count": 3,
   "metadata": {},
   "outputs": [
    {
     "name": "stdout",
     "output_type": "stream",
     "text": [
      "before function definition: a=1000,b=2000,c=3000\n",
      "after function definition: a=1000,b=2000,c=3000\n",
      "x=10,y=20,z=30,a=2,b=2000,c=3\n",
      "after function call: a=2,b=2000,c=3000\n"
     ]
    }
   ],
   "source": [
    "a=1000\n",
    "b=2000\n",
    "c=3000\n",
    "print(f\"before function definition: a={a},b={b},c={c}\")\n",
    "def fun(x,y):\n",
    "    global a\n",
    "    a=2\n",
    "    c=3\n",
    "    z=x+y\n",
    "    print(f\"x={x},y={y},z={z},a={a},b={b},c={c}\")\n",
    "print(f\"after function definition: a={a},b={b},c={c}\")\n",
    "fun(10,20)\n",
    "print(f\"after function call: a={a},b={b},c={c}\")"
   ]
  },
  {
   "cell_type": "code",
   "execution_count": null,
   "metadata": {},
   "outputs": [],
   "source": [
    "def add(x,y):\n",
    "    print(x+y)\n",
    "def add1(x,y,z):\n",
    "    print(x+y+z)\n",
    "def add(a,b,c,d):\n",
    "    print(a+b+c+d)\n",
    "add1(10,20,30)\n",
    "add(10,20)\n",
    "add(10,20,30,40)"
   ]
  },
  {
   "cell_type": "code",
   "execution_count": null,
   "metadata": {},
   "outputs": [],
   "source": []
  },
  {
   "cell_type": "code",
   "execution_count": 4,
   "metadata": {},
   "outputs": [],
   "source": [
    "a=1000\n",
    "b=2000\n",
    "a=3000\n",
    "b=4000\n",
    "c=5000\n",
    "c=6000"
   ]
  },
  {
   "cell_type": "code",
   "execution_count": 5,
   "metadata": {},
   "outputs": [
    {
     "name": "stdout",
     "output_type": "stream",
     "text": [
      "60\n"
     ]
    },
    {
     "ename": "TypeError",
     "evalue": "add() missing 2 required positional arguments: 'c' and 'd'",
     "output_type": "error",
     "traceback": [
      "\u001b[1;31m---------------------------------------------------------------------------\u001b[0m",
      "\u001b[1;31mTypeError\u001b[0m                                 Traceback (most recent call last)",
      "\u001b[1;32m<ipython-input-5-55c2ed1be94f>\u001b[0m in \u001b[0;36m<module>\u001b[1;34m\u001b[0m\n\u001b[0;32m      6\u001b[0m     \u001b[0mprint\u001b[0m\u001b[1;33m(\u001b[0m\u001b[0ma\u001b[0m\u001b[1;33m+\u001b[0m\u001b[0mb\u001b[0m\u001b[1;33m+\u001b[0m\u001b[0mc\u001b[0m\u001b[1;33m+\u001b[0m\u001b[0md\u001b[0m\u001b[1;33m)\u001b[0m\u001b[1;33m\u001b[0m\u001b[1;33m\u001b[0m\u001b[0m\n\u001b[0;32m      7\u001b[0m \u001b[0madd1\u001b[0m\u001b[1;33m(\u001b[0m\u001b[1;36m10\u001b[0m\u001b[1;33m,\u001b[0m\u001b[1;36m20\u001b[0m\u001b[1;33m,\u001b[0m\u001b[1;36m30\u001b[0m\u001b[1;33m)\u001b[0m\u001b[1;33m\u001b[0m\u001b[1;33m\u001b[0m\u001b[0m\n\u001b[1;32m----> 8\u001b[1;33m \u001b[0madd\u001b[0m\u001b[1;33m(\u001b[0m\u001b[1;36m10\u001b[0m\u001b[1;33m,\u001b[0m\u001b[1;36m20\u001b[0m\u001b[1;33m)\u001b[0m\u001b[1;33m\u001b[0m\u001b[1;33m\u001b[0m\u001b[0m\n\u001b[0m\u001b[0;32m      9\u001b[0m \u001b[0madd\u001b[0m\u001b[1;33m(\u001b[0m\u001b[1;36m10\u001b[0m\u001b[1;33m,\u001b[0m\u001b[1;36m20\u001b[0m\u001b[1;33m,\u001b[0m\u001b[1;36m30\u001b[0m\u001b[1;33m,\u001b[0m\u001b[1;36m40\u001b[0m\u001b[1;33m)\u001b[0m\u001b[1;33m\u001b[0m\u001b[1;33m\u001b[0m\u001b[0m\n",
      "\u001b[1;31mTypeError\u001b[0m: add() missing 2 required positional arguments: 'c' and 'd'"
     ]
    }
   ],
   "source": [
    "def add(x,y):\n",
    "    print(x+y)\n",
    "def add1(x,y,z):\n",
    "    print(x+y+z)\n",
    "def add(a,b,c,d):\n",
    "    print(a+b+c+d)\n",
    "add1(10,20,30)\n",
    "add(10,20)\n",
    "add(10,20,30,40)"
   ]
  },
  {
   "cell_type": "code",
   "execution_count": 6,
   "metadata": {},
   "outputs": [
    {
     "name": "stdout",
     "output_type": "stream",
     "text": [
      "300\n",
      "60\n"
     ]
    },
    {
     "ename": "TypeError",
     "evalue": "add() missing 2 required positional arguments: 'c' and 'd'",
     "output_type": "error",
     "traceback": [
      "\u001b[1;31m---------------------------------------------------------------------------\u001b[0m",
      "\u001b[1;31mTypeError\u001b[0m                                 Traceback (most recent call last)",
      "\u001b[1;32m<ipython-input-6-641ad3de4699>\u001b[0m in \u001b[0;36m<module>\u001b[1;34m\u001b[0m\n\u001b[0;32m      7\u001b[0m     \u001b[0mprint\u001b[0m\u001b[1;33m(\u001b[0m\u001b[0ma\u001b[0m\u001b[1;33m+\u001b[0m\u001b[0mb\u001b[0m\u001b[1;33m+\u001b[0m\u001b[0mc\u001b[0m\u001b[1;33m+\u001b[0m\u001b[0md\u001b[0m\u001b[1;33m)\u001b[0m\u001b[1;33m\u001b[0m\u001b[1;33m\u001b[0m\u001b[0m\n\u001b[0;32m      8\u001b[0m \u001b[0madd1\u001b[0m\u001b[1;33m(\u001b[0m\u001b[1;36m10\u001b[0m\u001b[1;33m,\u001b[0m\u001b[1;36m20\u001b[0m\u001b[1;33m,\u001b[0m\u001b[1;36m30\u001b[0m\u001b[1;33m)\u001b[0m\u001b[1;33m\u001b[0m\u001b[1;33m\u001b[0m\u001b[0m\n\u001b[1;32m----> 9\u001b[1;33m \u001b[0madd\u001b[0m\u001b[1;33m(\u001b[0m\u001b[1;36m10\u001b[0m\u001b[1;33m,\u001b[0m\u001b[1;36m20\u001b[0m\u001b[1;33m)\u001b[0m\u001b[1;33m\u001b[0m\u001b[1;33m\u001b[0m\u001b[0m\n\u001b[0m\u001b[0;32m     10\u001b[0m \u001b[0madd\u001b[0m\u001b[1;33m(\u001b[0m\u001b[1;36m10\u001b[0m\u001b[1;33m,\u001b[0m\u001b[1;36m20\u001b[0m\u001b[1;33m,\u001b[0m\u001b[1;36m30\u001b[0m\u001b[1;33m,\u001b[0m\u001b[1;36m40\u001b[0m\u001b[1;33m)\u001b[0m\u001b[1;33m\u001b[0m\u001b[1;33m\u001b[0m\u001b[0m\n",
      "\u001b[1;31mTypeError\u001b[0m: add() missing 2 required positional arguments: 'c' and 'd'"
     ]
    }
   ],
   "source": [
    "def add(x,y):\n",
    "    print(x+y)\n",
    "add(100,200)\n",
    "def add1(x,y,z):\n",
    "    print(x+y+z)\n",
    "def add(a,b,c,d):\n",
    "    print(a+b+c+d)\n",
    "add1(10,20,30)\n",
    "add(10,20)\n",
    "add(10,20,30,40)"
   ]
  },
  {
   "cell_type": "code",
   "execution_count": 7,
   "metadata": {},
   "outputs": [
    {
     "name": "stdout",
     "output_type": "stream",
     "text": [
      "300\n",
      "60\n",
      "10\n"
     ]
    },
    {
     "ename": "TypeError",
     "evalue": "add() missing 2 required positional arguments: 'c' and 'd'",
     "output_type": "error",
     "traceback": [
      "\u001b[1;31m---------------------------------------------------------------------------\u001b[0m",
      "\u001b[1;31mTypeError\u001b[0m                                 Traceback (most recent call last)",
      "\u001b[1;32m<ipython-input-7-93e02648658a>\u001b[0m in \u001b[0;36m<module>\u001b[1;34m\u001b[0m\n\u001b[0;32m      8\u001b[0m \u001b[0madd1\u001b[0m\u001b[1;33m(\u001b[0m\u001b[1;36m10\u001b[0m\u001b[1;33m,\u001b[0m\u001b[1;36m20\u001b[0m\u001b[1;33m,\u001b[0m\u001b[1;36m30\u001b[0m\u001b[1;33m)\u001b[0m\u001b[1;33m\u001b[0m\u001b[1;33m\u001b[0m\u001b[0m\n\u001b[0;32m      9\u001b[0m \u001b[0madd\u001b[0m\u001b[1;33m(\u001b[0m\u001b[1;36m1\u001b[0m\u001b[1;33m,\u001b[0m\u001b[1;36m2\u001b[0m\u001b[1;33m,\u001b[0m\u001b[1;36m3\u001b[0m\u001b[1;33m,\u001b[0m\u001b[1;36m4\u001b[0m\u001b[1;33m)\u001b[0m\u001b[1;33m\u001b[0m\u001b[1;33m\u001b[0m\u001b[0m\n\u001b[1;32m---> 10\u001b[1;33m \u001b[0madd\u001b[0m\u001b[1;33m(\u001b[0m\u001b[1;36m10\u001b[0m\u001b[1;33m,\u001b[0m\u001b[1;36m20\u001b[0m\u001b[1;33m)\u001b[0m\u001b[1;33m\u001b[0m\u001b[1;33m\u001b[0m\u001b[0m\n\u001b[0m\u001b[0;32m     11\u001b[0m \u001b[0madd\u001b[0m\u001b[1;33m(\u001b[0m\u001b[1;36m10\u001b[0m\u001b[1;33m,\u001b[0m\u001b[1;36m20\u001b[0m\u001b[1;33m,\u001b[0m\u001b[1;36m30\u001b[0m\u001b[1;33m,\u001b[0m\u001b[1;36m40\u001b[0m\u001b[1;33m)\u001b[0m\u001b[1;33m\u001b[0m\u001b[1;33m\u001b[0m\u001b[0m\n",
      "\u001b[1;31mTypeError\u001b[0m: add() missing 2 required positional arguments: 'c' and 'd'"
     ]
    }
   ],
   "source": [
    "def add(x,y):\n",
    "    print(x+y)\n",
    "add(100,200)\n",
    "def add1(x,y,z):\n",
    "    print(x+y+z)\n",
    "def add(a,b,c,d):\n",
    "    print(a+b+c+d)\n",
    "add1(10,20,30)\n",
    "add(1,2,3,4)\n",
    "add(10,20)\n",
    "add(10,20,30,40)"
   ]
  },
  {
   "cell_type": "code",
   "execution_count": null,
   "metadata": {},
   "outputs": [],
   "source": []
  }
 ],
 "metadata": {
  "kernelspec": {
   "display_name": "Python 3",
   "language": "python",
   "name": "python3"
  },
  "language_info": {
   "codemirror_mode": {
    "name": "ipython",
    "version": 3
   },
   "file_extension": ".py",
   "mimetype": "text/x-python",
   "name": "python",
   "nbconvert_exporter": "python",
   "pygments_lexer": "ipython3",
   "version": "3.8.3"
  }
 },
 "nbformat": 4,
 "nbformat_minor": 4
}
