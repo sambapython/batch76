{
 "cells": [
  {
   "cell_type": "code",
   "execution_count": 1,
   "metadata": {},
   "outputs": [
    {
     "name": "stdout",
     "output_type": "stream",
     "text": [
      "Enter a value:12\n",
      "Enter v value:13\n",
      "25.0\n",
      "Enter a value:14\n",
      "Enter v value:15\n",
      "29.0\n",
      "Enter a value:16\n",
      "Enter v value:17\n",
      "33.0\n",
      "Enter a value:18\n",
      "Enter v value:19\n",
      "37.0\n",
      "Enter a value:23\n",
      "Enter v value:24\n",
      "47.0\n"
     ]
    }
   ],
   "source": [
    "for i in range(5):\n",
    "    a=float(input(\"Enter a value:\"))\n",
    "    b=float(input(\"Enter v value:\"))\n",
    "    print(a+b)"
   ]
  },
  {
   "cell_type": "code",
   "execution_count": 2,
   "metadata": {},
   "outputs": [
    {
     "name": "stdout",
     "output_type": "stream",
     "text": [
      "Enter a value:12\n",
      "Enter v value:23\n",
      "12.0+23.0=35.0\n",
      "Enter a value:334\n",
      "Enter v value:34\n",
      "334.0+34.0=368.0\n",
      "Enter a value:343\n",
      "Enter v value:4\n",
      "343.0+4.0=347.0\n",
      "Enter a value:34\n",
      "Enter v value:34\n",
      "68.0\n",
      "Enter a value:3\n",
      "Enter v value:4\n",
      "3.0+4.0=7.0\n"
     ]
    }
   ],
   "source": [
    "a=float(input(\"Enter a value:\"))\n",
    "b=float(input(\"Enter v value:\"))\n",
    "print(f\"{a}+{b}={a+b}\")\n",
    "a=float(input(\"Enter a value:\"))\n",
    "b=float(input(\"Enter v value:\"))\n",
    "print(f\"{a}+{b}={a+b}\")\n",
    "a=float(input(\"Enter a value:\"))\n",
    "b=float(input(\"Enter v value:\"))\n",
    "print(f\"{a}+{b}={a+b}\")\n",
    "a=float(input(\"Enter a value:\"))\n",
    "b=float(input(\"Enter v value:\"))\n",
    "print(a+b)\n",
    "a=float(input(\"Enter a value:\"))\n",
    "b=float(input(\"Enter v value:\"))\n",
    "print(f\"{a}+{b}={a+b}\")"
   ]
  },
  {
   "cell_type": "code",
   "execution_count": 3,
   "metadata": {},
   "outputs": [
    {
     "name": "stdout",
     "output_type": "stream",
     "text": [
      "Enter a value:1\n",
      "Enter v value:2\n",
      "1.0+2.0=3.0\n",
      "Enter a value:3\n",
      "Enter v value:4\n",
      "3.0+4.0=7.0\n"
     ]
    }
   ],
   "source": [
    "for i in range(2):\n",
    "    a=float(input(\"Enter a value:\"))\n",
    "    b=float(input(\"Enter v value:\"))\n",
    "    print(f\"{a}+{b}={a+b}\")"
   ]
  },
  {
   "cell_type": "code",
   "execution_count": 4,
   "metadata": {},
   "outputs": [],
   "source": [
    "# add product in to database\n",
    "#sales.py 3 places\n",
    "\n",
    "#pur.py\n",
    "\n",
    "#stock.py\n"
   ]
  },
  {
   "cell_type": "code",
   "execution_count": 5,
   "metadata": {},
   "outputs": [
    {
     "name": "stdout",
     "output_type": "stream",
     "text": [
      "123\n",
      "456\n",
      "789\n"
     ]
    }
   ],
   "source": [
    "print(\"123\")\n",
    "print(\"456\")\n",
    "def get():\n",
    "    print(\"10\")\n",
    "print(\"789\")"
   ]
  },
  {
   "cell_type": "code",
   "execution_count": 6,
   "metadata": {},
   "outputs": [
    {
     "name": "stdout",
     "output_type": "stream",
     "text": [
      "123\n",
      "456\n",
      "789\n",
      "10\n"
     ]
    }
   ],
   "source": [
    "print(\"123\")\n",
    "print(\"456\")\n",
    "# function\n",
    "def get(): # signature\n",
    "    # function body\n",
    "    print(\"10\")\n",
    "print(\"789\")\n",
    "get() # function call"
   ]
  },
  {
   "cell_type": "code",
   "execution_count": 7,
   "metadata": {},
   "outputs": [
    {
     "name": "stdout",
     "output_type": "stream",
     "text": [
      "123\n",
      "456\n",
      "789\n",
      "10\n",
      "10\n",
      "10\n"
     ]
    }
   ],
   "source": [
    "print(\"123\")\n",
    "print(\"456\")\n",
    "def get(): \n",
    "    print(\"10\")\n",
    "print(\"789\")\n",
    "get() \n",
    "get()\n",
    "get()"
   ]
  },
  {
   "cell_type": "code",
   "execution_count": 8,
   "metadata": {},
   "outputs": [
    {
     "name": "stdout",
     "output_type": "stream",
     "text": [
      "1\n",
      "Enter a value:1\n",
      "Enter v value:2\n",
      "1.0+2.0=3.0\n",
      "2\n",
      "3\n",
      "Enter a value:3\n",
      "Enter v value:4\n",
      "3.0+4.0=7.0\n",
      "hello\n",
      "hi\n",
      "Enter a value:5\n",
      "Enter v value:6\n",
      "5.0+6.0=11.0\n"
     ]
    }
   ],
   "source": [
    "print(\"1\")\n",
    "a=float(input(\"Enter a value:\"))\n",
    "b=float(input(\"Enter v value:\"))\n",
    "print(f\"{a}+{b}={a+b}\")\n",
    "print(\"2\")\n",
    "print(\"3\")\n",
    "a=float(input(\"Enter a value:\"))\n",
    "b=float(input(\"Enter v value:\"))\n",
    "print(f\"{a}+{b}={a+b}\")\n",
    "print(\"hello\")\n",
    "print(\"hi\")\n",
    "a=float(input(\"Enter a value:\"))\n",
    "b=float(input(\"Enter v value:\"))\n",
    "print(f\"{a}+{b}={a+b}\")"
   ]
  },
  {
   "cell_type": "code",
   "execution_count": null,
   "metadata": {},
   "outputs": [],
   "source": [
    "def add():\n",
    "    a=float(input(\"Enter a value:\"))\n",
    "    b=float(input(\"Enter b value:\"))\n",
    "    print(f\"{a}+{b}={a+b}\")\n",
    "print(\"1\")\n",
    "print(\"2\")\n",
    "add()\n",
    "print(\"3\")\n",
    "add()\n",
    "print(\"hello\")\n",
    "print(\"hi\")\n",
    "add()"
   ]
  },
  {
   "cell_type": "code",
   "execution_count": 1,
   "metadata": {},
   "outputs": [
    {
     "name": "stdout",
     "output_type": "stream",
     "text": [
      "started\n",
      "x=10,y=20,a=1,b=200,c=300\n",
      "z=30, p=-10\n",
      "ended\n"
     ]
    }
   ],
   "source": [
    "print(\"started\")\n",
    "a=100\n",
    "b=200\n",
    "c=300\n",
    "def add(x,y):\n",
    "    a=1\n",
    "    print(f\"x={x},y={y},a={a},b={b},c={c}\")\n",
    "    z=x+y\n",
    "    p=x-y\n",
    "    print(f\"z={z}, p={p}\")\n",
    "add(10,20)\n",
    "print(\"ended\")"
   ]
  },
  {
   "cell_type": "code",
   "execution_count": 2,
   "metadata": {},
   "outputs": [
    {
     "name": "stdout",
     "output_type": "stream",
     "text": [
      "30\n",
      "3\n",
      "50\n",
      "300\n"
     ]
    }
   ],
   "source": [
    "def add(x,y): #add(10,20)\n",
    "    print(x+y)\n",
    "add(10,20)\n",
    "add(1,2)\n",
    "add(20,30)\n",
    "add(100,200)"
   ]
  },
  {
   "cell_type": "code",
   "execution_count": 3,
   "metadata": {},
   "outputs": [
    {
     "ename": "SyntaxError",
     "evalue": "invalid syntax (<ipython-input-3-90eb16ab1471>, line 1)",
     "output_type": "error",
     "traceback": [
      "\u001b[1;36m  File \u001b[1;32m\"<ipython-input-3-90eb16ab1471>\"\u001b[1;36m, line \u001b[1;32m1\u001b[0m\n\u001b[1;33m    def add(10,20): #add(10,20)\u001b[0m\n\u001b[1;37m            ^\u001b[0m\n\u001b[1;31mSyntaxError\u001b[0m\u001b[1;31m:\u001b[0m invalid syntax\n"
     ]
    }
   ],
   "source": [
    "def add(10,20): #add(10,20)\n",
    "    print(10+20)"
   ]
  },
  {
   "cell_type": "code",
   "execution_count": 4,
   "metadata": {},
   "outputs": [
    {
     "name": "stdout",
     "output_type": "stream",
     "text": [
      "30\n"
     ]
    }
   ],
   "source": [
    "print(10+20)"
   ]
  },
  {
   "cell_type": "code",
   "execution_count": 5,
   "metadata": {},
   "outputs": [
    {
     "name": "stdout",
     "output_type": "stream",
     "text": [
      "started\n",
      "x=10,y=20,a=1,b=200,c=300\n",
      "z=30, p=-10\n",
      "ended\n"
     ]
    }
   ],
   "source": [
    "print(\"started\")\n",
    "a=100\n",
    "b=200\n",
    "c=300\n",
    "def add(x,y):\n",
    "    a=1\n",
    "    print(f\"x={x},y={y},a={a},b={b},c={c}\")\n",
    "    z=x+y\n",
    "    p=x-y\n",
    "    print(f\"z={z}, p={p}\")\n",
    "add(10,20)\n",
    "print(\"ended\")"
   ]
  },
  {
   "cell_type": "code",
   "execution_count": null,
   "metadata": {},
   "outputs": [],
   "source": [
    "print(\"started\")\n",
    "a=100\n",
    "b=200\n",
    "c=300\n",
    "def sub(x,y):\n",
    "    a=1\n",
    "    b=5\n",
    "    print(f\"x={x},y={y},a={a},b={b},c={c}\")\n",
    "    z=x+y\n",
    "    p=x-y\n",
    "    print(f\"z={z}, p={p}\")\n",
    "sub(3,4)\n",
    "print(\"ended\")"
   ]
  }
 ],
 "metadata": {
  "kernelspec": {
   "display_name": "Python 3",
   "language": "python",
   "name": "python3"
  },
  "language_info": {
   "codemirror_mode": {
    "name": "ipython",
    "version": 3
   },
   "file_extension": ".py",
   "mimetype": "text/x-python",
   "name": "python",
   "nbconvert_exporter": "python",
   "pygments_lexer": "ipython3",
   "version": "3.8.3"
  }
 },
 "nbformat": 4,
 "nbformat_minor": 4
}
