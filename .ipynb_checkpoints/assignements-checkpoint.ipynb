{
 "cells": [
  {
   "cell_type": "code",
   "execution_count": null,
   "metadata": {},
   "outputs": [],
   "source": [
    "\"\"\"\n",
    "22. Take an age  and gender from the user: and mention that what he/she can \tdo in india.\n",
    "\t\n",
    "\t\tconditions\n",
    "1. Theatre: 5 for men 7 for women\n",
    "    \t2. Voting system: 18 for men and women\n",
    "    \t3. Marriage in india: 23 for men and for women >21\n",
    "    \t4. For govt jobs: (min:18, max:32)  for men and (min:18, max:34) for \twomen\n",
    "   \t \t5. For driving licence: (min:18, max:60) for men and women\n",
    "\n",
    "\"\"\"\n",
    "age, gender = int(input(\"enter an age:\")), input(\"Enter gender(M/F):\")\n",
    "options = [\"Theater\",\"Vote\",\"licence\",\"govt job\",\"mariage\"]\n",
    "res=[]\n",
    "if gender == \"M\":\n",
    "    if age>=5:\n",
    "        res = res + [options[0]]\n",
    "    if age>=18 and age <= 32:\n",
    "        res = res + [options[3]]\n",
    "    if age>=18 and age <= 60:\n",
    "        res = res + [options[2]]   \n",
    "    if age>=18:\n",
    "        res = res + [options[1]] \n",
    "    if age>=23:\n",
    "        res = res + [option[-1]]\n",
    "else:\n",
    "    if age>=7:\n",
    "        res = res + [options[0]]\n",
    "    if age>=18 and age <= 34:\n",
    "        res = res + [options[3]]\n",
    "    if age>=18 and age <= 60:\n",
    "        res = res + [options[2]]   \n",
    "    if age>=18:\n",
    "        res = res + [options[1]] \n",
    "    if age>=21:\n",
    "        res = res + [option[-1]]\n",
    "    \n",
    "print(res)"
   ]
  }
 ],
 "metadata": {
  "kernelspec": {
   "display_name": "Python 3",
   "language": "python",
   "name": "python3"
  },
  "language_info": {
   "codemirror_mode": {
    "name": "ipython",
    "version": 3
   },
   "file_extension": ".py",
   "mimetype": "text/x-python",
   "name": "python",
   "nbconvert_exporter": "python",
   "pygments_lexer": "ipython3",
   "version": "3.8.3"
  }
 },
 "nbformat": 4,
 "nbformat_minor": 4
}
