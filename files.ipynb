{
 "cells": [
  {
   "cell_type": "code",
   "execution_count": 1,
   "metadata": {},
   "outputs": [],
   "source": [
    "a=1000\n",
    "b=2000"
   ]
  },
  {
   "cell_type": "code",
   "execution_count": 2,
   "metadata": {},
   "outputs": [],
   "source": [
    "f=open(\"data.txt\",\"w\")# this file not available in the folder"
   ]
  },
  {
   "cell_type": "code",
   "execution_count": 3,
   "metadata": {},
   "outputs": [],
   "source": [
    "# it's not throwing any error. it's created an empty file."
   ]
  },
  {
   "cell_type": "code",
   "execution_count": 4,
   "metadata": {},
   "outputs": [
    {
     "data": {
      "text/plain": [
       "47"
      ]
     },
     "execution_count": 4,
     "metadata": {},
     "output_type": "execute_result"
    }
   ],
   "source": [
    "f.write(\"CORONA IS GOIING TO END WITH COVISHIELD/COVAXIN\")# it's wites the data in to memory cache(RAM), not into actual file"
   ]
  },
  {
   "cell_type": "code",
   "execution_count": 5,
   "metadata": {},
   "outputs": [],
   "source": [
    "# the 47 here is the number of characters written in to cache."
   ]
  },
  {
   "cell_type": "code",
   "execution_count": 6,
   "metadata": {},
   "outputs": [],
   "source": [
    "f.flush()# now it will delete data from cache and writes to hard drive(data.txt file)"
   ]
  },
  {
   "cell_type": "code",
   "execution_count": 7,
   "metadata": {},
   "outputs": [
    {
     "data": {
      "text/plain": [
       "58"
      ]
     },
     "execution_count": 7,
     "metadata": {},
     "output_type": "execute_result"
    }
   ],
   "source": [
    "f.write(\"Sputhnik v may be helps to india to reach the point early.\")"
   ]
  },
  {
   "cell_type": "code",
   "execution_count": 9,
   "metadata": {},
   "outputs": [],
   "source": [
    "f.close() # now it will delete data from cache and writes to hard drive(data.txt file), it closes the pipe b/w f and data.txt"
   ]
  },
  {
   "cell_type": "code",
   "execution_count": 10,
   "metadata": {},
   "outputs": [
    {
     "ename": "ValueError",
     "evalue": "I/O operation on closed file.",
     "output_type": "error",
     "traceback": [
      "\u001b[1;31m---------------------------------------------------------------------------\u001b[0m",
      "\u001b[1;31mValueError\u001b[0m                                Traceback (most recent call last)",
      "\u001b[1;32m<ipython-input-10-3e69b85b283a>\u001b[0m in \u001b[0;36m<module>\u001b[1;34m\u001b[0m\n\u001b[1;32m----> 1\u001b[1;33m \u001b[0mf\u001b[0m\u001b[1;33m.\u001b[0m\u001b[0mwrite\u001b[0m\u001b[1;33m(\u001b[0m\u001b[1;34m\"writing after close\"\u001b[0m\u001b[1;33m)\u001b[0m\u001b[1;33m\u001b[0m\u001b[1;33m\u001b[0m\u001b[0m\n\u001b[0m",
      "\u001b[1;31mValueError\u001b[0m: I/O operation on closed file."
     ]
    }
   ],
   "source": [
    "f.write(\"writing after close\")"
   ]
  },
  {
   "cell_type": "code",
   "execution_count": 11,
   "metadata": {},
   "outputs": [
    {
     "ename": "FileNotFoundError",
     "evalue": "[Errno 2] No such file or directory: 'data2.txt'",
     "output_type": "error",
     "traceback": [
      "\u001b[1;31m---------------------------------------------------------------------------\u001b[0m",
      "\u001b[1;31mFileNotFoundError\u001b[0m                         Traceback (most recent call last)",
      "\u001b[1;32m<ipython-input-11-e03710c0f02b>\u001b[0m in \u001b[0;36m<module>\u001b[1;34m\u001b[0m\n\u001b[1;32m----> 1\u001b[1;33m \u001b[0mf\u001b[0m\u001b[1;33m=\u001b[0m\u001b[0mopen\u001b[0m\u001b[1;33m(\u001b[0m\u001b[1;34m\"data2.txt\"\u001b[0m\u001b[1;33m,\u001b[0m\u001b[1;34m\"r\"\u001b[0m\u001b[1;33m)\u001b[0m\u001b[1;31m# opening file in read mode, the file not exist in the folder\u001b[0m\u001b[1;33m\u001b[0m\u001b[1;33m\u001b[0m\u001b[0m\n\u001b[0m",
      "\u001b[1;31mFileNotFoundError\u001b[0m: [Errno 2] No such file or directory: 'data2.txt'"
     ]
    }
   ],
   "source": [
    "f=open(\"data2.txt\",\"r\")# opening file in read mode, the file not exist in the folder"
   ]
  },
  {
   "cell_type": "code",
   "execution_count": 12,
   "metadata": {},
   "outputs": [],
   "source": [
    "f=open(\"data.txt\",\"r\")# opening file in read mode, the file exist in the folder"
   ]
  },
  {
   "cell_type": "code",
   "execution_count": 13,
   "metadata": {},
   "outputs": [
    {
     "name": "stdout",
     "output_type": "stream",
     "text": [
      "<_io.TextIOWrapper name='data.txt' mode='r' encoding='cp1252'>\n"
     ]
    }
   ],
   "source": [
    "print(f)"
   ]
  },
  {
   "cell_type": "code",
   "execution_count": 14,
   "metadata": {},
   "outputs": [
    {
     "name": "stdout",
     "output_type": "stream",
     "text": [
      "['_CHUNK_SIZE', '__class__', '__del__', '__delattr__', '__dict__', '__dir__', '__doc__', '__enter__', '__eq__', '__exit__', '__format__', '__ge__', '__getattribute__', '__gt__', '__hash__', '__init__', '__init_subclass__', '__iter__', '__le__', '__lt__', '__ne__', '__new__', '__next__', '__reduce__', '__reduce_ex__', '__repr__', '__setattr__', '__sizeof__', '__str__', '__subclasshook__', '_checkClosed', '_checkReadable', '_checkSeekable', '_checkWritable', '_finalizing', 'buffer', 'close', 'closed', 'detach', 'encoding', 'errors', 'fileno', 'flush', 'isatty', 'line_buffering', 'mode', 'name', 'newlines', 'read', 'readable', 'readline', 'readlines', 'reconfigure', 'seek', 'seekable', 'tell', 'truncate', 'writable', 'write', 'write_through', 'writelines']\n"
     ]
    }
   ],
   "source": [
    "print(dir(f))"
   ]
  },
  {
   "cell_type": "code",
   "execution_count": 15,
   "metadata": {},
   "outputs": [
    {
     "data": {
      "text/plain": [
       "'data.txt'"
      ]
     },
     "execution_count": 15,
     "metadata": {},
     "output_type": "execute_result"
    }
   ],
   "source": [
    "f.name"
   ]
  },
  {
   "cell_type": "code",
   "execution_count": 16,
   "metadata": {},
   "outputs": [
    {
     "data": {
      "text/plain": [
       "'r'"
      ]
     },
     "execution_count": 16,
     "metadata": {},
     "output_type": "execute_result"
    }
   ],
   "source": [
    "f.mode"
   ]
  },
  {
   "cell_type": "code",
   "execution_count": 17,
   "metadata": {},
   "outputs": [],
   "source": [
    "data=f.read()"
   ]
  },
  {
   "cell_type": "code",
   "execution_count": 19,
   "metadata": {},
   "outputs": [
    {
     "name": "stdout",
     "output_type": "stream",
     "text": [
      "id,name,age,marks\n",
      "1,samba,32,90\n",
      "2,vedha,31,80\n",
      "3,jayaram,34,70\n",
      "4,sai,28,94\n"
     ]
    }
   ],
   "source": [
    "print(data)"
   ]
  },
  {
   "cell_type": "code",
   "execution_count": 20,
   "metadata": {},
   "outputs": [],
   "source": [
    "f=open(\"1.png\",\"rb\")# because it's an image file(binary file), we can read perfectly with \"rb\" mode\n",
    "data=f.read()"
   ]
  },
  {
   "cell_type": "code",
   "execution_count": 21,
   "metadata": {},
   "outputs": [
    {
     "name": "stdout",
     "output_type": "stream",
     "text": [
      "b'\\x89PNG\\r\\n\\x1a\\n\\x00\\x00\\x00\\rIHDR\\x00\\x00\\x04\\xa7\\x00\\x00\\x02\\x1e\\x08\\x02\\x00\\x00\\x00\\xe1\\xf7\\xfb\\xad\\x00\\x00\\x00\\x01sRGB\\x00\\xae\\xce\\x1c\\xe9\\x00\\x00\\x00\\x04gAMA\\x00\\x00\\xb1\\x8f\\x0b\\xfca\\x05\\x00\\x00\\x00\\tpHYs\\x00\\x00\\x0e\\xc3\\x00\\x00\\x0e\\xc3\\x01\\xc7o\\xa8d\\x00\\x00+\\xc9IDATx^\\xed\\xddkz\\xa3\\xba\\x9a\\x06\\xd03\\xae\\x1aP\\x8d\\'\\xa3\\xa9\\xc9\\xec\\xc1t\\x1bx\\x05\\x12\\x06_\\x928\\x01y\\xad\\x1f\\xfd\\x98O\\x17\\xb0\\xadR\\xf4v\\xf6\\xa9\\xfa\\xdf\\xff\\x01\\x00\\x00\\xd0/\\xa9\\x0f\\x00\\x00\\xa0gR\\x1f\\x00\\x00@\\xcf\\xa4>\\x00\\x00\\x80\\x9eI}\\x00\\x00\\x00=\\x93\\xfa\\x00\\x00\\x00z&\\xf5\\x01\\x00\\x00\\xf4L\\xea\\x03\\x00\\x00\\xe8\\x99\\xd4\\x07\\x00\\x00\\xd03\\xa9\\x0f\\x00\\x00\\xa0gR\\x1f\\x00\\x00@\\xcf\\xa4>\\x00\\x00\\x80\\x9eI}\\x00\\x00\\x00=\\x93\\xfa\\x00\\x00\\x00z&\\xf5\\x01\\x00\\x00\\xf4L\\xea\\x03\\x00\\x00\\xe8\\x99\\xd4\\x07\\x00\\x00\\xd03\\xa9\\x0f\\x00\\x00\\xa0gR\\x1f\\x00\\x00@\\xcf\\xa4>\\x00\\x00\\x80\\x9eI}\\x00\\x00\\x00=\\x93\\xfa\\x00\\x00\\x00z&\\xf5\\x01\\x00\\x00\\xf4L\\xea\\x03\\x00\\x00\\xe8\\x99\\xd4\\x07\\x00\\x00\\xd03\\xa9\\x0f\\x00\\x00\\xa0gR\\x1f\\x00\\x00@\\xcf\\xa4>\\x00\\x00\\x80\\x9eI}\\x00p\\xcf\\x7f\\x1f\\x7f\\xfe\\xb7\\xf8\\xf3\\xf1_\\xea\\x17\\xff\\xfe\\xa6\\xfa\\xbf\\xff\\xfd\\xfd\\x97\\x1a\\x00\\x1c\\x8a\\xd4\\x07\\x007\\x8d\\xb9nItc\\x02L\\xf0\\x1b_\\x97\\xa6\\x7f\\x7f\\x9b8\\x08\\x00G!\\xf5\\x01\\xc0\\rC\\xb0[\\xa7\\xb9!\\x07\\x8eYo\\xab\\x11\\x00\\x8eF\\xea\\x03\\x80}\\xdb\\xb9\\xee\\x12\\xfb\\xa6\\xe2\\xf8\\xcb>\\xc1\\x0f\\x80c\\x93\\xfa\\x00`\\xdf\\x10\\xeb\\xae\\xff\\xf7z\\xf3/\\xfb\\xca\\xc5@\\xf6\\x03\\xe0\\xa0\\xa4>\\x00\\xd8w\\xe7w}\\x8b\\xf1\\xb7~\\x82\\x1f\\x00G$\\xf5\\x01\\xc0\\r\\xcd\\xaf\\xf5b\\xab\\xb6\\xf7kA\\x00\\xf8uR\\x1f\\x00\\xdc\\xb2\\xfe%^u}y\\xb94\\x0cQ\\xd0\\xef\\xfa\\x008\"\\xa9\\x0f\\x00\\xee)\\xff\\xd3\\xbdQ\\x1d\\xed\\xc6\\x08\\x18\"\\x1f\\x00\\x07%\\xf5\\x01\\x00\\x00\\xf4L\\xea\\x03\\x00\\x00\\xe8\\x99\\xd4\\xf7\\xbe\\xb6\\xff2\\x82\\x1b.\\x03\\xfc\\xe7K\\x00\\x00p6R\\xdf{\\xa9\\xff\\xae\\x01\\xa9\\x0f\\x00\\x00\\xde\\x81\\xd4\\xf7\\xbe\\xa4>\\x00\\x00x\\x07R\\xdfaT\\x7f\\x0f\\\\\\xc9b\\xf5_\\r7\\xe7\\xb3\\xe9\\xef\\t\\x1f\"[\\xa9\\xcf\\xdd\\xe6L\\xb6\\xea\\xb3d\\xb5:\\xe9\\xb5\\xa9o\\xf3^u\\xf9\\xcf\\xc7\\x87\\xd4\\x07\\x00\\x00\\xe7#\\xf5\\x1d\\xc4\\x10\\xc1J\\xa4\\xfa\\xf7wx5\\xe6\\xad\\x92\\xbf\\xaa\\x8b)\\x87\\xd5\\xaf\\xab\\x8bL1\\xd5\\xeb\\x8bL\\xb4\\x97\\xfa\\xea\\xd7\\xaby\\x96\\xa7Z\\xa6\\x04\\x00\\x00NC\\xea;\\x86:uM\\x86\\xc0UW.=\\xa6\\xc8\\xd544\\x17\\xcb$\\xab\\xc1\\xf3\\xd8\\xe6>m\\xf7:\\xcf\\x95\\xfe\\xbb\\xd3\\x00\\x00\\x00\\xa7!\\xf5\\x1d\\xc3u\\xa0\\xaa\\xf3\\xd9`N`M\\x14k.\\xda\\x18W\\r^\\x1a\\xeaY\\xdb\\xee+\\xe3\\xd3\\xac\\x9e\\xe1r)\\xf5\\x01\\x00\\xc0\\xd9\\xbcI\\xea+\\xb1\\xe6*\\xb4\\xacr\\xcd\\xaf\\xb9~\\x8eUp[\"W\\xd3\\xd0\\\\,\\x93\\xac\\x06/q\\xad\\xbe\\xcfn\\xf7\\xd9\\xee4\\x00\\x00\\xc0i\\xbcG\\xea\\xab\\xb3\\xcetU\\xd2K\\xdb\\xf2\\x8b\\xda\\x87\\x1a^\\r\\x91k~\\xb6\\xe1\"\\xcdM\\x14k.\\x9673\\x8e\\xad\\x07l\\xbd\\xdf\\xeau\\xdd\\xa5V=U3%\\x00\\x00p\\x1ao\\x93\\xfav\\xe2J\\x9d\\x82~\\xd9\\x14\\xab\\x06\\xf3\\xb3\\x0eO\\x17\\xcb\\xf3\\x0f\\xfd\\xe6Gn.\\x9673\\x95\\xe7\\xe1\\xcb;\\xac\\xdfo\\xfb\\xde\\x97\\xdb\\x0f\\xe6\\xdb-\\xe5\\xbf\\xff.\\xaf\\xa5>\\x00\\x008\\x9b\\xf3\\xa4\\xbe*\\x95,Q\\xa5\\xb6\\xd3\\xa1I3c\\xc3c\\xc9g\\xfb&\\'1\\xbc\\x91S\\xbf\\x01~K\\xfb\\'\\xe2\\x01\\x97\\x01\\x1b\\xff\\xbf\\x80\\xf2G\\xe9\\xaa\\xe9\\xe9\\xf9\\x01\\x00\\xf8\\xb2\\xb3\\xa4\\xbe\\xe9?z\\x1c\\x0c\\xc7\\xc9\\x8dS\\xe6p\\x98,\\xe5\\xa5s\\xb4\\x07\\xd3\\xfa\\xdc\\xb9\\xf7z\\xe7.g!\\xf5\\xf1\\x84\\xf6\\x0f\\xcfw\\xa4\\xbev\\x96/\\xcd\\xff&6?\\xc6\\xdf\\xb2\\xf10\\xb6\\x14\\x008\\xb7\\x13\\xfe\\x17\\x9e\\x9b\\xc7\\x8f\\xdbg\\xc9\\xf6\\x10S\\xf7]^\\xafs\\xde\\xc6\\xc1\\xe7<\\x1c\\xd1\\xf8\\xa4\\xdb\\x7f\\x926l\\xfeA\\xd9\\xff\\xd3\\xf3\\xf4\\xfco\\xe2;\\xf6\\x9bo\\xfbc\\xbf\\xf10\\xb6\\x14\\x008\\xb7\\xd3\\xa4\\xbe\\xe1\\xd0\\xb1\\xb8:~\\xdc>3\\xb5\\xad\\xf5\\xb9sy\\xdd\\xde`\\xf4\\xe5S\\x18<\\xa8Z~\\xdbg\\xeb\\x1b\\x1d6\\x9a\\xea\\xd5<w\\xbf\\x14/KzX\\xf2\\xa3eyo\\xff\\x89\\x18l\\xceS\\x97\\xff||\\xac\\xff\\xe8\\xd5c\\xa6AO\\xcf\\xff\\x86.\\x9f\\xcb\\x97\\xf7\\x9b\\xe1\\xd3\\xfc\\x96Oq\\xe3a\\xbemn\\x00\\xe0W\\x9c$\\xf5\\xd5G\\xc5\\xcd\\xe3G{\\x96\\\\k\\x0f1u\\xdf\\xe5\\xb5S\\r\\xbf\\xe6+\\xff\\x01\\xf3u\\xd30\\xc7\\xbc\\x96\\xab\\x8b\\xf1e\\xe9[w\\xda\\xfe\\x13\\xd1\\xbe\\xae\\x1e\\xacz9v\\x99/\\x16\\x97rU|r\\xfe\\x1f7}0\\xa3<\\xceue,U\\x7fC\\xd2\\xf5\\xb3N\\x1drQ}\\x02\\xfb\\x03\\x97\\xbb\\xac\\xc2su\\xfbe\\xcaq\\xc6K\\xb7R\\xac:]F\\xd6C\\xcaLU\\xed\\xfe\\xbbX:o$\\xf9\\xbd\\x81\\xc3\\xf5\\xf2\\x9e\\x87>\\xebq\\x1d\\xc9[\\xff\\x94L\\x01\\x00\\xbf\\xe7|\\xa9o<wL\\xaf\\xc7sJU.\\x07\\x8e\\xcf\\xfd\\xef\\xfa:?\\xb2p\\x0e\\xd3\\xe9:\\x17E\\xbddW\\xae\\x9b\\xd63\\xcc\\xab\\x7f\\xd50\\xd7\\x9b9\\x96\\xd7\\xeb?\\x10\\xa5\\xff\\xee4\\x95\\xb6\\xf8\\xdc\\xfc?mx\\xa2r\\xe3i\\xeb\\xd8\\x0c\\xe1\\xc3\\xcb\\x9d\\xb43i?\\x97\\xe5\\xdd\\xec\\r\\xac\\xdf\\xffPn.\\xcaDU\\xa7\\xb1O\\xd3p\\xef\\t\\xca\\x84\\xd5$\\xc3\\xcb\\xa7\\x1e\\xa6h\\x06\\x8e\\x17\\xe3\\xc8\\x9dg=\\xaf\\xe13\\xfeq\\xb97\\x00\\xbc\\xd2i~\\xdeLG\\x9e\\x8b\\xf1\\xff\\x11=\\x9d3\\x96\\xb3\\xc7|\\x95.\\xab\\x93\\xc7epU\\xab\\x0f*\\xf5\\xebz\\x8a\\xc1\\xe9\\x0f0\\x9cF\\xbb\\xf2\\x96\\x15\\x19\\xed\\x02n\\\\7\\xb5kz\\x9a{\\xbc\\x9e_L\\x96~\\xf5\\x88\\xe5u\\xfbL\\xa3\\xf1N\\xab\\xf9/\\x97\\xd7\\xcf\\xd6\\x16\\x9f\\x9b\\xff\\x87\\xad\\xde\\xce\\xca\\xf2\\x99\\xb5\\x9f\\xde\\xc6\\xbb\\xde\\xeb\\xb0So\\xcbm\\xbd\\x9ezn\\xb8\\xbc\\xa8\\x06\\x0c\\xdd\\xea\\xf1\\x83\\xd5\\x94\\x8b\\xa5\\xa1\\xedr\\xf7a\\x16{=\\x96\\xa7\\xda\\xbd\\xfbQe\\xd1\\x1dU\\x9e\\x12\\x00\\xbe\\x89\\x1f-\\xf0\\xdb\\xea\\xf3\\xfc\\xe6\\xd9\\xb9\\xee\\xb0r\\xdd\\xb4\\x9ea>\\xa0\\xef\\x1e\\xed\\xeb9\\x96\\xd7{\\xa7\\xf8\\xddi*m\\xf1\\xb9\\xf9\\x7f\\xd8\\xd6\\xf3\\x0f\\x8f\\xb6\\xd8z\\xdc\\x8dQ{\\x1dv\\xea\\xcb\\x071\\x9a\\xeb\\xed\\xbdG\\x9b\\x03\\x96\\x9e\\xf3\\x83\\xb4wZ\\xcd45<\\xf90\\x8b\\xd5\\xdc\\xcb\\x80\\xd2\\xb0\\xeapP\\xf90\\xce&O\\x0f\\x00_\\xe0\\xc7\\xc9C\\xf2\\xb3\\xf7\\xb32\\x0bl\\xaa\\xce\\xdc\\xc3\\xcb\\xea8]\\x97\\xcb9|\\xf5\\x1f0_7\\xd5\\x03\\xc7\\x8b4\\x8f\\xf5\\xfab\\x19\\xb6\\xf4\\xaf^\\xd7]j\\xd5\\x1d\\x9b)+\\x97.U\\xf1\\xc9\\xf9\\x7fV\\xfdp\\x93\\xba2<\\xe3\\xf4zy5h\\xdf\\xe0h\\xaf\\xc3N\\xbd-\\xef\\xd6\\x17\\xf5c\\xd5\\x96z3\\xb4\\xee\\xbe4<\\xf90\\x8b\\xfd\\x1eS\\xcb\\xaa\\xfd0\\x86\\xfd\\xb7;yo\\x00\\xf0\\x0c??\\xee\\xcbO\\xdaS\\xc9\\xa3s\\x12\\xc3\\x11}\\xf4\\x99\\xff\\x80y\\xa3i\\x9e\\xaf\\xee>\\x1d\\xcc\\xe7\\xa6\\xe5\\x8c>\\x94\\xcaU\\xfd\\xba\\x9ez0O\\xb5\\x94\\xc7\\xe3\\xfe\\xd5\\x13\\xd5\\xa1\\xe0\\xe2\\xa9\\xf9\\xf3\\xfa\\xe7\\xd6\\xf0\\xf0D\\xe5a\\xc7\\xd8\\\\=\\xe2\\xf02\\xaf\\xa7Oo\\xac^\\\\\\x1a\\xae\\xde\\xf52nz[\\xe9\\xb07p\\xe8^ui.\\xae\\xe6\\xbeX\\xa6o-\\xf37#\\xab\\xee\\xc3\\xcb\\xaa\\xcb3\\x0f3k\\xaa\\xcd\\x8d\\xd2\\xb4\\xfdp\\xbfe|\\xa0o\\x96\\xa9\\xbf \\x13}\\x9f\\xcc\\x0b\\x00\\x0f\\xf0c\\xe3\\xbe\\xfc\\x80\\xe5\\xa6|X\\x1cW{\\xe2?\\xa4,\\xa6V\\xda^\\xa7\\xc4\\x969\\xd5\\x8c1i\\xbanB\\xf8V^\\xaa\\xcd\\xe3\\xc6p]E\\xa4\\xed\\x81\\xcb}W\\xe1yi\\x18T\\x0f\\xd5\\xcc3\\x9b\\xabe\\xdc4b\\xee\\xf2\\xd0\\xbb\\xd8}\\x98\\xc9X\\xfaW\\xf5I}0\\rmJ\\xbfdz\\xb8\\xaf\\xc8D?+\\xf7\\xfe\\x9a\\xcc\\x05\\x00;\\xfc\\xa8\\xb8/?Ty\\x99|\\xd0\\xbcV{\\xe2?\\xa4,\\x88-\\xe9\\xc1\\x01\\xb5\\x81\\xf4\\x87e}|J\\xa68\\x9e<\\xdf\\xa7d\\n\\x00h\\xf9\\t\\xf1\\x90\\xfc8\\xe5e\\xf2A\\xf3B\\xe7N}\\xb3t\\xe50~%\\xf4e5<)\\x83\\xcf&O\\xff\\xa4\\x0c\\x06\\x80\\x91\\x1f\\x0c/\\x97\\x9f\\xc0\\xdc\\x94\\x0f\\x8b\\xb7\\x97\\x05\\xf1\\x80\\x0c\\xe0\\x97\\xfdt\\xe8\\xcb\\xd7\\xff\\xb0\\x0c\\xebE\\xde\\xd5\\xc32\\x0c\\x80\\xb7\\xe7GB\\x87\\xf2\\xd3\\xfeT\\xf2\\xe80\\xca\\xb2x@\\x06\\xd0\\xbb|\\xdf\\x8f\\xc9\\x98\\xde\\xe5\\xdd>&c\\x00xW~\\x12\\xf0\\rr\\xac\\xf8\\xac\\xcc\\x02W\\xb2D\\x1e\\x90\\x01t\\'_\\xf0\\x032\\xe0\\xfd\\xe4\\xfd? \\x03\\x00x?~\\x06\\x00G\\x97\\x13\\xeb\\x032\\x80.\\xe4K\\xbd\\'\\xbd\\xf1\\x89\\x01\\xb0\\xcf\\xee\\x0f\\x9cF\\x0e\\xad\\x0f\\xc8\\x00N(_\\xe1=\\xe9\\xcd\\x96|F\\xf7\\xa47\\x00o\\xc0\\xa6\\x0f\\x9cO\\x0e\\xad\\x0f\\xc8\\x00N\"_\\xdbM\\xe9\\xca=\\xf9\\xbcnJW\\x00zg\\xc7\\x07\\xce*\\xe7\\xd6\\x07d\\x00\\x07\\x96\\xafj_\\xfa\\xf1\\xbc|\\x82\\xfb\\xd2\\x0f\\x80~\\xd9\\xeb\\x81\\xd3\\xcb\\xd1\\xf5\\x01\\x19\\xf0\\x1dN\\xf0\\x0f \\x9eD\\xbe\\x9b}\\xe9\\xc7\\xd7\\xe4\\xd3\\xdc\\x97~\\x00\\xf4\\xc8.\\x0ft\"G\\xd7\\x07d\\xc0\\xd7H}_\\x97\\xefc_\\xfa\\xf1}\\xf2\\xc9\\xeeK?\\x00\\xfab\\x7f\\x07z\\x93\\xd3\\xeb\\x03.\\x9d\\x87\\xf0\\x16\\x7f>\\xfe[\\xfd\\xa3\\xe3C\\xe3P]w\\xab\\xae\\xa6a\\xa5s1Oq)^\\xda\\x87YK}\\xeeV\\xc6\\xbd\\xa5\\xe9#\\xb8!\\xfdx\\x8d|\\xca\\xfb\\xd2\\x0f\\x80^\\xd8\\xd9\\x81n\\xe5\\x00{O\\xf3\\x0b\\xbb:\\xf6\\r\\x01m\\xccf\\xc3\\x8b\\xf5\\xef\\xf5V\\xb5\\xcdq\\xd3\\xcb\\xd20\\xbd\\xae.\\xde2\\xf7\\r\\x1f\\xc1M\\xe9\\xc7\\xeb\\xe5\\x13\\xdf\\x97~\\x00\\x9c\\x9f=\\x1d\\xe8\\\\\\x0e\\xb0\\x0f\\x18\\xbb/\\xf1m\\xc9uc^+\\x99.\\x96\\xd6\\\\\\xd4\\x19\\xee2\\xc9ty\\xd5k\\xbe\\xa8c\\xe2\\xdb\\xc8\\x07\\xbd#\\x9d\\xf8Y\\xf9\\xf4w\\xa4\\x13\\x00\\'gC\\x07\\xdeE\\x8e\\xb1\\x8f\\x18\\xe2X\\x93\\xd1\\xc6\\xab\\xc1\\x9c\\xed\\xae\\xf2\\xdc\\x8a\\xd4\\xd7\\xc8\\xa7\\xb2#\\x9d\\xf8=\\xf9&v\\xa4\\x13\\x00\\xa7e+\\x07\\xdeK\\x8e\\xb1\\x0f\\xa8C_\\xb1\\xf5\\x9b\\xc0\\xf5EM\\xea\\x1b\\xe4\\x03\\xdd\\x92\\x1e\\x1cC\\xbe\\x95-\\xe9\\x01\\xc09\\xd9\\xc7\\x817\\x95\\xc3\\xec\\x032`\\xb0\\x04\\xb7\\xe1\\xd5\\xf2\\x1fu\\xb6W\\x8bwO}\\xf9\\x04w\\xa4\\x13\\x07\\x93\\xafgKz\\x00p6vp\\xe0\\x8d\\r\\xd1\\xebIM\\x86\\x1b\\x94\\xb0W\\xae\\'\\xa9\\xbeu\\xea\\xcbG\\xb1%=8\\xaa|O[\\xd2\\x03\\x80S\\xb1}\\x03\\x0cr\\xa4}@\\x06\\xb0/\\x9f\\xd4\\x96\\xf4\\xe0\\x0c\\xf2\\x9dmI\\x0f\\x00N\\xc2\\xc6\\r\\xd0\\xc8\\xa9\\xf6\\x01\\x19@+\\x9f\\xce\\x96\\xf4\\xe0<\\xf2\\xcdmI\\x0f\\x00\\xce\\xc0\\xae\\r\\xb0\\xf2\\xdc\\x7f\\xf7\\x99A\\x8c\\xf2\\xa1\\\\I3\\xe7\\x94o\\xf1J\\x9a\\x018<[6\\xc0-9\\xde> \\x03\\xdeX>\\x88+i\\xe6\\xcc\\xf2]^I3\\x00\\xc7f\\xbf\\x06\\xb8/\\'\\xdc\\x07d\\xc0\\x9b\\xc9\\x9b\\xbf\\x92fz\\x91\\xef\\xf5J\\x9a\\x018*;5\\xc0\\x13r\\xc8}@\\x06\\xbc\\x81\\xbc\\xe1+i\\xa6/\\xf9v\\xaf\\xa4\\x19\\x80C\\xb2M\\x03|F\\x8e\\xba\\x0f\\xc8\\x80N\\xe5M^I3=\\xcaw|%\\xcd\\x00\\x1c\\x8f=\\x1a\\xe0\\xf3r\\xda}@\\x06\\xf4%\\xef\\xedJ\\x9a\\xe9W\\xbe\\xe9+i\\x06\\xe0`l\\xd0\\x00\\xdf g\\xde\\x07d\\xc0\\xf9\\xe5\\xfd\\xb4\\xd2\\xc6{\\xc8\\xb7~%\\xcd\\x00\\x1c\\x86\\xad\\x19\\xe0\\xdb\\xe4\\xcc\\xfb\\x80\\x0c8\\xad\\xbc\\x8dV\\xdax\\'\\xf9\\xee\\xaf\\xa4\\x19\\x80c\\xb0/\\x03|\\xbf\\x9c|\\x1f\\x90\\x01\\xa7\\x92Go\\xa5\\x8d\\xf7\\x93\\x15p%\\xcd\\x00\\x1c\\x80M\\x19\\xe0\\x85r\\xfe\\xbd\\'\\xbd\\xcf O\\xdcJ\\x1b\\xef*\\xeb\\xe0J\\x9a\\x01\\xf8mvd\\x80\\x97\\xcb\\x11\\xf8\\x01\\x19pHy\\xc4+i\\xe6\\xbde5\\\\I3\\x00\\xbf\\xcav\\x0c\\xf0sr\\x10~@\\x06\\x1cF\\x1e\\xebJ\\x9a\\xc1\"\\x0180{1\\xc0O\\xcbY\\xf8\\x01\\x19\\xf0\\xdb\\xf24W\\xd2\\x0cEV\\xc6\\x954\\x03\\xf0Kl\\xc4\\x00\\xbf&\\'\\xe2\\x07d\\xc0o\\xc8\\x13\\xb4\\xd2\\x06[\\xb2JZi\\x03\\xe07\\xd8\\x85\\x01~Y\\x0e\\xc5\\x0f\\xc8\\x80\\x1f\\x94\\x1b\\xb7\\xd2\\x06\\xfb\\xb2VZi\\x03\\xe0\\xc7\\xd9\\x82\\x01\\x8e\"G\\xe3\\x07d\\xc0\\xeb\\xe5~\\x954\\xc0=Y1\\x954\\x00\\xf0\\xe3l\\xc1\\x00\\x87\\x933\\xf2\\x032\\xe05r\\x8fJ\\x1a\\xe01Y7\\x954\\x00\\xf0\\xb3\\xec\\xbf\\x00\\x07\\x95c\\xf2\\x032\\xe0[e\\xeaJ\\x1a\\xe0\\x19Y=\\x954\\x00\\xf0\\x83l\\xbe\\x00G\\x97\\xc3\\xf2\\x032\\xe0\\xcb2]+m\\xf0\\x8c\\xac\\x9eV\\xda\\x00\\xf8)v^\\x80s\\xc8y\\xf9\\x01\\x19\\xf0Y\\x99\\xa5\\x956x^\\xd6P+m\\x00\\xfc\\x08\\xdb.\\xc0\\xc9\\xe4\\xd4\\xfc\\x80\\x0cxFF\\xb6\\xd2\\x06\\x9f\\x95\\x95\\xd4J\\x1b\\x00\\xafg\\xcf\\x058\\xab\\x9c\\x9d\\xefI\\xef\\xc7dL%\\r\\xf05YO\\x954\\x00\\xf0z\\xf6\\\\\\x80s\\xcb\\t\\xfa\\x01\\x19\\xb0/\\xfd*i\\x80\\xef\\x90UUI\\x03\\x00/f\\xc3\\x05\\xe8D\\xce\\xd1\\x0f\\xc8\\x80V\\xda*i\\x80\\xef\\x93\\xb5UI\\x03\\x00\\xafd\\xb7\\x05\\xe8J\\x8e\\xd2\\x0f\\xc8\\x80QJ\\xad\\xb4\\xc1\\xf7\\xc9\\xdaj\\xa5\\r\\x80\\x97\\xb1\\xd5\\x02\\xf4)\\x07\\xea\\x9b\\xd2u\\xabs\\x1a\\xe0\\xbbe\\x85U\\xd2\\x00\\xc0\\xcb\\xd8j\\x01z\\x96c\\xf5\\x8e\\xbd>S\\x1d^$\\xeb\\xac\\x92\\x06\\x00^\\xc3>\\x0b\\xf0\\x16r\\xb8nm\\xd6\\xa7\\xfe\\xf0RYm\\x954\\x00\\xf0\\x026Y\\x80\\xf7\\x92#v9d\\xe7\\xa22\\xd5\\xe1\\xa5\\xb2\\xda*i\\x00\\xe0\\x05l\\xb2\\x00\\xef+\\xc7\\xedJ\\x1a\\xe0\\xf5\\xb2\\xe6*i\\x00\\xe0\\xbb\\xd9a\\x01\\xdeT\\x0e\\xda\\x954\\xc0O\\xc9\\xca\\xab\\xa4\\x01\\x80oe{\\x05xS9eW\\xd2\\x00?%+\\xaf\\x92\\x06\\x00\\xbe\\x95\\xed\\x15\\xe0\\x1d\\xe5\\x88]I\\x03\\xfc\\xac\\xac\\xbfJ\\x1a\\x00\\xf8>\\xf6V\\x80\\xb7\\x93\\xc3u%\\r\\xf0\\x1b\\xb2\\n+i\\x00\\xe0\\x9b\\xd8X\\x01\\xdeNN\\xd6\\x954\\xc0/\\xc9B,R\\x05\\xe0\\x9b\\xd8X\\x01\\xdeK\\x8e\\xd5\\x954\\xc0\\xef\\xc9Z\\xac\\xa4\\x01\\x80\\xef`W\\x05x/9SW\\xd2\\x00\\xbf*\\xcb\\xb1H\\x15\\x80\\xef`W\\x05x#9PW\\xd2\\x00\\xbf-+\\xb2\\x92\\x06\\x00\\xbe\\xcc\\x96\\n\\xf0Fr\\x9a.R\\x85c\\xc8\\xba,R\\x05\\xe0\\xcbl\\xa9\\x00\\xef\"G\\xe9J\\x1a\\xe0\\x18\\xb2.+i\\x00\\xe0k\\xec\\xa7\\x00\\xef\"\\xe7\\xe8\"U8\\x92\\xac\\xce\"U\\x00\\xbe\\xc6~\\n\\xf0\\x16r\\x88\\xae\\xa4\\x01\\x8e$\\xab\\xb3\\x92\\x06\\x00\\xbe\\xc0f\\n\\xf0\\x16r\\x82.R\\x85\\xe3\\xc9\\x1a-R\\x05\\xe0\\x0bl\\xa6\\x00\\xfd\\xcb\\xf1\\xb9\\x92\\x068\\x9e\\xac\\xd1J\\x1a\\x00\\xf8,;)@\\xffrv.R\\x85\\xa3\\xcaJ-R\\x05\\xe0\\xb3\\xec\\xa4\\x00\\x9d\\xcb\\xc1\\xb9\\x92\\x068\\xaa\\xac\\xd4J\\x1a\\x00\\xf8\\x14\\xdb(@\\xe7rj.R\\x85c\\xcbz-R\\x05\\xe0Sl\\xa3\\x00\\x9d\\xcb\\xa9\\xb9H\\x15\\x8e-\\xeb\\xb5H\\x15\\x80O\\xb1\\x8d\\x02\\xf4,G\\xe6J\\x1a\\xe0\\xd8\\xb2^+i\\x00\\xe0y\\xf6P\\x80\\x9e\\xe5\\xbc\\\\\\xa4\\ng\\x90U[\\xa4\\n\\xc0\\xf3\\xec\\xa1\\x00\\xdd\\xcaa\\xb9\\x92\\x068\\x83\\xac\\xdaJ\\x1a\\x00x\\x92\\r\\x14\\xa0[9)\\x17\\xa9\\xc2yd\\xed\\x16\\xa9\\x02\\xf0$\\x1b(@\\xb7rR.R\\x85\\xf3\\xc8\\xda-R\\x05\\xe0I6P\\x80>\\xe5\\x98\\\\I\\x03\\x9cJ\\x96o\\x91*\\x00\\xcf\\xb0{\\x02\\xf4)g\\xe4\"U8\\x9b\\xac\\xe0\"U\\x00\\x9ea\\xf7\\x04\\xe8S\\xce\\xc8E\\xaap6Y\\xc1E\\xaa\\x00<\\xc3\\xee\\t]\\xfa\\xef\\xe3\\xcf\\xff\\xfe\\xfe\\xcb\\x05o(\\x07\\xe4J\\x1a\\xe0l\\xb2\\x82+i\\x00\\xe0a\\xb6N\\xe8D\\x9b\\xf3\\xbe?\\xf5\\xfd\\xfb\\xfb\\xbf\\xff\\xfd\\xf9\\xf8/W\\xdb~%k\\n\\xb8\\x9br:.R\\x85s\\xca:.R\\x05\\xe0a\\xb6N\\xe8\\xc4\\xabS\\xdf#\\xa4\\xbe\\xe3\\xc8\\xe9\\xb8H\\x15\\xce)\\xeb\\xb8H\\x15\\x80\\x87\\xd9:\\xe1\\xb0.q\\xe6\\xcf\\xc7\\x7f\\xc3\\xef\\xd8F\\xf9E\\xdbp\\xdd\\xa6\\xbb?\\x1f\\xff.\\xffw6\\xf6\\x9b\\xa2\\xd0z\\xechh*\\xe6\\x89n\\xf4\\x8f\\xea\\xbe\\x9b\\x9d\\xebi\\xe7\\xf1\\x9b\\xf7\\xba\\x0c\\xfc\\xf3\\xf11\\x8d\\xbe\\x14/}.\\xdd\\xafo\\xbd\\xeavq=\\xdb\\xa7o\\xda\\xbf\\xf1\\x9d.R\\x85s\\xca:\\xae\\xa4\\x01\\x80\\xc7\\xd87\\xe1\\xb0\\xa6\\xf4\\x92,3^\\x8cqe\\xc8G%\\xb7\\x0c\\xd5\\xaa\\xc3\\x12g\\x9a\\xb1\\xd5\\x88e\\x9a\\xf6b\\xaf\\xffb=\\xc9V\\xe7\\xa1\\xa1\\x1a\\xb8\\xf3\\xa4C\\xb9\\xbaA3\\xdbx15\\xad\\xba\\xed\\xcd\\xf6\\xb9\\x9bvnx\\xaf\\x95T\\xe1\\xcc\\xb2\\x9a\\x8bT\\x01x\\x8c}\\x13\\x0e\\xeb:\\xceL\\tf\\xc95u\\x8f\\xb6w{5\\x0f]M\\xb9\\xd70\\x97+\\xcb]\\xf7;7\\r\\xc3E=\\xcb\\xdc\\xaf\\x9ai\\xb0z\\xa6\\x9dn\\xbb\\xb3}\\xee\\xa6\\x9d\\xcb\\xb9\\xb8H\\x15\\xce,\\xab\\xb9H\\x15\\x80\\xc7\\xd87\\xe1\\xb0\\xae\\xe3P.K\\xc3U\\xdeYz\\xb7W\\xbb\\xd9g\\xee\\xb6\\xd3\\xbfR\\r\\xdd\\xed\\xdc4\\x0c\\x17+\\x9b\\x0f\\xd1\\xce\\xb6\\xb4\\xb6\\xddvg\\xfb\\xdcM;\\x97\\xb7^\\xa4\\ng\\x96\\xd5\\\\\\xa4\\n\\xc0c\\xec\\x9bpX\\xd7q\\xa8MWm\\xfb\\xad\\xaby\\xe8j\\xca\\xbd\\x86\\xeaV\\xb3*6\\xedvn\\x1a\\xd6\\xf7\\x9aU3\\rV\\xfd\\xe6\\xe9\\xdan\\xbb\\xb3}\\xee\\xa6=\\xcb\\xa1\\xb8\\x92\\x068\\xb3\\xac\\xe6J\\x1a\\x00x\\x80M\\x13\\x0ekH0\\xcdo\\xb4\\x96$65]\\x85\\xa7\\xb6\\xc3\\xd2\\xb8\\x04\\xb3q`i\\xa8\\x86\\xec\\xf5_T\\xb1i\\xb7s5\\xe1\\xd5\\xd5b\\x15\\xc0\\x86n[os\\xa3\\xdb\\xd6l\\x9f\\xbbi\\xcf\\xc6\\x95\\xb1H\\x15\\xce/k\\xbaH\\x15\\x80\\x07\\xd84\\xbb\\xf2F\\x07\\xdb\\xb70\\x04\\x98\\xea\\xaf\\xcal\\xbe\\xda\\xa1m\\xb3\\x94\\xfc4\\x8dMK\\x1d\\xcc\\xa6e\\x12mX\\xda\\xe9\\x1f\\xd5\\xea\\xda\\xef\\xdc<Cu=I\\xb5\\x9ai0\\xcd6?\\xd5\\xdc\\xb2\\xeav\\xb19\\xdb\\xe7n\\xda\\xb3\\xbc\\xf1\"U8\\xbf\\xac\\xe9\"U\\x00\\x1e`\\xd3<\\xbd\\xe10[N\\xbbot\\xb0}\\x0bS\\x1c\\xca\\xc5Z?_\\xf6\\xcd\\xb7\\xc9\\xf3r\".R\\x85\\xf3\\xcb\\x9a.R\\x05\\xe0\\x016\\xcd\\xaeH}}\\xb9\\x15\\x87:\\xfa\\xae\\xa5\\xbeo\\x96\\x13q\\x91*\\x9c_\\xd6t\\x91*\\x00\\x0f\\xb0i\\xbeR\\xf5\\x1f\\x9a\\x95CmUZ\\x0e\\xba\\x97\\xe2\\x9f\\xea_\\xa9\\xbe\\xd4\\xe7n\\xf5\\x7f\\xc4V\\xf7\\x99\\xeb\\xcd\\xe9\\xbfM\\x02\\x9b\\xf7\\xe2D\\x86op\\xe7\\x9b\\xeb(\\xf4\\xddz\\x9b|F\\xfe\\xd0\\x17\\xa9\\xc2\\xf9eM\\x17\\xa9\\x02\\xf0\\x00\\x9b\\xe6\\xeb\\x0c\\xe7\\xf2\\xe5?\\xbd\\x1c^\\x8d1\\xac\\x1co\\xab\\x8b)\\x9e\\xd5\\xaf\\xab\\x8bL1\\xd5\\xeb\\x8bL\\xb4\\x97\\xfa\\xea\\xd7\\xd5<@\\xcf\\x86\\xed\\xa3\\x92*\\xf4\"+\\xbbH\\x15\\x80{\\xec\\x98/s\\xfd\\xcb\\x98!{\\xd5\\x95K\\x8f)\\x8a5\\r\\xcd\\xc52\\xc9j\\xf0<\\xb6\\xb9O\\xdb\\xbd\\xceyK\\xff\\xc3[\\x7fL\\x87p\\xa2\\xcf\\x8f\\xf7\\x96\\xb3p\\x91*\\xf4\"+\\xbbH\\x15\\x80{\\xec\\x98/s\\x9d\\x13\\xea|6\\x98\\xe3M\\x93s\\x9a\\x8b6\\xc6U\\x83\\x97\\x86z\\xd6\\xb6\\xfbJ\\x9f\\xa9\\xef\\xb9\\xde\\x9fv\\xf9d\\xa5>\\xce \\x7f\\xdc\\x8bT\\xa1\\x17Y\\xd9E\\xaa\\x00\\xdc\\xd3\\xeb\\x8eYB\\xcf\\xd5I\\xbd\\xceH\\xafu}\\xa7u@\\x99\\x93D\\xd3\\xd0\\\\\\xb41\\xae\\x1a\\xbc\\xa4\\x90\\xfa>\\xbb\\xdd\\xcf\\xe4\\xb9G\\xff\\xa17\\xba|\\xdeph\\xe3\\xc6\\xb7H\\x15z\\x91\\x95]\\xa4\\n\\xc0=\\x9d\\xee\\x98u\\x12\\x9a\\xae\\xca\\x91\\xbdmy\\xa9\\xf6\\xb6\\xc3\\xab!\\xa1\\xccw\\x1f.\\xd2\\xdc$\\x97\\xe6by\\xdcql=`\\xeb\\x1dU\\xaf\\xeb.\\xe72}\\x00\\xc3[\\x19\\xe5M\\xd4o\\xb3\\xbc\\xbb\\x7f\\xe3g\\x12\\xe5\\xcdN\\x1f\\xd4d\\x19\\xb0\\xa8\\xdaK\\xf3\\xce\\x90\\xa5\\xfc\\xe7\\xe3\\xa3N}\\xf7n\\xc1\\xdb\\xc8*xR\\x06\\xbfF\\xeeQ\\xa4\\n\\xbd\\xc8\\xca.R\\x05\\xe0\\x9e~S\\xdfN\\xe2i\\xc3\\xc3\\x8b\\xd5\\xb1!O3\\x87\\x99\\xaa6\\xf6\\x9b\\x1f\\xaa\\xb9X\\x1ew*\\xcf\\xc3\\x97\\xf7P\\xbf\\xa3\\xf6\\xdd\\xd5\\xe1\\xa4\\xbe\\xdd\\xc1M\\x8f\\x9d\\xc7\\x1d/\\xc6\\xb7T\\xbf\\xb7\\xa1ZuX\\xde\\xf2^\\xaf\\xd9\\xd0^j\\xf7\\xff\\x8a\\x9d\\xa5g\\xf5\\x01\\xde\\xbb\\x05\\x870.\\xfa\\xe3\\xcaS\\xbe@nP\\xa4\\n\\xbd\\xc8\\xca.R\\x05\\xe0\\x9e\\xdf\\xde1\\xc7S\\xf6\\xa4:\\xba\\xcf.\\xcd\\x973\\xf5x\\xe6\\x1e\\xe4|]\\x1f\\xbb\\xaf\\x0f\\xde\\xd5\\x94\\xe9V\\xf7\\xbf\\x1e[l\\xdd\\xff@\\x86G=\\xf8#~\\x93\\xd5;\\xbd|c\\xd3\\xd7\\xbb|uu\\x8f\\xa6\\xf7pQ\\xaf\\x85yl\\xd1~\\xfd\\x83\\xf5\\xe7Z\\x86\\xec=\\xc5\\xdd[pO\\xfe\\xc0\\xbd\\xb7|\\x16/\\x90\\x1b\\x14\\xa9B/\\xb2\\xb2\\x8bT\\x01\\xb8\\xe7ww\\xcc\\xe9\\x97-\\x83\\xf5Y:\\x86\\xf2\\xe3\\xbf\\xf6Y\\xb4G\\xf1\\xba\\xfb\\xde\\xeb\\x9d\\x078\\x8e\\xe1\\x01\\xcb\\xc3\\xf6m\\xf5N\\x97o\\xa944\\x1d\\xae.V\\xda/\\xb5]\\x18\\x83z\\x11\\x0c\\xca|\\xab\\xfa<\\xf0\\xee-\\xce,o\\x88\\xd7\\xcb\\'\\xfe\\x02\\xb9A\\x91*t$\\x8b\\xbbH\\x15\\x80\\x9b\\x0e\\xb3]6\\x87\\xf7\\xd9\\xaa:\\x1f\\xbd\\x97#\\xf9\\xf6\\xb8\\xb9\\xe3\\xa8>\\xc0\\xb7#\\xeb\\xf3z;\\xe6p\\xb6\\xdfh\\x8f\\xf6\\xbe\\xf4\\xd2\\xd2\\xb67Ww?\\xa4z)L\\xd6C\\xca\\xedV\\xf5\\xf9)\\xee\\xde\\xe25r\\xba\\xa1\\x0b\\xf9R_#\\xf7\\x18\\xa5\\x04}\\xc9\\xfa.R\\x05\\xe0\\xa6_\\xde.\\x87#\\xf4\\xe2\\xfa0}}\\xf4\\xceei\\xd89\\x83WI\\xe1\\xa2>\\xea\\xb7S\\xac\\x1c9\\xf5\\xbd\\x8f\\xe9\\x8b\\xc9w1\\\\,_K\\xf9\\xce\\xaa\\xaf\\xfc\\xba\\xc3\\xcdoq\\xf8\\xfeK\\x87\\xdb\\x7f\\xc5N\\xd5s\\xbamuQf\\xf8\\x8c\\xf1\\r\\xd0\\x89|\\xa9\\x87\\x91\\xc7*R\\x85\\xbed}\\x17\\xa9\\x02p\\xd3\\xafn\\x97u\\x1a\\x1b\\xce\\xd2\\xd5Y>V\\xd5\\xcb\\x80r\\xde\\x9eZ\\xb6G5\\x1d/\\xea\\xfb,\\xaf\\xf7\\xc6\\x8e\\xf2\\xc3\\x84_\\xf8\\x81z\\xf9b\\xea\\xbf\\x9e\\xb3\\xf9\\x8e\\x86/m\\xb3\\xb4d\\xb9r=\\xb9\\xcegK\\xfb\\xdc6,\\x8a\\xa8\\xfb/=\\xc7\\x95\\xb64\\xdd\\xbb\\xc5\\xbe\\x0c\\xe1\\xf5\\xf2\\x89\\xbf\\x99\\xbc\\xf9\"U\\xe8K\\xd6w\\x91*\\x007\\x1d%\\xf5\\x8d\\xe7\\xee%\\x8d\\x95\\xf2t\\xbc\\xce\\xb1z\\xb8\\xb8>y7\\t\\xa0\\xb8LW\\x9d\\xc5\\xab\\xfb\\xd4\\xaf\\xdb\\xf9*\\xe3\\xbc,\\xf2\\xb9\\x1cA\\xfd]\\x9eP>\\xd0\\xf7\\x96\\xcf\\x82\\x17\\xc8G\\\\\\xa4\\n}\\xc9\\xfa.R\\x05\\xe0\\xa6_\\xde.\\xc7\\xb07\\x18\\xffA\\xb4\\xe94\\xbfN}\\x9b\\xff\\\\\\xc1\\xc5\\x14\\xfb\\xb6\\x13\\xc0e\\xc4\\xfd\\xd4wQ\\xa2\\xe3\\xa4\\x0c\\xc9%\\xc5\\xf8\\xa9\\x1cB\\xfb\\xf5\\x9dO>\\xd0\\xa3\\xcaSrZ\\xf9\"\\x8bT\\xa1/Y\\xdfE\\xaa\\x00\\xdct\\xf0\\xedrJ}\\xb9X{Y\\x02\\xc8O\\x12\\x8a|.\\xbf\\xef\\xec\\xa1o\\x90\\xcf\\xf4y\\x19\\x0f\\xfb\\xb2V\\x8aT\\xa1/Y\\xdfE\\xaa\\x00\\xdct\\xe2\\xd4\\xf7\\xd2\\x04\\x90\\x1f&\\xf8\\x81\\n\\xe7\\x91?\\xb4E\\xaa\\xd0\\x97\\xac\\xef\"U\\x00n:o\\xea\\xeb\\xe1\\xd7>\\x00\\xdf(\\xa7\\xe0\"U\\xe8K\\xd6w\\x91*\\x007\\xd9.\\x01:\\x91Sp\\x91*\\xf4%\\xeb\\xbbH\\x15\\x80\\x9bl\\x97\\x00\\x9d\\xc8)\\xb8H\\x15\\xfa\\x92\\xf5]\\xa4\\n\\xc0M\\xb6K\\x80N\\xe4\\x14\\\\\\xa4\\n}\\xc9\\xfa.R\\x05\\xe0&\\xdb%@\\'r\\n.R\\x85\\xbed}\\x17\\xa9\\x02p\\x93\\xed\\x12\\xa0\\x139\\x05\\x17\\xa9B_\\xb2\\xbe\\x8bT\\x01\\xb8\\xc9v\\t\\xd0\\x89\\x9c\\x82\\x8bT\\xa1/Y\\xdfE\\xaa\\x00\\xdcd\\xbb\\x04\\xe8DN\\xc1E\\xaa\\xd0\\x97\\xac\\xef\"U\\x00n\\xb2]\\x02t\"\\xa7\\xe0\"U\\xe8K\\xd6w\\x91*\\x007\\xd9.\\x01:\\x91Sp\\x91*\\xf4%\\xeb\\xbbH\\x15\\x80\\x9bl\\x97\\x00\\xfd\\xc8A\\xb8H\\x15:\\x92\\xc5]\\xa4\\n\\xc0M\\xb6K\\x80~\\xe4 \\\\\\xa4\\n\\x1d\\xc9\\xe2\\x1e\\xa5\\x04\\xc0=vL\\x80~\\xe4,\\\\\\xa4\\n\\xbd\\xc8\\xca.R\\x05\\xe0\\x1e;&@?r\\x16.R\\x85^de\\x17\\xa9\\x02p\\x8f\\x1d\\x13\\xa0\\x1f9\\x0b\\x17\\xa9B/\\xb2\\xb2\\x8bT\\x01\\xb8\\xc7\\x8e\\t\\xd0\\x8f\\x9c\\x85\\x8bT\\xa1\\x17Y\\xd9E\\xaa\\x00\\xdcc\\xc7\\x04\\xe8G\\xce\\xc2E\\xaa\\xd0\\x8b\\xac\\xec\"U\\x00\\xee\\xb1c\\x02\\xf4#g\\xe1\"U\\xe8EVv\\x91*\\x00\\xf7\\xd81\\x01\\xba\\x92\\xe3p\\x91*\\x9c_\\xd6t\\x91*\\x00\\x0f\\xb0i\\x02t%\\'\\xe2\"U8\\xbf\\xac\\xe9\"U\\x00\\x1e`\\xd3\\x04\\xe8JN\\xc4E\\xaap~Y\\xd3E\\xaa\\x00<\\xc0\\xa6\\t\\xd0\\x95\\x9c\\x88\\x8bT\\xe1\\xfc\\xb2\\xa6\\x8bT\\x01x\\x80M\\x93s\\xfb\\xf7\\xf7\\x7f\\xff\\xfb\\xfb\\xef\\xfa\\xf5k]\\xee\\xf4\\xe7\\xe3\\xbf\\\\|\\xbf\\x9f{#\\xf4(\\'\\xe2\"U8\\xbf\\xac\\xe9\"U\\x00\\x1e`\\xd3\\xe4|\\x86PTB\\xd7\\xb7\\xa7\\xbe\\xff>\\xfe\\xdc\\x9f\\xa4J}\\xf5\\xc3|\\xda\\xea\\xa6\\xdf\\xf2Fx[9\\x11W\\xd2\\x00\\'\\x97\\x05]\\xa4\\n\\xc0\\x03l\\x9a\\x9c\\xdb\\xaf\\xa7\\xbeo!\\xf5\\xf1\\xbdr(.R\\x853\\xcbj.R\\x05\\xe01\\xf6M\\x8e\\xa5\\xc9?M\\xfaY.\\xea\\xf2\\xde\\xebb\\x9aoh\\x19\\xd5Ymh*\\xa6au\\xe5*\\xd6-\\x8d\\x7f>>\\xda\\xdf\\xf5\\xe5\\xa6\\x97\\x97c\\xd3\\xe0z\\xc2\\xea\\xc9\\xaa\\xf2\\xdf\\x7f\\x1b7\\x9d\\xe7l\\xdf\\xd1\\xd0\\xf3[\\xc3&\\xdd\\xcaz*R\\x853\\xcbj.R\\x05\\xe01\\xf6M\\x0ef\\x886\\t:\\xff}\\xfc\\xfdS]\\xcc/\\xeb,\\xb4\\xf7\\xba\\x982U\\xb2R\\xd5a\\xac\\x97\\xce\\xf5Eu\\x9f\\xdaP\\xae\\x83^s\\x91\\xfec\\xbd\\x1a\\\\?O5~(/\\xa3\\xc7W\\xab\\x9b.\\x03w\\xa6\\x80\\xdb\\x86\\x95XI\\x15\\xce,\\xab\\xb9H\\x15\\x80\\xc7\\xd879\\x9a9\\xe8\\\\R\\xce\\xf0[\\xba)\\xe8\\xd4\\xb9\\xa8\\x8eB{\\xaf\\x8b6O]z\\\\O7\\x98\\x1b\\xaeZ&\\xab\\xea\\xd2\\xbd\\xbei{\\xffaH\\x1d\\xd2\\xca\\x98\\xb6\\xd7\\xe4z\\xfa\\xeb9\\xb7\\x1f\\x0cv\\xe4h\\\\\\xa4\\n\\xe7\\x94u\\\\I\\x03\\x00\\x8f\\xb1or8K<\\xba\\x84\\x9cK\\xd6\\x19.\\x9a\\xc8S\\xe7\\xa6\\xbd\\xd7E\\x9b\\x95\\xca\\xd4W]\\x97n\\xdb\\xe1j\\xd5\\x7f\\x9e\\xa7ii;\\r\\x13\\xad\\x94\\xd4W\\xc6\\xceV7\\xad\\'*M\\xdb\\xcf\\x05{\\xb2\\xe8\\x8aT\\xe1\\x9c\\xb2\\x8e\\x8bT\\x01x\\x98\\xad\\x93\\xe3\\x99r\\xd1\\xf2\\x1f?\\x8e\\x17U\\xe4\\xa9C\\xd1\\xde\\xeb\\xa2\\rK\\xd3\\xcc\\x97\\x17\\xeb\\x0c57\\xec\\xa4\\xabUu\\xe9^\\xdf\\xb4\\xbd\\xff\\xf6D\\xeb^\\x93\\xeb\\xe9\\x97\\xcb\\xa9mo6\\xd8\\x91\\xd3q\\x91*\\x9cS\\xd6q\\x91*\\x00\\x0f\\xb3ur@C\\xa8\\xfa\\xfb\\xf7\\xcf\\x94r.\\x17\\x7f\\xff\\xd6\\xa1\\xaf\\tE{\\xaf\\x8b6-\\r\\x13/\\xe1nn\\x18.J\\x8a\\xab_W\\x86\\xb9\\xeb\\xa1\\xf7S\\xdf\\xdeL\\xf5T\\x97\\xd7\\xe3\\xabU\\xd7v\\xa2\\xe9~\\xd7o\\rn\\x19\\x17M#\\rp6Y\\xc1\\x954\\x00\\xf00[\\'G4\\xc4\\x9e9\\xe54\\x17\\x83:\\x14\\xed\\xbd.\\x86\\xc8\\xb4\\xd4.=\\x96p5\\xce;\\xa9\\xc3Y\\tYumP\\xea\\xc3=.\\xafKsu\\xd3\\xeb\\xfb/c\\x06\\xf3\\x8cK\\xb9\\x94\\xda\\x9b\\xae&\\x9a\\x1a\\xd7\\xef\\x0c\\xee\\x19\\xd7\\xd4\"U8\\x9b\\xac\\xe0\"U\\x00\\x9ea\\xf7\\x84\\xc3\\xbb\\x8e\\x93\\xf0\\x80\\x9c\\x91\\x8bT\\xe1l\\xb2\\x82\\x8bT\\x01x\\x86\\xdd\\x13\\x8eN\\xe8\\xe3srF.R\\x85\\xb3\\xc9\\n.R\\x05\\xe0\\x19vO88\\xa1\\x8f\\xcf\\xcb1\\xb9H\\x15\\xce#k\\xb7\\x92\\x06\\x00\\x9ea\\xf7\\x04\\xe8V\\x8e\\xc9E\\xaap\\x1eY\\xbbE\\xaa\\x00<\\xc9\\x06\\n\\xd0\\xad\\x9c\\x94+i\\x803\\xc8\\xaa\\xad\\xa4\\x01\\x80\\'\\xd9@\\x01z\\x96\\xc3r\\x91*\\x9cAVm\\x91*\\x00\\xcf\\xb3\\x87\\x02\\xf4,\\xe7\\xe5J\\x1a\\xe0\\xf0\\xb2d\\x8bT\\x01x\\x9e=\\x14\\xa0s92\\x17\\xa9\\xc2\\xb1e\\xbd\\x16\\xa9\\x02\\xf0)\\xb6Q\\xfa\\xf2\\xaf\\xfew\\xd8\\x7f\\xdb\\xc6\\xc3\\x0c\\xff\\xe2\\xba\\xbf\\x90\\x93\\x1f\\x96Ss\\x91*\\x1c[\\xd6k\\x91*\\x00\\x9fb\\x1b\\xa5/\\xdf\\x91\\xfa\\xbe-\\x99I}\\x1cCN\\xcd\\x954\\xc0Qe\\xa5V\\xd2\\x00\\xc0\\xa7\\xd8F\\xe9\\x8b\\xd4\\x07[rp.R\\x85\\xa3\\xcaJ-R\\x05\\xe0\\xb3\\xec\\xa4\\x1cM\\x9b\\x8b\\x96\\xe04\\xd5/\\xd7\\x93*N\\r-\\xa5\\xf8Q\\x07\\xad\\xa5\\xa1\\xfaw\\xce\\xc7\\x19/\\xddJ\\xb1\\xeat\\x19Y\\x0f)3U\\xb52\\xcbPz\\xf2a&\\xdb\\x03\\x87\\xeb\\xe5=\\x0f}\\xd6\\xe3\\xea\\x87Xu\\x8d\\xab\\x11P\\xc92\\xa9\\xa4\\x01\\x8e\\'k\\xb4\\x92\\x06\\x00>\\xcbN\\xca\\xd1L\\xb9(\\x17\\xab\\xd4\\xb7\\x15\\x93\\xea\\x8c4\\xa6\\xa9\\xfa\\xa2Ni\\xd5\\xd0u|\\x9b^\\x17\\xeb\\'(\\x13V\\x93\\x0c/\\x9fz\\x98\\xa2\\x198^\\x8c#w\\x9e\\xb5X:6\\x17\\xc3\\xabR\\x85{\\x86\\x85_I\\x15\\x8e\\'k\\xb4H\\x15\\x80/\\xb0\\x99r4m\\x94\\xb9\\xc4\\xa1*\"m\\xd4W\\xc9\\xa7\\xa9\\xd7\\xd9in\\xa8\\x03\\xd6\\xd4m\\x9d\\x9cVS.\\x96\\x86\\xb6\\xcb\\xdd\\x87Y\\xec\\xf5X\\x9ej\\xe3\\xee\\xebR\\x195\\xd4\\xd7}aON\\xd0\\x954\\xc0\\x91duV\\xd2\\x00\\xc0\\x17\\xd8L9\\x9a6\\xe2,\\xc1i\\xa7\\xbe\\xc4\\xa5\\xd1\\\\\\x1f\\x13Qks\\xc0\\xd23\\xf7Y\\xdfi5\\xd3\\xd4\\xf0\\xe4\\xc3,Vs/\\x03J\\xc3\\xaa\\xc3h\\xfd\\xc8U\\x9f\\xe1\\xe5`}\\x1f\\xd82.\\x96E\\xaap$Y\\x9dE\\xaa\\x00|\\x8d\\xfd\\x94\\xa3ic\\xcf\\x12\\x9cv\\xea\\xab\\x94\\xb4W_\\xac#T\\xb1\\xd4\\x9b\\xa1u\\xf7\\xa5\\xe1\\xc9\\x87Y\\xec\\xf7\\x98ZV\\xed\\x93u\\xf1z\\xde\\xfa)aW\\xce\\xd1\\x954\\xc01d]V\\xd2\\x00\\xc0\\xd7\\xd8O9\\x9c%\\xc1\\x0ci\\xa7\\xf9\\x1f\\xc1-\\xc1f\\t>C\\xf7\\xaaKs\\xb1\\xcaF\\xa3\\xbd\\x80\\xb4\\xcc\\xdf\\x8c\\xac\\xba\\x0f/\\xab.\\xcf<\\xcc\\xac\\xa967J\\xd3\\xe6\\xc3\\x8dM\\xa5\\xde\\x8e\\x9a\\x0c\\xb5\\x8dqpe\\\\d\\x8bT\\xe1\\x18\\xb2.\\x8bT\\x01\\xf82[*\\x074\\xc6\\xab\\xc1\\xf8\\xb7]V\\x11i+h-qi\\xe8\\x7fy}\\x9d\\xa3&\\xa9\\x0f\\x937\\xf3\\xcc\\xe6j\\x197\\x8d\\x98\\xbb\\x8c\\x7f)\\xe7\\xd4\\xe9\\x13\\x0f3\\x19K\\xff\\xaa>\\xa9\\x0f\\xa6\\xa1MiQ=\\xe8<\\xe7\\xe6\\xc3\\xc3MY0\\x954\\xc0o\\xcb\\x8a\\xac\\xa4\\x01\\x80/\\xb3\\xa5\\xc2a\\x0c)Nz\\xe3\\xe5r\\xa0\\xae\\xa4\\x01~U\\x96c\\x91*\\x00\\xdf\\xc1\\xae\\nG!\\xf4\\xf13r\\xa6\\xae\\xa4\\x01~O\\xd6b%\\r\\x00|\\x07\\xbb*\\x1c\\x84\\xd0\\xc7\\xcf\\xc9\\xb1\\xba\\x92\\x06\\xf8%Y\\x88E\\xaa\\x00|\\x13\\x1b+\\xc0\\xdb\\xc9\\xc9\\xba\\x92\\x06\\xf8\\rY\\x85\\x954\\x00\\xf0Ml\\xac\\x00\\xef(\\x87\\xebJ\\x1a\\xe0ge\\xfdU\\xd2\\x00\\xc0\\xf7\\xb1\\xb7\\x02\\xbc\\xa9\\x1c\\xb1+i\\x80\\x9f\\x92\\x95\\xd7J\\x1b\\x00\\xdf\\xc7\\xde\\n\\xf0\\xa6r\\xc4\\xae\\xa4\\x01~JV^%\\r\\x00|+\\xdb+\\xc0\\xfb\\xcaA\\xbb\\x92\\x06x\\xbd\\xac\\xb9J\\x1a\\x00\\xf8nvX\\x80\\xb7\\x96\\xe3v%\\r\\xf0JYm\\x954\\x00\\xf0\\x026Y\\x80\\xb7\\x96\\x13w%\\r\\xf0JYm\\x954\\x00\\xf0\\x026Yx\\xc6\\xbf\\xbf\\xff\\xfb\\xf3\\xf1_.\\xa0\\x139tW\\xd2\\x00\\xaf\\x91uVI\\x03\\x00\\xafa\\x9f\\x85g\\xbc \\xf5\\r\\xff:\\xbb$\\xc9o\\xcb\\xd1\\xbb\\x92\\x06\\xf8nYa\\x954\\x00\\xf02\\xb6Zx\\x86\\xdf\\xf5\\xd1\\xa9\\x9c\\xbe[i\\x83o\\x95\\xe5UI\\x03\\x00/c\\xab\\xe5(\\x86_y\\xfd\\xfd\\x97\\x8b\\xff\\xfb\\xef\\xe3\\xcf\\x1c\\xaf\\x86\\xd7\\xc5\\xdcc(.\\xdd7\\xc2\\xd8\\xd4a\\x98uT7oNx\\xb1S_\\xca\\x7f>>\\xb6R_5\\xaey\\xa4\\xda\\xd4\\xb0\\xd5\\xb3z\\xe3C\\xf3\\xce3\\xc3\\xcbe\\xddU\\xd2\\x00\\xdf\\'k\\xab\\x92\\x06\\x00^\\xc9n\\xcbaT\\xe9g\\x8c?S\\xe6\\x19sR]\\xce\\xc5\\x14\\x90\\xc6\\xea\\xc5e\\xecV\\xea\\x9b\\x83S=\\xf7\\xf6}v\\xeb\\xeb.W7\\xfa\\xf7\\xb7T\\xaa\\xae\\xcb\\x03\\r\\xc5L\\xbb\\xd9\\xb3\\xbe\\xefP\\xde|f\\xf8\\x19\\xc3\\x19\\xbc\\x95\\x06\\xf8\\x0eYU\\x954\\x00\\xf0b6\\\\\\x8ec\\x899KR\\xaa2\\xd3hNSm\\xc3\\x12\\xb2f;\\x1d\\x86r\\xdd\\xb54\\xdc\\xaaW\\x0f\\xb0q\\xa3\\xca\\xdc\\xb9\\x1e\\xb59\\xa4\\xeapi//\\xdb\\x9b\\xdd\\xbe\\x17\\xbcF\\x0e\\xe3\\x954\\xc0\\xd7d=U\\xd2\\x00\\xc0\\xeb\\xd9s9\\x90\\x12z\\xb6#\\xd1hn\\xba\\x1b\\x90v:\\x0c\\xe5\\x95\\xb1a\\xaf\\xbez\\x80\\xad$\\xd6\\x0e\\x9d:/\\xfd\\xea\\t\\xb6z\\xd6\\x1dv\\x9e\\x19~P\\x96g+m\\xf0YYI\\xad\\xb4\\x01\\xf0z\\xf6\\\\\\x8edJ=u\\xf6isP\\x95\\x84\\xee\\x06\\xa4\\x9d\\x0e\\xeb\\t\\x8b\\x07\\xeb\\xd77\\xbaT\\xe6\\x0es\\xe7\\xe1\\xc5\\xac\\xb4n\\xf6l\\xca\\xed\\xcd\\xae\\xef\\x05?\"+\\xb7\\x956x^\\xd6P+m\\x00\\xfc\\x08\\xdb.\\x87R\\xd2\\xd2\\x12}\\xc6J\\x9d\\x95J\\x10Z\\xc2\\xd24\\xe8\\xc1\\xd4\\xd7\\xccQ\\xdb\\xab\\x0f\\xf7\\xa9\\x86^\\xdd\\xa8\\nm\\xc3\\xcb\\xe9\\xf5\\xe5\\xd5r\\xefb\\xb3gS\\xde{f\\xf8i\\x97\\x05z-m\\xf0\\xa4,\\xa0J\\x1a\\x00\\xf8)v^\\x8ee\\nVmb\\x1a#\\xd2\\xa4IAs}\\xfck/\\xd7\\x01\\xe9F\\x82\\x9anR\\xdc\\xad/\\xe5\\xf1\\xf7\\x90\\xeb\\x1b-\\xcf1\\xfe\\x15\\x9fU\\x96\\x9b\\x95!\\xbb=\\xf3\\xf2\\xc63\\xc3O\\xcbb\\xad\\xa4\\x01\\x9e\\x91\\xd5SI\\x03\\x00?\\xc8\\xe6\\xcb\\xc1T\\x19\\xe8\\xbc\\x86\\xf4V\\x056\\xf1\\x8d\\x93\\xca!\\xbd\\x92\\x06xL\\xd6M%\\r\\x00\\xfc,\\xfb/\\xc7\\xd2E\\xe8[\\xbd\\x8bU\\x06\\x843\\xc9Q\\xbd\\x92\\x06\\xb8\\'+\\xa6\\x92\\x06\\x00~\\x9c-\\x98C\\xe9#\\xf4],\\xffU\\xe8\\x85\\xc8\\xc7ye\\x11\\xb7\\xd2\\x06\\xfb\\xb2VZi\\x03\\xe0\\xc7\\xd9\\x82\\x01\\xb8%\\x07\\xf6V\\xda`KVI+m\\x00\\xfc\\x06\\xbb0\\x00w\\xe4\\xd8\\xdeJ\\x1b\\xb4\\xb2>Zi\\x03\\xe0\\x97\\xd8\\x88\\x01\\xb8/\\x87\\xf7V\\xda\\xa0\\xc8\\xcah\\xa5\\r\\x80\\xdfc/\\x06\\xe0!9\\xc2\\xb7\\xd2\\x06V\\x08\\xc0\\x81\\xd9\\x8e\\x01xT\\x0e\\xf2W\\xd2\\xcc\\x1b\\xcbRh\\xa5\\r\\x80\\xdffG\\xa6\\x0f\\xed\\xbfo\\x0e\\xbcL\\x8e\\xf3W\\xd2\\xcc\\xfb\\xc9\\n\\xb8\\x92f\\x00\\x0e\\xc0\\xa6\\xccY\\xb59\\xef\\xfbS\\xdf\\xf0\\x8fH\\xdc\\xfb\\'\\x17~%k~\\xf1\\xa6\\xf21_\\x97C\\xfd\\x954\\xf3N\\xf2\\xdd_I3\\x00\\xc7`_\\xe6\\xac^\\x9d\\xfa\\x1e!\\xf5\\xf1\\xb6r\\xb4\\xbf\\x92f\\xdeC\\xbe\\xf5+i\\x06\\xe00l\\xcd\\x1c\\xc7%\\x8f\\xfc\\xf9\\xf8o\\xf8\\x1d\\xdb(\\xbfhk\\xff\\xe1\\xf6!\\xb3\\xfc\\xf9\\xf8w\\xf9\\xbf\\xb3\\xb1\\xdf\\x94e\\xd6cGCS1Ot\\xa3\\x7fT\\xf7\\xdd\\xec\\\\O;\\x8f\\xdf\\xbc\\xd7e\\xe0\\x9f\\x8f\\x8fi\\xf4\\xa5x\\xe9s\\xe9~}\\xebU\\xb7\\x8b\\xeb\\xd9>}\\xd3\\xc9\\xe3\\xc3\\xe1\\xbe\\xac\\x9a-\\xe9A\\xd7\\xf2e\\xb7\\xd2\\x06\\xc0\\xc1\\xd8\\xa09\\x8e)~$\\x8c\\x8c\\x17c\\x08\\x19\\xf2QI#C\\xb5\\xea\\xb0\\x84\\x94fl5b\\x99\\xa6\\xbd\\xd8\\xeb\\xbfXO\\xb2\\xd5yh\\xa8\\x06\\xee<\\xe9P\\xaen\\xd0\\xcc6^LM\\xabn{\\xb3}\\xee\\xa6\\x8bvxu\\xff\\xd5\\x05<fXh[\\xd2L\\x8f\\xf2\\x1d_I3\\x00\\xc7c\\x8f\\xe68\\xae\\xe3\\xcc\\x94`\\x96\\\\S\\xf7\\xb8N/\\xcb\\xd5<t5\\xe5^\\xc3\\\\\\xae,w\\xdd\\xef\\xdc4\\x0c\\x17\\xf5,s\\xbfj\\xa6\\xc1\\xea\\x99v\\xba\\xed\\xce\\xf6\\xb9\\x9b.\\xae\\x86\\xd7\\xbd\\x96\\xbb\\xc0\\xe3r\\xe4\\xbf\\x92f\\xfa\\x92o\\xf7J\\x9a\\x018$\\xdb4\\xc7\\xb1\\x8a Kn)\\r7\\x02K{\\xb5\\x9b}\\xe6n;\\xfd+\\xd5\\xd0\\xdd\\xceM\\xc3p\\xb1\\xb2\\xf9\\x10\\xedlKk\\xdbmw\\xb6\\xcf\\xddt\\xd1\\x0c_\\xf7Z=\\x1b<*\\xab\\xefJ\\x9a\\xe9E\\xbe\\xd7+i\\x06\\xe0\\xa8\\xec\\xd4\\x1c\\xc7*r\\\\\\x12I\\x9b\\xae\\xda\\xf6[W\\xf3\\xd0\\xd5\\x94{\\r\\xd5\\xadfU \\xda\\xed\\xdc4\\xac\\xef5\\xabf\\x1a\\xac\\xfa\\xcd\\xd3\\xb5\\xddvg\\xfb\\xdcM\\x177\\x87W\\xef\\r\\x9e\\x94\\xe3\\xff\\x96\\xf4\\xe0\\xcc\\xf2]nI\\x0f\\x00\\x0e\\xccf\\xcdq\\x0c\\x11\\xa4\\xf9\\x8d\\xd6\\x12@\\xa6\\xa6\\xab\\xf0\\xd4vX\\x1a\\x97\\xf02\\x0e,\\r\\xd5\\x90\\xbd\\xfe\\x8b*6\\xedv\\xae&\\xbc\\xbaZT3\\r\\x86n[os\\xa3\\xdb\\xd6l\\x9f\\xbb\\xe9\\xe2z\\xf8\\xdco\\xf7\\x96\\xf0\\xb0\\xf1\\x0f\\xea\\x864sN\\xf9\\x16\\xaf\\xa4\\x19\\x80\\xc3\\xb3es\\x1cC\\xe8\\xa8\\xfe\\xaa\\xcc&\\xb3\\x8c\\xe9d\\xab\\x94\\xfc4\\x8dMK\\x1d\\xcc\\xa6\\xfc\\x13m\\xda\\xd9\\xe9\\x1fUl\\xda\\xef\\xdc<Cu=I\\xb5\\x9ai0\\xcd6?\\xd5\\xdc\\xb2\\xeav\\xb19\\xdb\\xe7nZY\\x0f\\x9f\\x9f\\xa4\\xba\\x05|A\\x96\\xd3\\x96\\xf4\\xe0<\\xf2\\xcdmI\\x0f\\x00\\xce\\xc0\\xae\\xcdqLq(\\x17k\\xfb)\\xe6ln\\xbeM\\xe8Bb\\xc1\\x96\\xf4\\xe0\\x0c\\xf2\\x9dmI\\x0f\\x00N\\xc2\\xc6\\xcdq\\xdc\\x8aC\\xfd\\x84>\\xa9\\x8f\\xb7\\x91|\\xb0%=8\\xaa|O[\\xd2\\x03\\x80S\\xb1}s\\x1c7\\xe2PG\\xa1O\\xea\\xe3\\x9d$(lI\\x0f\\x8e\\'\\xdf\\xd0\\x96\\xf4\\x00\\xe0l\\xec\\xe0\\x00\\xbcV\\x12\\xc3\\x96\\xf4\\xe0\\x18\\xf2\\xadlI\\x0f\\x00\\xce\\xc9>\\x0e\\xc0\\xcb%:\\xecH\\'~O\\xbe\\x89\\x1d\\xe9\\x04\\xc0i\\xd9\\xca\\x01\\xf8!\\xc9\\x10;\\xd2\\x89\\x9f\\x95O\\x7fG:\\x01pr6t\\x00~N\\xc2\\xc4\\xbe\\xf4\\xe3\\xf5\\xf2\\x89\\xefK?\\x00\\xce\\xcf\\x9e\\x0e\\xc0OK\\xaa\\xd8\\x97~\\xbcF>\\xe5}\\xe9\\x07@/\\xec\\xect\\xef\\x97\\xfe\\xce\\xcc\\x7f\\x1b\\xff\\xf2;PK\\xc2\\xd8\\x97~|\\x9f|\\xb2\\xfb\\xd2\\x0f\\x80\\xbe\\xd8\\xdf\\xe9P\\x9b\\xf3vS\\xdf\\xf0\\xcfA\\xbc.\\x98I}\\xf0\\x98\\xa4\\x8d}\\xe9\\xc7\\xd7\\xe4\\xd3\\xdc\\x97~\\x00\\xf4\\xc8.O\\x87\\x1eL}\\xaf%\\xf5\\xc13\\x92<\\xf6\\xa5\\x1f\\xcf\\xcb\\'xS\\xba\\x02\\xd0)\\x1b=\\xc71\\xe6\\xa4\\x8f\\xbf\\xe3\\t\\xe4\\x12\\xd3\\xda\\xb4\\xb6\\x84\\xa8\\xa9>\\xfc\\xa2n\\xb4\\x8aVC\\xebll\\xdb\\xed?\\x94\\xca\\r\\xaaaWY\\xadj\\xdb\\xe8^=cU\\x1e\\xdf\\xc82\\xd3N\\x7f\\xa0\\x95?%7\\xa5+\\xf7\\xe4\\xf3\\xba\\'\\xbd\\x01\\xe8\\x9a\\xed\\x9e\\xe3\\x98\\x82\\xd9\\x1c\\x8a\\x86\\xa4\\xb4$\\xa46\\xf5\\xcd\\xd9\\xacNn\\xb3v\\xe4n\\xff\\xe5u;\\xa05\\xf4*\\xf1\\xed\\xdf\\xdf\\xe1\\xd58a\\xe9^]\\x0c/\\x97\\x9e\\xcb=\\x9b\\x9b\\xd6\\x9d\\x80k\\xc36\\xf0\\x80\\xf4fK>\\xa3{\\xd2\\x1b\\x807`\\xd3\\xe78\\xeapt\\xd1F\\xb1Kc\\xc2\\xd2^}\\xd1\\xf6\\xd8\\xed\\xbf\\xdco\\xe8R\\xf5\\xa9\\xad\\x1e\\xea\\xa2\\x9do\\x99qU\\x9fo4\\xd4\\xebG\\xac\\x9e\\x00\\xd8\\x97hrOz\\xf3\\xf0\\'v\\x91\\x01\\x00\\xbc\\r[?\\xc7\\xb1\\nX{im\\xaf\\xbeh{\\xec\\xf6o\\xee7\\xf4\\x1a\\xac\\'\\xbb\\x9e\\xbf\\x19vQ\\xe6_\\xd5\\xe7\\x81e\\xe6\\xca\\xd5\\x13\\x03;\\xf2\\x87\\xe6\\x01\\x19\\xf0~\\xf2\\xfe\\x1f\\x90\\x01\\x00\\xbc\\x1f?\\x038\\x8eUl\\xdaKk\\xbb)n\\xd6\\xf6\\xd8\\xed\\xbf\\xba\\xdf\\xe8\\xaav\\xdd\\xa9\\x9do\\x99qU\\x9fo\\xb4\\xee\\x0f<-\\xa9\\xe51\\x19\\xd3\\xbb\\xbc\\xdb\\xc7d\\x0c\\x00\\xef\\xcaO\\x02\\x8ec\\x1d\\xb0\\x96\\xeb!8\\xcd\\xbf!\\xdbMq\\xb3\\xa1\\xc7R\\xdc\\xed\\xbf\\xbe\\xdf\\xe0:\\xa2\\r\\xbd\\x96\\x11\\xc3\\xab\\xf1iJ\\xa7\\xea^U\\xcf\\xb1K}Qf\\x00\\xbed\\x8c0O\\xc8\\xb0^\\xe4]=,\\xc3\\x00x{~$p\\x1c\\xd7)l\\xa8\\x8c\\xc6\\xbf\\x83\\xb3\\nQ\\x9b)n1\\x85\\xae\\xc4\\xae\\xdd\\xfe\\xcb\\xfd\\xe6\\xfb\\\\\\xb4O0(\\xb3-\\xe9\\xaf\\x1eP\\xdf}\\xe9\\xf9\\xf7\\xdf\\xe5\\xf5\\xd2\\xb44\\x0c\\xea!\\xc0\\xf3\\xf2G\\xe9I\\x19|6y\\xfa\\'e0\\x00\\x8c\\xfc`\\x00\\xe0\\xac\\x12q>%S\\x1cO\\x9e\\xefS2\\x05\\x00\\xb4\\xfc\\x84\\x00\\xe0\\xf4\\x12z\\xbe&s\\xfd\\xac\\xdc\\xfbk2\\x17\\x00\\xec\\xf0\\xa3\\x02\\x80\\xae$\\t}\\x93L\\xfa\\x1d2\\xe3\\xf7\\xc9\\xbc\\x00p\\x8f\\x9f\\x19\\x00\\xf4)\\xd9\\xa8/yo\\x00\\xf0\\x0c??\\x00x\\x0b\\x89Mg\\x93\\xa7\\x07\\x80/\\xf0\\xe3\\x04\\x80\\xb7\\x93DuTyJ\\x00\\xf8&~\\xb4\\x00\\xc0 \\x91\\xebg\\xe5\\xde\\x00\\xf0J~\\xde\\x00\\xc0-\\xc9g_\\x93\\xb9\\x00\\xe07\\xf89\\x04\\x00\\x00\\xd03\\xa9\\x0f\\x00\\x00\\xa0gR\\x1f\\x00\\x00@\\xcf\\xa4>\\x00\\x00\\x80\\x9eI}\\x00\\x00\\x00=\\x93\\xfa\\x00\\x00\\x00z&\\xf5\\x01\\x00\\x00\\xf4L\\xea\\x03\\x00\\x00\\xe8\\x99\\xd4\\x07\\x00\\x00\\xd03\\xa9\\x0f\\x00\\x00\\xa0gR\\x1f\\x00\\x00@\\xcf\\xa4>\\x00\\x00\\x80\\x9eI}\\x00\\x00\\x00=\\x93\\xfa\\x00\\x00\\x00z&\\xf5\\x01\\x00\\x00\\xf4L\\xea\\x03\\x00\\x00\\xe8\\x99\\xd4\\x07\\x00\\x00\\xd03\\xa9\\x0f\\x00\\x00\\xa0gR\\x1f\\x00\\x00@\\xcf\\xa4>\\x00\\x00\\x80\\x9eI}\\x00\\x00\\x00=\\x93\\xfa\\x00\\x00\\x00z&\\xf5\\x01\\x00\\x00\\xf4L\\xea\\x03\\x00\\x00\\xe8\\x99\\xd4\\x07\\x00\\x00\\xd03\\xa9\\x0f\\x00\\x00\\xa0gR\\x1f\\x00\\x00@\\xcf\\xa4>\\x00\\x00\\x80\\x9eI}\\x00\\x00\\x00=\\x93\\xfa\\x00\\x00\\x00z&\\xf5\\x01\\x00\\x00\\xf4L\\xea\\x03\\x00\\x00\\xe8\\x99\\xd4\\x07\\x00\\x00\\xd03\\xa9\\x0f\\x00\\x00\\xa0gR\\x1f\\x00\\x00@\\xcf\\xa4>\\x00\\x00\\x80\\x9eI}\\x00\\x00\\x00=\\x93\\xfa\\x00\\x00\\x00z&\\xf5\\x01\\x00\\x00\\xf4L\\xea\\x03\\x00\\x00\\xe8\\x99\\xd4\\x07\\x00\\x00\\xd03\\xa9\\x0f\\x00\\x00\\xa0gR\\x1f\\x00\\x00@\\xcf\\xa4>\\x00\\x00\\x80\\x9eI}\\x00\\x00\\x00=\\x93\\xfa\\x00\\x00\\x00z&\\xf5\\x01\\x00\\x00\\xf4L\\xea\\x03\\x00\\x00\\xe8\\x99\\xd4\\x07\\x00\\x00\\xd03\\xa9\\x0f\\x00\\x00\\xa0gR\\x1f\\x00\\x00@\\xcf\\xa4>\\x00\\x00\\x80\\x9eI}\\x00\\x00\\x00=\\x93\\xfa\\x00\\x00\\x00z&\\xf5\\x01\\x00\\x00\\xf4L\\xea\\x03\\x00\\x00\\xe8\\x99\\xd4\\x07\\x00\\x00\\xd03\\xa9\\x0f\\x00\\x00\\xa0gR\\x1f\\x00\\x00@\\xcf\\xa4>\\x00\\x00\\x80\\x9eI}\\x00\\x00\\x00=\\x93\\xfa\\x00\\x00\\x00z&\\xf5\\x01\\x00\\x00\\xf4L\\xea\\x03\\x00\\x00\\xe8\\x99\\xd4\\x07\\x00\\x00\\xd03\\xa9\\x0f\\x00\\x00\\xa0gR\\x1f\\x00\\x00@\\xcf\\xa4>\\x00\\x00\\x80\\x9eI}\\x00\\x00\\x00=\\x93\\xfa\\x00\\x00\\x00z&\\xf5\\x01\\x00\\x00\\xf4L\\xea\\x03\\x00\\x00\\xe8\\x99\\xd4\\x07\\x00\\x00\\xd03\\xa9\\x0f\\x00\\x00\\xa0gR\\x1f\\x00\\x00@\\xcf\\xa4>\\x00\\x00\\x80\\x9eI}\\x00\\x00\\x00=\\x93\\xfa\\x00\\x00\\x00z&\\xf5\\x01\\x00\\x00\\xf4L\\xea\\x03\\x00\\x00\\xe8\\x99\\xd4\\x07\\x00\\x00\\xd03\\xa9\\x0f\\x00\\x00\\xa0gR\\x1f\\x00\\x00@\\xcf\\xa4>\\x00\\x00\\x80\\x9eI}\\x00\\x00\\x00=\\x93\\xfa\\x00\\x00\\x00z&\\xf5\\x01\\x00\\x00\\xf4L\\xea\\x03\\x00\\x00\\xe8\\x99\\xd4\\x07\\x00\\x00\\xd03\\xa9\\x0f\\x00\\x00\\xa0gR\\x1f\\x00\\x00@\\xcf\\xa4>\\x00\\x00\\x80\\x9eI}\\x00\\x00\\x00=\\x93\\xfa\\x00\\x00\\x00z&\\xf5\\x01\\x00\\x00\\xf4L\\xea\\x03\\x00\\x00\\xe8\\x99\\xd4\\x07\\x00\\x00\\xd03\\xa9\\x0f\\x00\\x00\\xa0gR\\x1f\\x00\\x00@\\xcf\\xa4>\\x00\\x00\\x80\\x9eI}\\x00\\x00\\x00=\\x93\\xfa\\x00\\x00\\x00z&\\xf5\\x01\\x00\\x00\\xf4L\\xea\\x03\\x00\\x00\\xe8\\x99\\xd4\\x07\\x00\\x00\\xd03\\xa9\\x0f\\x00\\x00\\xa0gR\\x1f\\x00\\x00@\\xcf\\xa4>\\x00\\x00\\x80\\x9eI}\\x00\\x00\\x00=\\x93\\xfa\\x00\\x00\\x00z&\\xf5\\x01\\x00\\x00\\xf4L\\xea\\x03\\x00\\x00\\xe8\\x99\\xd4\\x07\\x00\\x00\\xd03\\xa9\\x0f\\x00\\x00\\xa0gR\\x1f\\x00\\x00@\\xcf\\xa4>\\x00\\x00\\x80\\x9eI}\\x00\\x00\\x00=\\x93\\xfa\\x00\\x00\\x00z&\\xf5\\x01\\x00\\x00\\xf4L\\xea\\x03\\x00\\x00\\xe8\\x99\\xd4\\x07\\x00\\x00\\xd03\\xa9\\x0f\\x00\\x00\\xa0gR\\x1f\\x00\\x00@\\xcf\\xa4>\\x00\\x00\\x80\\x9eI}\\x00\\x00\\x00=\\x93\\xfa\\x00\\x00\\x00z&\\xf5\\x01\\x00\\x00\\xf4L\\xea\\x03\\x00\\x00\\xe8\\x99\\xd4\\x07\\x00\\x00\\xd03\\xa9\\x0f\\x00\\x00\\xa0gR\\x1f\\x00\\x00@\\xcf\\xa4>\\x00\\x00\\x80\\x9eI}\\x00\\x00\\x00=\\x93\\xfa\\x00\\x00\\x00z&\\xf5\\x01\\x00\\x00\\xf4L\\xea\\x03\\x00\\x00\\xe8\\x99\\xd4\\x07\\x00\\x00\\xd03\\xa9\\x0f\\x00\\x00\\xa0gR\\x1f\\x00\\x00@\\xcf\\xa4>\\x00\\x00\\x80\\x9eI}\\x00\\x00\\x00=\\x93\\xfa\\x00\\x00\\x00z&\\xf5\\x01\\x00\\x00\\xf4L\\xea\\x03\\x00\\x00\\xe8\\x99\\xd4\\x07\\x00\\x00\\xd03\\xa9\\x0f\\x00\\x00\\xa0gR\\x1f\\x00\\x00@\\xcf\\xa4>\\x00\\x00\\x80\\x9eI}\\x00\\x00\\x00=\\x93\\xfa\\x00\\x00\\x00z&\\xf5\\x01\\x00\\x00\\xf4L\\xea\\x03\\x00\\x00\\xe8\\x99\\xd4\\x07\\x00\\x00\\xd03\\xa9\\x0f\\x00\\x00\\xa0gR\\x1f\\x00\\x00@\\xcf\\xa4>\\x00\\x00\\x80\\x9eI}\\x00\\x00\\x00=\\x93\\xfa\\x00\\x00\\x00z&\\xf5\\x01\\x00\\x00\\xf4L\\xea\\x03\\x00\\x00\\xe8\\x99\\xd4\\x07\\x00\\x00\\xd03\\xa9\\x0f\\x00\\x00\\xa0gR\\x1f\\x00\\x00@\\xcf\\xa4>\\x00\\x00\\x80\\x9eI}\\x00\\x00\\x00=\\x93\\xfa\\x00\\x00\\x00z&\\xf5\\x01\\x00\\x00\\xf4L\\xea\\x03\\x00\\x00\\xe8\\x99\\xd4\\x07\\x00\\x00\\xd03\\xa9\\x0f\\x00\\x00\\xa0gR\\x1f\\x00\\x00@\\xcf\\xa4>\\x00\\x00\\x80\\x9eI}\\x00\\x00\\x00=\\x93\\xfa\\x00\\x00\\x00z&\\xf5\\x01\\x00\\x00\\xf4L\\xea\\x03\\x00\\x00\\xe8\\x99\\xd4\\x07\\x00\\x00\\xd03\\xa9\\x0f\\x00\\x00\\xa0gR\\x1f\\x00\\x00@\\xcf\\xa4>\\x00\\x00\\x80\\x9eI}\\x00\\x00\\x00=\\x93\\xfa\\x00\\x00\\x00z&\\xf5\\x01\\x00\\x00\\xf4L\\xea\\x03\\x00\\x00\\xe8\\x99\\xd4\\x07\\x00\\x00\\xd03\\xa9\\x0f\\x00\\x00\\xa0gR\\x1f\\x00\\x00@\\xcf\\xa4>\\x00\\x00\\x80\\x9eI}\\x00\\x00\\x00=\\x93\\xfa\\x00\\x00\\x00z&\\xf5\\x01\\x00\\x00\\xf4L\\xea\\x03\\x00\\x00\\xe8\\x99\\xd4\\x07\\x00\\x00\\xd03\\xa9\\x0f\\x00\\x00\\xa0gR\\x1f\\x00\\x00@\\xcf\\xa4>\\x00\\x00\\x80\\x9eI}\\x00\\x00\\x00=\\x93\\xfa\\x00\\x00\\x00z&\\xf5\\x01\\x00\\x00\\xf4L\\xea\\x03\\x00\\x00\\xe8\\x99\\xd4\\x07\\x00\\x00\\xd03\\xa9\\x0f\\x00\\x00\\xa0gR\\x1f\\x00\\x00@\\xcf\\xa4>\\x00\\x00\\x80\\x9eI}\\x00\\x00\\x00=\\x93\\xfa\\x00\\x00\\x00z&\\xf5\\x01\\x00\\x00\\xf4L\\xea\\x03\\x00\\x00\\xe8\\x99\\xd4\\x07\\x00\\x00\\xd03\\xa9\\x0f\\x00\\x00\\xa0gR\\x1f\\x00\\x00@\\xcf\\xa4>\\x00\\x00\\x80\\x9eI}\\x00\\x00\\x00=\\x93\\xfa\\x00\\x00\\x00z&\\xf5\\x01\\x00\\x00\\xf4L\\xea\\x03\\x00\\x00\\xe8\\x99\\xd4\\x07\\x00\\x00\\xd03\\xa9\\x0f\\x00\\x00\\xa0gR\\x1f\\x00\\x00@\\xcf\\xa4>\\x00\\x00\\x80\\x9eI}\\x00\\x00\\x00=\\x93\\xfa\\x00\\x00\\x00z&\\xf5\\x01\\x00\\x00\\xf4L\\xea\\x03\\x00\\x00\\xe8\\x99\\xd4\\x07\\x00\\x00\\xd03\\xa9\\x0f\\x00\\x00\\xa0gR\\x1f\\x00\\x00@\\xcf\\xa4>\\x00\\x00\\x80\\x9eI}\\x00\\x00\\x00=\\x93\\xfa\\x00\\x00\\x00z&\\xf5\\x01\\x00\\x00\\xf4L\\xea\\x03\\x00\\x00\\xe8\\x99\\xd4\\x07\\x00\\x00\\xd03\\xa9\\x0f\\x00\\x00\\xa0gR\\x1f\\x00\\x00@\\xcf\\xa4>\\x00\\x00\\x80\\x9eI}\\x00\\x00\\x00=\\x93\\xfa\\x00\\x00\\x00z&\\xf5\\x01\\x00\\x00\\xf4L\\xea\\x03\\x00\\x00\\xe8\\x99\\xd4\\x07\\x00\\x00\\xd03\\xa9\\x0f\\x00\\x00\\xa0gR\\x1f\\x00\\x00@\\xcf\\xa4>\\x00\\x00\\x80\\x9eI}\\x00\\x00\\x00=\\x93\\xfa\\x00\\x00\\x00z&\\xf5\\x01\\x00\\x00\\xf4L\\xea\\x03\\x00\\x00\\xe8\\x99\\xd4\\x07\\x00\\x00\\xd03\\xa9\\x0f\\x00\\x00\\xa0gR\\x1f\\x00\\x00@\\xcf\\xa4>\\x00\\x00\\x80\\x9eI}\\x00\\x00\\x00=\\x93\\xfa\\x00\\x00\\x00z&\\xf5\\x01\\x00\\x00\\xf4L\\xea\\x03\\x00\\x00\\xe8\\x99\\xd4\\x07\\x00\\x00\\xd03\\xa9\\x0f\\x00\\x00\\xa0gR\\x1f\\x00\\x00@\\xcf\\xa4>\\x00\\x00\\x80\\x9eI}\\x00\\x00\\x00=\\x93\\xfa\\x00\\x00\\x00z&\\xf5\\x01\\x00\\x00\\xf4L\\xea\\x03\\x00\\x00\\xe8\\xd7\\xff\\xfd\\xdf\\xff\\x03\\x806M\\xae\\xdaD\\xf3\\x02\\x00\\x00\\x00\\x00IEND\\xaeB`\\x82'\n"
     ]
    }
   ],
   "source": [
    "print(data)"
   ]
  },
  {
   "cell_type": "code",
   "execution_count": 22,
   "metadata": {},
   "outputs": [],
   "source": [
    "f=open(\"2.png\",\"wb\")\n",
    "for i in range(10):\n",
    "    f.write(data)\n",
    "f.close()"
   ]
  },
  {
   "cell_type": "code",
   "execution_count": null,
   "metadata": {},
   "outputs": [],
   "source": [
    "f=open(\"2.png\",\"wb\")\n",
    "for i in range(10000000):\n",
    "    f.write(data)\n",
    "f.close()"
   ]
  },
  {
   "cell_type": "code",
   "execution_count": 24,
   "metadata": {},
   "outputs": [
    {
     "data": {
      "text/plain": [
       "104.9041748046875"
      ]
     },
     "execution_count": 24,
     "metadata": {},
     "output_type": "execute_result"
    }
   ],
   "source": [
    "110000000/(1024*1024)"
   ]
  },
  {
   "cell_type": "code",
   "execution_count": null,
   "metadata": {},
   "outputs": [],
   "source": [
    "f=open(\"2.png\",\"wb\")\n",
    "for i in range(10000000):\n",
    "    f.write(data)# so it's try to write 104 GB into your ram cache. \n",
    "f.close()"
   ]
  },
  {
   "cell_type": "code",
   "execution_count": null,
   "metadata": {},
   "outputs": [],
   "source": [
    "f=open(\"2.png\",\"wb\")\n",
    "for i in range(10000000):\n",
    "    f.write(data)# so it's try to write 11KB into your ram cache in first iteration. \n",
    "    f.flush()# it will remove 11kb from cache and writes to hard drive(2.png)\n",
    "f.close()"
   ]
  },
  {
   "cell_type": "code",
   "execution_count": null,
   "metadata": {},
   "outputs": [],
   "source": [
    "f=open(\"2.png\",\"wb\")\n",
    "for i range(10000000):\n",
    "    f.write(data)# so it's try to write 11KB into your ram cache for each iteration. in 1000 iterations it will write 10MB\n",
    "    # data in to cache\n",
    "    if i%1000 == 0:\n",
    "        f.flush()# it will remove 10MB from cache and writes to hard drive(2.png)\n",
    "f.close()"
   ]
  },
  {
   "cell_type": "code",
   "execution_count": null,
   "metadata": {},
   "outputs": [],
   "source": [
    "f=open(\"2.png\",\"rb\")\n",
    "data=f.read()\n"
   ]
  },
  {
   "cell_type": "code",
   "execution_count": 25,
   "metadata": {},
   "outputs": [
    {
     "name": "stdout",
     "output_type": "stream",
     "text": [
      "b'\\x89PNG\\r\\n'\n",
      "b'\\x1a\\n'\n"
     ]
    }
   ],
   "source": [
    "f=open(\"2.png\",\"rb\")\n",
    "line1=f.readline()\n",
    "print(line1)\n",
    "line2=f.readline()\n",
    "print(line2)"
   ]
  },
  {
   "cell_type": "code",
   "execution_count": 26,
   "metadata": {},
   "outputs": [
    {
     "name": "stdout",
     "output_type": "stream",
     "text": [
      "b'id,name,age,marks\\r\\n'\n",
      "b'1,samba,32,90\\r\\n'\n"
     ]
    }
   ],
   "source": [
    "f=open(\"data.txt\",\"rb\")\n",
    "line1=f.readline()\n",
    "print(line1)\n",
    "line2=f.readline()\n",
    "print(line2)"
   ]
  },
  {
   "cell_type": "code",
   "execution_count": 27,
   "metadata": {},
   "outputs": [
    {
     "name": "stdout",
     "output_type": "stream",
     "text": [
      "b'id,name,age,marks\\r\\n'\n",
      "b'1,samba,32,90\\r\\n'\n",
      "b'2,vedha,31,80\\r\\n'\n",
      "b'3,jayaram,34,70\\r\\n'\n",
      "b'4,sai,28,94'\n",
      "b''\n",
      "end\n"
     ]
    }
   ],
   "source": [
    "f=open(\"data.txt\",\"rb\")\n",
    "line=f.readline()\n",
    "print(line)\n",
    "while line:\n",
    "    line=f.readline()\n",
    "    print(line)\n",
    "print(\"end\")"
   ]
  },
  {
   "cell_type": "code",
   "execution_count": 29,
   "metadata": {},
   "outputs": [
    {
     "name": "stdout",
     "output_type": "stream",
     "text": [
      "[b'id,name,age,marks\\r\\n', b'1,samba,32,90\\r\\n', b'2,vedha,31,80\\r\\n', b'3,jayaram,34,70\\r\\n', b'4,sai,28,94']\n"
     ]
    }
   ],
   "source": [
    "f=open(\"data.txt\",\"rb\")\n",
    "lines=f.readlines()\n",
    "print(lines)"
   ]
  },
  {
   "cell_type": "code",
   "execution_count": 30,
   "metadata": {},
   "outputs": [
    {
     "name": "stdout",
     "output_type": "stream",
     "text": [
      "id,name,age,marks\n",
      "\n",
      "1,samba,32,90\n",
      "\n",
      "2,vedha,31,80\n",
      "\n",
      "3,jayaram,34,70\n",
      "\n",
      "4,sai,28,94\n"
     ]
    }
   ],
   "source": [
    "f=open(\"data.txt\",\"r\")\n",
    "for line in f:\n",
    "    print(line)"
   ]
  },
  {
   "cell_type": "code",
   "execution_count": 31,
   "metadata": {},
   "outputs": [
    {
     "name": "stdout",
     "output_type": "stream",
     "text": [
      "id,name,age,marks\n",
      "\n",
      "1,samba,32,90\n",
      "\n",
      "2,vedha,31,80\n",
      "\n",
      "3,jayaram,34,70\n",
      "\n",
      "4,sai,28,94\n",
      "\n",
      "end\n"
     ]
    }
   ],
   "source": [
    "f=open(\"data.txt\",\"r\")\n",
    "line=f.readline()\n",
    "print(line)\n",
    "while line:\n",
    "    line=f.readline()\n",
    "    print(line)\n",
    "print(\"end\")"
   ]
  },
  {
   "cell_type": "code",
   "execution_count": 32,
   "metadata": {},
   "outputs": [
    {
     "name": "stdout",
     "output_type": "stream",
     "text": [
      "id,name,ag\n",
      "**********\n",
      "e,marks\n",
      "1,\n"
     ]
    }
   ],
   "source": [
    "f=open(\"data.txt\",\"r\")\n",
    "data = f.read(10)\n",
    "print(data)\n",
    "print(\"*\"*10)\n",
    "data1=f.read(10)\n",
    "print(data1)"
   ]
  },
  {
   "cell_type": "code",
   "execution_count": 33,
   "metadata": {},
   "outputs": [
    {
     "name": "stdout",
     "output_type": "stream",
     "text": [
      "id,name,ag\n",
      "**********\n",
      "e,marks\n",
      "1,\n",
      "id,name,ag\n",
      "********************\n",
      "samba,32,90\n",
      "2,vedha,31,80\n",
      "3,ja\n",
      "id,name,ag\n",
      "******************************\n",
      "yaram,34,70\n",
      "4,sai,28,94\n"
     ]
    }
   ],
   "source": [
    "f=open(\"data.txt\",\"r\")\n",
    "data = f.read(10)\n",
    "print(data)\n",
    "print(\"*\"*10)\n",
    "data1=f.read(10)\n",
    "print(data1)\n",
    "print(data)\n",
    "print(\"*\"*20)\n",
    "data1=f.read(30)\n",
    "print(data1)\n",
    "print(data)\n",
    "print(\"*\"*30)\n",
    "data1=f.read(40)\n",
    "print(data1)"
   ]
  },
  {
   "cell_type": "code",
   "execution_count": 35,
   "metadata": {},
   "outputs": [
    {
     "name": "stdout",
     "output_type": "stream",
     "text": [
      "id,name,ag\n",
      "**********\n",
      "e,marks\n",
      "1,\n",
      "********************\n",
      "samba,32,90\n",
      "2,vedha,31,80\n",
      "3,ja\n",
      "******************************\n",
      "yaram,34,70\n",
      "4,sai,28,94\n",
      "******************************\n",
      "\n"
     ]
    }
   ],
   "source": [
    "f=open(\"data.txt\",\"r\")\n",
    "data = f.read(10)# reads first 10 chars\n",
    "print(data)\n",
    "print(\"*\"*10)\n",
    "data1=f.read(10)# reads 10-20 chars\n",
    "print(data1)\n",
    "print(\"*\"*20)\n",
    "data1=f.read(30)# reads 20-50 chars\n",
    "print(data1)\n",
    "print(\"*\"*30)\n",
    "data1=f.read(40)# reads 50-90 chars\n",
    "print(data1)\n",
    "print(\"*\"*30)\n",
    "data1=f.read(40)# reads 90-130 chars\n",
    "print(data1)"
   ]
  },
  {
   "cell_type": "code",
   "execution_count": 37,
   "metadata": {},
   "outputs": [
    {
     "name": "stdout",
     "output_type": "stream",
     "text": [
      "id,name,ag\n",
      "10\n",
      "**********\n",
      "e,marks\n",
      "1,\n",
      "21\n",
      "********************\n",
      "samba,32,90\n",
      "2,vedha,31,80\n",
      "3,ja\n",
      "53\n",
      "******************************\n",
      "yaram,34,70\n",
      "4,sai,28,94\n",
      "77\n",
      "******************************\n",
      "\n",
      "77\n"
     ]
    }
   ],
   "source": [
    "f=open(\"data.txt\",\"r\")\n",
    "data = f.read(10)# reads first 10 chars\n",
    "print(data)\n",
    "print(f.tell())\n",
    "print(\"*\"*10)\n",
    "data1=f.read(10)# reads 10-20 chars\n",
    "print(data1)\n",
    "print(f.tell())\n",
    "print(\"*\"*20)\n",
    "data1=f.read(30)# reads 20-50 chars\n",
    "print(data1)\n",
    "print(f.tell())\n",
    "print(\"*\"*30)\n",
    "data1=f.read(40)# reads 50-90 chars\n",
    "print(data1)\n",
    "print(f.tell())\n",
    "print(\"*\"*30)\n",
    "data1=f.read(40)# reads 90-130 chars\n",
    "print(data1)\n",
    "print(f.tell())"
   ]
  },
  {
   "cell_type": "code",
   "execution_count": 38,
   "metadata": {},
   "outputs": [
    {
     "name": "stdout",
     "output_type": "stream",
     "text": [
      "data= id,name,age,marks\n",
      "1,samba,32,90\n",
      "2,vedha,31,80\n",
      "3,jayaram,34,70\n",
      "4,sai,28,94\n",
      "********************\n",
      "data1= \n"
     ]
    }
   ],
   "source": [
    "f=open(\"data.txt\",\"r\")\n",
    "data = f.read()\n",
    "print(\"data=\",data)\n",
    "print(\"*\"*20)\n",
    "data1=f.read()\n",
    "print(\"data1=\",data1)"
   ]
  },
  {
   "cell_type": "code",
   "execution_count": 39,
   "metadata": {},
   "outputs": [
    {
     "name": "stdout",
     "output_type": "stream",
     "text": [
      "0\n",
      "data= id,name,age,marks\n",
      "1,samba,32,90\n",
      "2,vedha,31,80\n",
      "3,jayaram,34,70\n",
      "4,sai,28,94\n",
      "********************\n",
      "77\n",
      "data1= \n",
      "77\n"
     ]
    }
   ],
   "source": [
    "f=open(\"data.txt\",\"r\")\n",
    "print(f.tell())\n",
    "data = f.read()\n",
    "print(\"data=\",data)\n",
    "print(\"*\"*20)\n",
    "print(f.tell())\n",
    "data1=f.read()\n",
    "print(\"data1=\",data1)\n",
    "print(f.tell())"
   ]
  },
  {
   "cell_type": "code",
   "execution_count": 40,
   "metadata": {},
   "outputs": [
    {
     "name": "stdout",
     "output_type": "stream",
     "text": [
      "0\n",
      "data= id,name,age,marks\n",
      "1,samba,32,90\n",
      "2,vedha,31,80\n",
      "3,jayaram,34,70\n",
      "4,sai,28,94\n",
      "********************\n",
      "77\n",
      "after seeking to 10 10\n",
      "data1= e,marks\n",
      "1,samba,32,90\n",
      "2,vedha,31,80\n",
      "3,jayaram,34,70\n",
      "4,sai,28,94\n",
      "77\n"
     ]
    }
   ],
   "source": [
    "f=open(\"data.txt\",\"r\")\n",
    "print(f.tell())\n",
    "data = f.read()\n",
    "print(\"data=\",data)\n",
    "print(\"*\"*20)\n",
    "print(f.tell())\n",
    "f.seek(10)\n",
    "print(\"after seeking to 10\",f.tell())\n",
    "data1=f.read()\n",
    "print(\"data1=\",data1)\n",
    "print(f.tell())"
   ]
  },
  {
   "cell_type": "code",
   "execution_count": 41,
   "metadata": {},
   "outputs": [
    {
     "name": "stdout",
     "output_type": "stream",
     "text": [
      "id,name,age,marks\n",
      "\n"
     ]
    }
   ],
   "source": [
    "f=open(\"data.txt\",\"r\")\n",
    "columns = f.readline()\n",
    "print(columns)\n",
    "f.close()"
   ]
  },
  {
   "cell_type": "code",
   "execution_count": 42,
   "metadata": {},
   "outputs": [
    {
     "name": "stdout",
     "output_type": "stream",
     "text": [
      "['id', 'name', 'age', 'marks\\n']\n"
     ]
    }
   ],
   "source": [
    "f=open(\"data.txt\",\"r\")\n",
    "columns = f.readline()\n",
    "print(columns.split(\",\"))\n",
    "f.close()"
   ]
  },
  {
   "cell_type": "code",
   "execution_count": 43,
   "metadata": {},
   "outputs": [
    {
     "name": "stdout",
     "output_type": "stream",
     "text": [
      "['id', 'name', 'age', 'marks']\n"
     ]
    }
   ],
   "source": [
    "f=open(\"data.txt\",\"r\")\n",
    "columns = f.readline()\n",
    "print(columns.strip().split(\",\"))\n",
    "f.close()"
   ]
  },
  {
   "cell_type": "code",
   "execution_count": 44,
   "metadata": {},
   "outputs": [
    {
     "name": "stdout",
     "output_type": "stream",
     "text": [
      "['id', 'name', 'age', 'marks']\n"
     ]
    }
   ],
   "source": [
    "f=open(\"data.txt\",\"r\")\n",
    "columns = f.readline().strip().split(\",\")\n",
    "print(columns)\n",
    "f.close()"
   ]
  },
  {
   "cell_type": "code",
   "execution_count": 46,
   "metadata": {},
   "outputs": [
    {
     "name": "stdout",
     "output_type": "stream",
     "text": [
      "['id', 'name', 'age', 'marks']\n",
      "[['1', 'samba', '32', '90'], ['2', 'vedha', '31', '80'], ['3', 'jayaram', '34', '70'], ['4', 'sai', '28', '94']]\n"
     ]
    }
   ],
   "source": [
    "f=open(\"data.txt\",\"r\")\n",
    "columns = f.readline().strip().split(\",\") # pointer goes to second line\n",
    "print(columns)\n",
    "res=[line.strip().split(\",\") for line in f] # it's reads from second line\n",
    "print(res)\n",
    "f.close()"
   ]
  },
  {
   "cell_type": "code",
   "execution_count": 48,
   "metadata": {},
   "outputs": [
    {
     "name": "stdout",
     "output_type": "stream",
     "text": [
      "[<zip object at 0x00000264D6684F00>, <zip object at 0x00000264D66843C0>, <zip object at 0x00000264D6690140>, <zip object at 0x00000264D6690480>]\n"
     ]
    }
   ],
   "source": [
    "f=open(\"data.txt\",\"r\")\n",
    "columns = f.readline().strip().split(\",\") # pointer goes to second line\n",
    "res=[zip(columns,line.strip().split(\",\")) for line in f] # it's reads from second line\n",
    "print(res)\n",
    "f.close()"
   ]
  },
  {
   "cell_type": "code",
   "execution_count": 49,
   "metadata": {},
   "outputs": [
    {
     "name": "stdout",
     "output_type": "stream",
     "text": [
      "[{'id': '1', 'name': 'samba', 'age': '32', 'marks': '90'}, {'id': '2', 'name': 'vedha', 'age': '31', 'marks': '80'}, {'id': '3', 'name': 'jayaram', 'age': '34', 'marks': '70'}, {'id': '4', 'name': 'sai', 'age': '28', 'marks': '94'}]\n"
     ]
    }
   ],
   "source": [
    "f=open(\"data.txt\",\"r\")\n",
    "columns = f.readline().strip().split(\",\") # pointer goes to second line\n",
    "res=[dict(zip(columns,line.strip().split(\",\"))) for line in f] # it's reads from second line\n",
    "print(res)\n",
    "f.close()"
   ]
  },
  {
   "cell_type": "code",
   "execution_count": 51,
   "metadata": {},
   "outputs": [],
   "source": [
    "data = [{'id': '1', 'name': 'samba', 'age': '32', 'marks': '90'},\n",
    "        {'id': '2', 'name': 'vedha', 'age': '31', 'marks': '80'},\n",
    "        {'id': '3', 'name': 'jayaram', 'age': '34', 'marks': '70'},\n",
    "        {'id': '4', 'name': 'sai', 'age': '28', 'marks': '94'}]\n",
    "f=open(\"data.txt\",\"w\") # opening a file in write mode which is already existed and it has some data. it will remove total data\n",
    "# and gives a fresh file."
   ]
  },
  {
   "cell_type": "code",
   "execution_count": 52,
   "metadata": {},
   "outputs": [],
   "source": [
    "f.close()"
   ]
  },
  {
   "cell_type": "code",
   "execution_count": 53,
   "metadata": {},
   "outputs": [],
   "source": [
    "f=open(\"data.txt\",\"a\") # opening a file in append mode which is already existed and it has some data. it will not remove data\n",
    "f.write(\"writing in append mode\")# it will add this data in to last line.\n",
    "f.close()"
   ]
  },
  {
   "cell_type": "code",
   "execution_count": 54,
   "metadata": {},
   "outputs": [
    {
     "ename": "TypeError",
     "evalue": "write() argument must be str, not list",
     "output_type": "error",
     "traceback": [
      "\u001b[1;31m---------------------------------------------------------------------------\u001b[0m",
      "\u001b[1;31mTypeError\u001b[0m                                 Traceback (most recent call last)",
      "\u001b[1;32m<ipython-input-54-a447d075a22a>\u001b[0m in \u001b[0;36m<module>\u001b[1;34m\u001b[0m\n\u001b[0;32m      4\u001b[0m         {'id': '4', 'name': 'sai', 'age': '28', 'marks': '94'}]\n\u001b[0;32m      5\u001b[0m \u001b[0mf\u001b[0m\u001b[1;33m=\u001b[0m\u001b[0mopen\u001b[0m\u001b[1;33m(\u001b[0m\u001b[1;34m\"data2.txt\"\u001b[0m\u001b[1;33m,\u001b[0m\u001b[1;34m\"w\"\u001b[0m\u001b[1;33m)\u001b[0m\u001b[1;33m\u001b[0m\u001b[1;33m\u001b[0m\u001b[0m\n\u001b[1;32m----> 6\u001b[1;33m \u001b[0mf\u001b[0m\u001b[1;33m.\u001b[0m\u001b[0mwrite\u001b[0m\u001b[1;33m(\u001b[0m\u001b[0mdata\u001b[0m\u001b[1;33m)\u001b[0m\u001b[1;33m\u001b[0m\u001b[1;33m\u001b[0m\u001b[0m\n\u001b[0m\u001b[0;32m      7\u001b[0m \u001b[0mf\u001b[0m\u001b[1;33m.\u001b[0m\u001b[0mclose\u001b[0m\u001b[1;33m(\u001b[0m\u001b[1;33m)\u001b[0m\u001b[1;33m\u001b[0m\u001b[1;33m\u001b[0m\u001b[0m\n",
      "\u001b[1;31mTypeError\u001b[0m: write() argument must be str, not list"
     ]
    }
   ],
   "source": [
    "data = [{'id': '1', 'name': 'samba', 'age': '32', 'marks': '90'},\n",
    "        {'id': '2', 'name': 'vedha', 'age': '31', 'marks': '80'},\n",
    "        {'id': '3', 'name': 'jayaram', 'age': '34', 'marks': '70'},\n",
    "        {'id': '4', 'name': 'sai', 'age': '28', 'marks': '94'}]\n",
    "f=open(\"data2.txt\",\"w\")\n",
    "f.write(data)\n",
    "f.close()"
   ]
  },
  {
   "cell_type": "code",
   "execution_count": 55,
   "metadata": {},
   "outputs": [
    {
     "ename": "TypeError",
     "evalue": "write() argument must be str, not list",
     "output_type": "error",
     "traceback": [
      "\u001b[1;31m---------------------------------------------------------------------------\u001b[0m",
      "\u001b[1;31mTypeError\u001b[0m                                 Traceback (most recent call last)",
      "\u001b[1;32m<ipython-input-55-4f90913f3043>\u001b[0m in \u001b[0;36m<module>\u001b[1;34m\u001b[0m\n\u001b[0;32m      2\u001b[0m        \"'id': '2', 'name': 'vedha', 'age': '31', 'marks': '80'\"]\n\u001b[0;32m      3\u001b[0m \u001b[0mf\u001b[0m\u001b[1;33m=\u001b[0m\u001b[0mopen\u001b[0m\u001b[1;33m(\u001b[0m\u001b[1;34m\"data2.txt\"\u001b[0m\u001b[1;33m,\u001b[0m\u001b[1;34m\"w\"\u001b[0m\u001b[1;33m)\u001b[0m\u001b[1;33m\u001b[0m\u001b[1;33m\u001b[0m\u001b[0m\n\u001b[1;32m----> 4\u001b[1;33m \u001b[0mf\u001b[0m\u001b[1;33m.\u001b[0m\u001b[0mwrite\u001b[0m\u001b[1;33m(\u001b[0m\u001b[0mdata\u001b[0m\u001b[1;33m)\u001b[0m\u001b[1;33m\u001b[0m\u001b[1;33m\u001b[0m\u001b[0m\n\u001b[0m\u001b[0;32m      5\u001b[0m \u001b[0mf\u001b[0m\u001b[1;33m.\u001b[0m\u001b[0mclose\u001b[0m\u001b[1;33m(\u001b[0m\u001b[1;33m)\u001b[0m\u001b[1;33m\u001b[0m\u001b[1;33m\u001b[0m\u001b[0m\n",
      "\u001b[1;31mTypeError\u001b[0m: write() argument must be str, not list"
     ]
    }
   ],
   "source": [
    "data = [\"'id': '1', 'name': 'samba', 'age': '32', 'marks': '90'\",\n",
    "       \"'id': '2', 'name': 'vedha', 'age': '31', 'marks': '80'\"]\n",
    "f=open(\"data2.txt\",\"w\")\n",
    "f.write(data)\n",
    "f.close()"
   ]
  },
  {
   "cell_type": "code",
   "execution_count": 56,
   "metadata": {},
   "outputs": [],
   "source": [
    "data = [\"'id': '1', 'name': 'samba', 'age': '32', 'marks': '90'\",\n",
    "       \"'id': '2', 'name': 'vedha', 'age': '31', 'marks': '80'\"]\n",
    "f=open(\"data2.txt\",\"w\")\n",
    "f.writelines(data)\n",
    "f.close()"
   ]
  },
  {
   "cell_type": "code",
   "execution_count": 57,
   "metadata": {},
   "outputs": [],
   "source": [
    "data = [\"'id': '1', 'name': 'samba', 'age': '32', 'marks': '90'\\n\",\n",
    "       \"'id': '2', 'name': 'vedha', 'age': '31', 'marks': '80'\"]\n",
    "f=open(\"data2.txt\",\"w\")\n",
    "f.writelines(data)\n",
    "f.close()"
   ]
  },
  {
   "cell_type": "code",
   "execution_count": 58,
   "metadata": {},
   "outputs": [],
   "source": [
    "data = [{'id': '1', 'name': 'samba', 'age': '32', 'marks': '90'},\n",
    "        {'id': '2', 'name': 'vedha', 'age': '31', 'marks': '80'},\n",
    "        {'id': '3', 'name': 'jayaram', 'age': '34', 'marks': '70'},\n",
    "        {'id': '4', 'name': 'sai', 'age': '28', 'marks': '94'}]\n",
    "f=open(\"data2.txt\",\"w\")\n",
    "f.write(str(data))\n",
    "f.close()"
   ]
  },
  {
   "cell_type": "code",
   "execution_count": 59,
   "metadata": {},
   "outputs": [
    {
     "name": "stdout",
     "output_type": "stream",
     "text": [
      "[{'id': '1', 'name': 'samba', 'age': '32', 'marks': '90'}, {'id': '2', 'name': 'vedha', 'age': '31', 'marks': '80'}, {'id': '3', 'name': 'jayaram', 'age': '34', 'marks': '70'}, {'id': '4', 'name': 'sai', 'age': '28', 'marks': '94'}]\n"
     ]
    }
   ],
   "source": [
    "f=open(\"data2.txt\") # default mode is read (r) mode.\n",
    "data=f.read()\n",
    "f.close()\n",
    "print(data)"
   ]
  },
  {
   "cell_type": "code",
   "execution_count": 60,
   "metadata": {},
   "outputs": [
    {
     "name": "stdout",
     "output_type": "stream",
     "text": [
      "[{'id': '1', 'name': 'samba', 'age': '32', 'marks': '90'}, {'id': '2', 'name': 'vedha', 'age': '31', 'marks': '80'}, {'id': '3', 'name': 'jayaram', 'age': '34', 'marks': '70'}, {'id': '4', 'name': 'sai', 'age': '28', 'marks': '94'}]\n",
      "<class 'str'>\n"
     ]
    }
   ],
   "source": [
    "f=open(\"data2.txt\") # default mode is read (r) mode.\n",
    "data=f.read()\n",
    "f.close()\n",
    "print(data)\n",
    "print(type(data))"
   ]
  },
  {
   "cell_type": "code",
   "execution_count": 61,
   "metadata": {},
   "outputs": [
    {
     "ename": "TypeError",
     "evalue": "an integer is required (got type _io.TextIOWrapper)",
     "output_type": "error",
     "traceback": [
      "\u001b[1;31m---------------------------------------------------------------------------\u001b[0m",
      "\u001b[1;31mTypeError\u001b[0m                                 Traceback (most recent call last)",
      "\u001b[1;32m<ipython-input-61-5c4ed69ff4e8>\u001b[0m in \u001b[0;36m<module>\u001b[1;34m\u001b[0m\n\u001b[0;32m      6\u001b[0m         {'id': '4', 'name': 'sai', 'age': '28', 'marks': '94'}]\n\u001b[0;32m      7\u001b[0m \u001b[0mf\u001b[0m\u001b[1;33m=\u001b[0m\u001b[0mopen\u001b[0m\u001b[1;33m(\u001b[0m\u001b[1;34m\"data3.txt\"\u001b[0m\u001b[1;33m,\u001b[0m\u001b[1;34m\"w\"\u001b[0m\u001b[1;33m)\u001b[0m\u001b[1;33m\u001b[0m\u001b[1;33m\u001b[0m\u001b[0m\n\u001b[1;32m----> 8\u001b[1;33m \u001b[0mpickle\u001b[0m\u001b[1;33m.\u001b[0m\u001b[0mdumps\u001b[0m\u001b[1;33m(\u001b[0m\u001b[0mdata\u001b[0m\u001b[1;33m,\u001b[0m\u001b[0mf\u001b[0m\u001b[1;33m)\u001b[0m\u001b[1;33m\u001b[0m\u001b[1;33m\u001b[0m\u001b[0m\n\u001b[0m\u001b[0;32m      9\u001b[0m \u001b[0mf\u001b[0m\u001b[1;33m.\u001b[0m\u001b[0mclose\u001b[0m\u001b[1;33m(\u001b[0m\u001b[1;33m)\u001b[0m\u001b[1;33m\u001b[0m\u001b[1;33m\u001b[0m\u001b[0m\n",
      "\u001b[1;31mTypeError\u001b[0m: an integer is required (got type _io.TextIOWrapper)"
     ]
    }
   ],
   "source": [
    "#pickling\n",
    "import pickle\n",
    "data = [{'id': '1', 'name': 'samba', 'age': '32', 'marks': '90'},\n",
    "        {'id': '2', 'name': 'vedha', 'age': '31', 'marks': '80'},\n",
    "        {'id': '3', 'name': 'jayaram', 'age': '34', 'marks': '70'},\n",
    "        {'id': '4', 'name': 'sai', 'age': '28', 'marks': '94'}]\n",
    "f=open(\"data3.txt\",\"w\")\n",
    "pickle.dumps(data,f)\n",
    "f.close()"
   ]
  },
  {
   "cell_type": "code",
   "execution_count": 62,
   "metadata": {},
   "outputs": [
    {
     "ename": "TypeError",
     "evalue": "write() argument must be str, not bytes",
     "output_type": "error",
     "traceback": [
      "\u001b[1;31m---------------------------------------------------------------------------\u001b[0m",
      "\u001b[1;31mTypeError\u001b[0m                                 Traceback (most recent call last)",
      "\u001b[1;32m<ipython-input-62-e709333c2c01>\u001b[0m in \u001b[0;36m<module>\u001b[1;34m\u001b[0m\n\u001b[0;32m      6\u001b[0m         {'id': '4', 'name': 'sai', 'age': '28', 'marks': '94'}]\n\u001b[0;32m      7\u001b[0m \u001b[0mf\u001b[0m\u001b[1;33m=\u001b[0m\u001b[0mopen\u001b[0m\u001b[1;33m(\u001b[0m\u001b[1;34m\"data3.txt\"\u001b[0m\u001b[1;33m,\u001b[0m\u001b[1;34m\"w\"\u001b[0m\u001b[1;33m)\u001b[0m\u001b[1;33m\u001b[0m\u001b[1;33m\u001b[0m\u001b[0m\n\u001b[1;32m----> 8\u001b[1;33m \u001b[0mpickle\u001b[0m\u001b[1;33m.\u001b[0m\u001b[0mdump\u001b[0m\u001b[1;33m(\u001b[0m\u001b[0mdata\u001b[0m\u001b[1;33m,\u001b[0m\u001b[0mf\u001b[0m\u001b[1;33m)\u001b[0m\u001b[1;33m\u001b[0m\u001b[1;33m\u001b[0m\u001b[0m\n\u001b[0m\u001b[0;32m      9\u001b[0m \u001b[0mf\u001b[0m\u001b[1;33m.\u001b[0m\u001b[0mclose\u001b[0m\u001b[1;33m(\u001b[0m\u001b[1;33m)\u001b[0m\u001b[1;33m\u001b[0m\u001b[1;33m\u001b[0m\u001b[0m\n",
      "\u001b[1;31mTypeError\u001b[0m: write() argument must be str, not bytes"
     ]
    }
   ],
   "source": [
    "#pickling\n",
    "import pickle\n",
    "data = [{'id': '1', 'name': 'samba', 'age': '32', 'marks': '90'},\n",
    "        {'id': '2', 'name': 'vedha', 'age': '31', 'marks': '80'},\n",
    "        {'id': '3', 'name': 'jayaram', 'age': '34', 'marks': '70'},\n",
    "        {'id': '4', 'name': 'sai', 'age': '28', 'marks': '94'}]\n",
    "f=open(\"data3.txt\",\"w\")\n",
    "pickle.dump(data,f)\n",
    "f.close()"
   ]
  },
  {
   "cell_type": "code",
   "execution_count": 63,
   "metadata": {},
   "outputs": [
    {
     "ename": "TypeError",
     "evalue": "file must have a 'write' attribute",
     "output_type": "error",
     "traceback": [
      "\u001b[1;31m---------------------------------------------------------------------------\u001b[0m",
      "\u001b[1;31mTypeError\u001b[0m                                 Traceback (most recent call last)",
      "\u001b[1;32m<ipython-input-63-fff4e3afef9d>\u001b[0m in \u001b[0;36m<module>\u001b[1;34m\u001b[0m\n\u001b[0;32m      6\u001b[0m         {'id': '4', 'name': 'sai', 'age': '28', 'marks': '94'}]\n\u001b[0;32m      7\u001b[0m \u001b[0mf\u001b[0m\u001b[1;33m=\u001b[0m\u001b[0mopen\u001b[0m\u001b[1;33m(\u001b[0m\u001b[1;34m\"data3.txt\"\u001b[0m\u001b[1;33m,\u001b[0m\u001b[1;34m\"w\"\u001b[0m\u001b[1;33m)\u001b[0m\u001b[1;33m\u001b[0m\u001b[1;33m\u001b[0m\u001b[0m\n\u001b[1;32m----> 8\u001b[1;33m \u001b[0mpickle\u001b[0m\u001b[1;33m.\u001b[0m\u001b[0mdump\u001b[0m\u001b[1;33m(\u001b[0m\u001b[0mf\u001b[0m\u001b[1;33m,\u001b[0m\u001b[0mdata\u001b[0m\u001b[1;33m)\u001b[0m\u001b[1;33m\u001b[0m\u001b[1;33m\u001b[0m\u001b[0m\n\u001b[0m\u001b[0;32m      9\u001b[0m \u001b[0mf\u001b[0m\u001b[1;33m.\u001b[0m\u001b[0mclose\u001b[0m\u001b[1;33m(\u001b[0m\u001b[1;33m)\u001b[0m\u001b[1;33m\u001b[0m\u001b[1;33m\u001b[0m\u001b[0m\n",
      "\u001b[1;31mTypeError\u001b[0m: file must have a 'write' attribute"
     ]
    }
   ],
   "source": [
    "#pickling\n",
    "import pickle\n",
    "data = [{'id': '1', 'name': 'samba', 'age': '32', 'marks': '90'},\n",
    "        {'id': '2', 'name': 'vedha', 'age': '31', 'marks': '80'},\n",
    "        {'id': '3', 'name': 'jayaram', 'age': '34', 'marks': '70'},\n",
    "        {'id': '4', 'name': 'sai', 'age': '28', 'marks': '94'}]\n",
    "f=open(\"data3.txt\",\"w\")\n",
    "pickle.dump(f,data)\n",
    "f.close()"
   ]
  },
  {
   "cell_type": "code",
   "execution_count": 64,
   "metadata": {},
   "outputs": [],
   "source": [
    "#pickling\n",
    "import pickle\n",
    "data = [{'id': '1', 'name': 'samba', 'age': '32', 'marks': '90'},\n",
    "        {'id': '2', 'name': 'vedha', 'age': '31', 'marks': '80'},\n",
    "        {'id': '3', 'name': 'jayaram', 'age': '34', 'marks': '70'},\n",
    "        {'id': '4', 'name': 'sai', 'age': '28', 'marks': '94'}]\n",
    "f=open(\"data3.txt\",\"wb\")\n",
    "pickle.dump(data,f)\n",
    "f.close()"
   ]
  },
  {
   "cell_type": "code",
   "execution_count": 66,
   "metadata": {},
   "outputs": [
    {
     "name": "stdout",
     "output_type": "stream",
     "text": [
      "€\u0004•Ÿ\u0000\u0000\u0000\u0000\u0000\u0000\u0000]”(}”(Œ\u0002id”Œ\u00011”Œ\u0004name”Œ\u0005samba”Œ\u0003age”Œ\u000232”Œ\u0005marks”Œ\u000290”u}”(h\u0002Œ\u00012”h\u0004Œ\u0005vedha”h\u0006Œ\u000231”h\bŒ\u000280”u}”(h\u0002Œ\u00013”h\u0004Œ\u0007jayaram”h\u0006Œ\u000234”h\bŒ\u000270”u}”(h\u0002Œ\u00014”h\u0004Œ\u0003sai”h\u0006Œ\u000228”h\bŒ\u000294”ue.\n"
     ]
    }
   ],
   "source": [
    "#pickling\n",
    "import pickle\n",
    "data = [{'id': '1', 'name': 'samba', 'age': '32', 'marks': '90'},\n",
    "        {'id': '2', 'name': 'vedha', 'age': '31', 'marks': '80'},\n",
    "        {'id': '3', 'name': 'jayaram', 'age': '34', 'marks': '70'},\n",
    "        {'id': '4', 'name': 'sai', 'age': '28', 'marks': '94'}]\n",
    "f=open(\"data3.txt\",\"r\")\n",
    "data=f.read()\n",
    "f.close()\n",
    "print(data)"
   ]
  },
  {
   "cell_type": "code",
   "execution_count": 69,
   "metadata": {},
   "outputs": [
    {
     "name": "stdout",
     "output_type": "stream",
     "text": [
      "[{'id': '1', 'name': 'samba', 'age': '32', 'marks': '90'}, {'id': '2', 'name': 'vedha', 'age': '31', 'marks': '80'}, {'id': '3', 'name': 'jayaram', 'age': '34', 'marks': '70'}, {'id': '4', 'name': 'sai', 'age': '28', 'marks': '94'}]\n",
      "<class 'list'>\n"
     ]
    }
   ],
   "source": [
    "#pickling\n",
    "import pickle\n",
    "data = [{'id': '1', 'name': 'samba', 'age': '32', 'marks': '90'},\n",
    "        {'id': '2', 'name': 'vedha', 'age': '31', 'marks': '80'},\n",
    "        {'id': '3', 'name': 'jayaram', 'age': '34', 'marks': '70'},\n",
    "        {'id': '4', 'name': 'sai', 'age': '28', 'marks': '94'}]\n",
    "f=open(\"data3.txt\",\"rb\")\n",
    "data=pickle.load(f)\n",
    "f.close()\n",
    "print(data)\n",
    "print(type(data))"
   ]
  },
  {
   "cell_type": "code",
   "execution_count": 71,
   "metadata": {},
   "outputs": [],
   "source": [
    "#working with json\n",
    "import json\n",
    "data = [{'id': '1', 'name': 'samba', 'age': '32', 'marks': '90'},\n",
    "        {'id': '2', 'name': 'vedha', 'age': '31', 'marks': '80'},\n",
    "        {'id': '3', 'name': 'jayaram', 'age': '34', 'marks': '70'},\n",
    "        {'id': '4', 'name': 'sai', 'age': '28', 'marks': '94'}]\n",
    "f=open(\"data3.json\",\"w\")\n",
    "json.dump(data,f)\n",
    "f.close()"
   ]
  },
  {
   "cell_type": "code",
   "execution_count": 73,
   "metadata": {},
   "outputs": [
    {
     "name": "stdout",
     "output_type": "stream",
     "text": [
      "[{'id': '1', 'name': 'samba', 'age': '32', 'marks': '90'}, {'id': '2', 'name': 'vedha', 'age': '31', 'marks': '80'}, {'id': '3', 'name': 'jayaram', 'age': '34', 'marks': '70'}, {'id': '4', 'name': 'sai', 'age': '28', 'marks': '94'}]\n",
      "<class 'list'>\n"
     ]
    }
   ],
   "source": [
    "#working with json\n",
    "import json\n",
    "f=open(\"data3.json\",\"r\")\n",
    "data=json.load(f)\n",
    "f.close()\n",
    "print(data)\n",
    "print(type(data))"
   ]
  },
  {
   "cell_type": "code",
   "execution_count": 75,
   "metadata": {},
   "outputs": [],
   "source": [
    "#working with yaml write\n",
    "import yaml\n",
    "data = [{'id': '1', 'name': 'samba', 'age': '32', 'marks': '90'},\n",
    "        {'id': '2', 'name': 'vedha', 'age': '31', 'marks': '80'},\n",
    "        {'id': '3', 'name': 'jayaram', 'age': '34', 'marks': '70'},\n",
    "        {'id': '4', 'name': 'sai', 'age': '28', 'marks': '94'}]\n",
    "f=open(\"data3.yaml\",\"w\")\n",
    "yaml.dump(data,f)\n",
    "f.close()"
   ]
  },
  {
   "cell_type": "code",
   "execution_count": 76,
   "metadata": {},
   "outputs": [
    {
     "name": "stdout",
     "output_type": "stream",
     "text": [
      "[{'age': '32', 'id': '1', 'marks': '90', 'name': 'samba'}, {'age': '31', 'id': '2', 'marks': '80', 'name': 'vedha'}, {'age': '34', 'id': '3', 'marks': '70', 'name': 'jayaram'}, {'age': '28', 'id': '4', 'marks': '94', 'name': 'sai'}]\n",
      "<class 'list'>\n"
     ]
    },
    {
     "name": "stderr",
     "output_type": "stream",
     "text": [
      "<ipython-input-76-6fa6bfad9335>:4: YAMLLoadWarning: calling yaml.load() without Loader=... is deprecated, as the default Loader is unsafe. Please read https://msg.pyyaml.org/load for full details.\n",
      "  data=yaml.load(f)\n"
     ]
    }
   ],
   "source": [
    "#working with yaml read\n",
    "import yaml\n",
    "f=open(\"data3.json\",\"r\")\n",
    "data=yaml.load(f)\n",
    "f.close()\n",
    "print(data)\n",
    "print(type(data))"
   ]
  },
  {
   "cell_type": "code",
   "execution_count": null,
   "metadata": {},
   "outputs": [],
   "source": []
  }
 ],
 "metadata": {
  "kernelspec": {
   "display_name": "Python 3",
   "language": "python",
   "name": "python3"
  },
  "language_info": {
   "codemirror_mode": {
    "name": "ipython",
    "version": 3
   },
   "file_extension": ".py",
   "mimetype": "text/x-python",
   "name": "python",
   "nbconvert_exporter": "python",
   "pygments_lexer": "ipython3",
   "version": "3.8.3"
  }
 },
 "nbformat": 4,
 "nbformat_minor": 4
}
