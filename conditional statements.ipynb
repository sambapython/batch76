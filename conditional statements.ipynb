{
 "cells": [
  {
   "cell_type": "code",
   "execution_count": 1,
   "metadata": {},
   "outputs": [
    {
     "name": "stdout",
     "output_type": "stream",
     "text": [
      "started\n",
      "False\n",
      "a is big\n",
      "b is big\n",
      "ended\n"
     ]
    }
   ],
   "source": [
    "print(\"started\")\n",
    "a=10\n",
    "b=20\n",
    "print(a>b)\n",
    "print(\"a is big\")\n",
    "print(\"b is big\")\n",
    "print(\"ended\")"
   ]
  },
  {
   "cell_type": "code",
   "execution_count": 2,
   "metadata": {},
   "outputs": [
    {
     "name": "stdout",
     "output_type": "stream",
     "text": [
      "started\n",
      "True\n",
      "a is big\n",
      "b is big\n",
      "ended\n"
     ]
    }
   ],
   "source": [
    "print(\"started\")\n",
    "a=100\n",
    "b=20\n",
    "print(a>b)\n",
    "print(\"a is big\")\n",
    "print(\"b is big\")\n",
    "print(\"ended\")"
   ]
  },
  {
   "cell_type": "code",
   "execution_count": 3,
   "metadata": {},
   "outputs": [
    {
     "name": "stdout",
     "output_type": "stream",
     "text": [
      "started\n",
      "False\n",
      "a is big\n",
      "b is big\n",
      "ended\n"
     ]
    }
   ],
   "source": [
    "print(\"started\")\n",
    "a=100\n",
    "b=200\n",
    "print(a>b)\n",
    "print(\"a is big\")\n",
    "print(\"b is big\")\n",
    "print(\"ended\")"
   ]
  },
  {
   "cell_type": "code",
   "execution_count": 4,
   "metadata": {},
   "outputs": [
    {
     "name": "stdout",
     "output_type": "stream",
     "text": [
      "started\n",
      "False\n",
      "a is big\n",
      "b is big\n",
      "ended\n"
     ]
    }
   ],
   "source": [
    "print(\"started\")\n",
    "a=100\n",
    "b=200\n",
    "print(a>b)\n",
    "if True:\n",
    "    print(\"a is big\")\n",
    "    print(\"b is big\")\n",
    "print(\"ended\")"
   ]
  },
  {
   "cell_type": "code",
   "execution_count": 5,
   "metadata": {},
   "outputs": [
    {
     "name": "stdout",
     "output_type": "stream",
     "text": [
      "started\n",
      "False\n",
      "ended\n"
     ]
    }
   ],
   "source": [
    "print(\"started\")\n",
    "a=100\n",
    "b=200\n",
    "print(a>b)\n",
    "if False:\n",
    "    print(\"a is big\")\n",
    "    print(\"b is big\")\n",
    "print(\"ended\")"
   ]
  },
  {
   "cell_type": "code",
   "execution_count": 6,
   "metadata": {},
   "outputs": [
    {
     "name": "stdout",
     "output_type": "stream",
     "text": [
      "started\n",
      "False\n",
      "b is big\n",
      "ended\n"
     ]
    }
   ],
   "source": [
    "print(\"started\")\n",
    "a=100\n",
    "b=200\n",
    "print(a>b)\n",
    "if False:\n",
    "    print(\"a is big\")\n",
    "else:\n",
    "    print(\"b is big\")\n",
    "print(\"ended\")"
   ]
  },
  {
   "cell_type": "code",
   "execution_count": 7,
   "metadata": {},
   "outputs": [
    {
     "name": "stdout",
     "output_type": "stream",
     "text": [
      "started\n",
      "False\n",
      "a is big\n",
      "ended\n"
     ]
    }
   ],
   "source": [
    "print(\"started\")\n",
    "a=100\n",
    "b=200\n",
    "print(a>b)\n",
    "if True:\n",
    "    print(\"a is big\")\n",
    "else:\n",
    "    print(\"b is big\")\n",
    "print(\"ended\")"
   ]
  },
  {
   "cell_type": "code",
   "execution_count": 8,
   "metadata": {},
   "outputs": [
    {
     "name": "stdout",
     "output_type": "stream",
     "text": [
      "started\n",
      "a is big\n",
      "ended\n"
     ]
    }
   ],
   "source": [
    "print(\"started\")\n",
    "a=10\n",
    "b=200\n",
    "if a<b: #10<200: True\n",
    "    print(\"a is big\")\n",
    "else:\n",
    "    print(\"b is big\")\n",
    "print(\"ended\")"
   ]
  },
  {
   "cell_type": "code",
   "execution_count": 9,
   "metadata": {},
   "outputs": [
    {
     "name": "stdout",
     "output_type": "stream",
     "text": [
      "started\n",
      "b is big\n",
      "ended\n"
     ]
    }
   ],
   "source": [
    "print(\"started\")\n",
    "a=10\n",
    "b=200\n",
    "if a>b: #10>200: False\n",
    "    print(\"a is big\")\n",
    "else:\n",
    "    print(\"b is big\")\n",
    "print(\"ended\")"
   ]
  },
  {
   "cell_type": "code",
   "execution_count": 10,
   "metadata": {},
   "outputs": [
    {
     "name": "stdout",
     "output_type": "stream",
     "text": [
      "started\n",
      "a is big\n",
      "ended\n"
     ]
    }
   ],
   "source": [
    "print(\"started\")\n",
    "a=100\n",
    "b=20\n",
    "if a>b: #100>20: True\n",
    "    print(\"a is big\")\n",
    "else:\n",
    "    print(\"b is big\")\n",
    "print(\"ended\")"
   ]
  },
  {
   "cell_type": "code",
   "execution_count": 11,
   "metadata": {},
   "outputs": [
    {
     "data": {
      "text/plain": [
       "'\\nwrite a code for the below scenario\\na=\"python\"\\na value is python\\na=\"\"\\na is empty.\\n\\n'"
      ]
     },
     "execution_count": 11,
     "metadata": {},
     "output_type": "execute_result"
    }
   ],
   "source": [
    "\"\"\"\n",
    "write a code for the below scenario\n",
    "a=\"python\"\n",
    "a value is python\n",
    "a=\"\"\n",
    "a is empty.\n",
    "\n",
    "\"\"\""
   ]
  },
  {
   "cell_type": "code",
   "execution_count": 12,
   "metadata": {},
   "outputs": [
    {
     "name": "stdout",
     "output_type": "stream",
     "text": [
      "enter string:python\n",
      "a valure is python\n"
     ]
    }
   ],
   "source": [
    "a=input(\"enter string:\")\n",
    "if len(a)==0:\n",
    "    print(\"a is empty\")\n",
    "else:\n",
    "    print(\"a valure is %s\" % a)"
   ]
  },
  {
   "cell_type": "code",
   "execution_count": 13,
   "metadata": {},
   "outputs": [
    {
     "name": "stdout",
     "output_type": "stream",
     "text": [
      "enter string:\n",
      "a is empty\n"
     ]
    }
   ],
   "source": [
    "a=input(\"enter string:\")\n",
    "if len(a)==0:\n",
    "    print(\"a is empty\")\n",
    "else:\n",
    "    print(\"a valure is %s\" % a)"
   ]
  },
  {
   "cell_type": "code",
   "execution_count": 14,
   "metadata": {},
   "outputs": [
    {
     "name": "stdout",
     "output_type": "stream",
     "text": [
      "enter string:psdgsdg\n",
      "a valure is psdgsdg\n"
     ]
    }
   ],
   "source": [
    "a=input(\"enter string:\")\n",
    "if bool(a):\n",
    "    print(\"a valure is %s\" % a)\n",
    "else:\n",
    "    print(\"a is empty\")\n",
    "    "
   ]
  },
  {
   "cell_type": "code",
   "execution_count": 15,
   "metadata": {},
   "outputs": [
    {
     "name": "stdout",
     "output_type": "stream",
     "text": [
      "enter string:\n",
      "a is empty\n"
     ]
    }
   ],
   "source": [
    "a=input(\"enter string:\")\n",
    "if bool(a):\n",
    "    print(\"a valure is %s\" % a)\n",
    "else:\n",
    "    print(\"a is empty\")\n",
    "    "
   ]
  },
  {
   "cell_type": "code",
   "execution_count": 16,
   "metadata": {},
   "outputs": [
    {
     "name": "stdout",
     "output_type": "stream",
     "text": [
      "enter string:python\n",
      "a valure is python\n"
     ]
    }
   ],
   "source": [
    "a=input(\"enter string:\")\n",
    "if a:\n",
    "    print(\"a valure is %s\" % a)\n",
    "else:\n",
    "    print(\"a is empty\")\n",
    "    "
   ]
  },
  {
   "cell_type": "code",
   "execution_count": 17,
   "metadata": {},
   "outputs": [
    {
     "name": "stdout",
     "output_type": "stream",
     "text": [
      "enter string:\n",
      "a is empty\n"
     ]
    }
   ],
   "source": [
    "a=input(\"enter string:\")\n",
    "if a:\n",
    "    print(\"a valure is %s\" % a)\n",
    "else:\n",
    "    print(\"a is empty\")\n",
    "    "
   ]
  },
  {
   "cell_type": "code",
   "execution_count": 18,
   "metadata": {},
   "outputs": [
    {
     "name": "stdout",
     "output_type": "stream",
     "text": [
      "0\n"
     ]
    }
   ],
   "source": [
    "\"\"\"\n",
    "check given number is even or odd\n",
    "\"\"\"\n",
    "print(10%2)"
   ]
  },
  {
   "cell_type": "code",
   "execution_count": 19,
   "metadata": {},
   "outputs": [
    {
     "name": "stdout",
     "output_type": "stream",
     "text": [
      "1\n"
     ]
    }
   ],
   "source": [
    "\"\"\"\n",
    "check given number is even or odd\n",
    "\"\"\"\n",
    "print(11%2)"
   ]
  },
  {
   "cell_type": "code",
   "execution_count": 20,
   "metadata": {},
   "outputs": [
    {
     "name": "stdout",
     "output_type": "stream",
     "text": [
      "enter a number:20\n",
      " EVEN \n"
     ]
    }
   ],
   "source": [
    "n=input(\"enter a number:\")\n",
    "n=float(n)\n",
    "if n%2==0:\n",
    "    print(\" EVEN \")\n",
    "else:\n",
    "    print(\"ODD\")"
   ]
  },
  {
   "cell_type": "code",
   "execution_count": 21,
   "metadata": {},
   "outputs": [
    {
     "name": "stdout",
     "output_type": "stream",
     "text": [
      "enter a number:21\n",
      "ODD\n"
     ]
    }
   ],
   "source": [
    "n=input(\"enter a number:\")\n",
    "n=float(n)\n",
    "if n%2==0:\n",
    "    print(\" EVEN \")\n",
    "else:\n",
    "    print(\"ODD\")"
   ]
  },
  {
   "cell_type": "code",
   "execution_count": 22,
   "metadata": {},
   "outputs": [
    {
     "name": "stdout",
     "output_type": "stream",
     "text": [
      "enter a number:13\n",
      "ODD\n"
     ]
    }
   ],
   "source": [
    "n=input(\"enter a number:\")\n",
    "n=float(n)\n",
    "res=\"EVEN\" if n%2==0 else \"ODD\"\n",
    "print(res)"
   ]
  },
  {
   "cell_type": "code",
   "execution_count": 23,
   "metadata": {},
   "outputs": [
    {
     "name": "stdout",
     "output_type": "stream",
     "text": [
      "enter a number:24\n",
      "EVEN\n"
     ]
    }
   ],
   "source": [
    "n=input(\"enter a number:\")\n",
    "n=float(n)\n",
    "print(\"EVEN\" if n%2==0 else \"ODD\") # ternary operator"
   ]
  },
  {
   "cell_type": "code",
   "execution_count": 24,
   "metadata": {},
   "outputs": [
    {
     "name": "stdout",
     "output_type": "stream",
     "text": [
      "\n"
     ]
    }
   ],
   "source": [
    "\"\"\"\n",
    "WAP to check sub string available in actual string or not\n",
    "your program should take two inputs: 1. actual 2. check\n",
    "print \"AVAILABLE\" if check string is available in actual \n",
    "print \"NOT AVAILABLE\" if check string not available in actual\n",
    "\"\"\"\n",
    "print(\"\")"
   ]
  },
  {
   "cell_type": "code",
   "execution_count": 1,
   "metadata": {},
   "outputs": [
    {
     "name": "stdout",
     "output_type": "stream",
     "text": [
      "enter number1:12\n",
      "Enter number2:23\n",
      "1.Add\n",
      "2.sub\n",
      "3.mul\n",
      "4.div\n",
      "\n",
      "Enter an option:2\n",
      "12 23 2\n"
     ]
    }
   ],
   "source": [
    "\"\"\"\n",
    "code to perform mathematical operations. take two numbers from the user and show the below menu\n",
    "\t1.add,\n",
    "\t2.sub,\t\n",
    "\t3.mul,\n",
    " \t4.div\n",
    "\tEnter an option:\n",
    "\t\tbased on the option need to perform an operations\n",
    "\n",
    "\"\"\"\n",
    "n1=input(\"enter number1:\")\n",
    "n2=input(\"Enter number2:\")\n",
    "print(\"1.Add\\n2.sub\\n3.mul\\n4.div\\n\")\n",
    "opt=input(\"Enter an option:\")\n",
    "print(n1,n2,opt)"
   ]
  },
  {
   "cell_type": "code",
   "execution_count": 2,
   "metadata": {},
   "outputs": [
    {
     "name": "stdout",
     "output_type": "stream",
     "text": [
      "enter number1:12\n",
      "Enter number2:13\n",
      "1.Add\n",
      "2.sub\n",
      "3.mul\n",
      "4.div\n",
      "\n",
      "Enter an option:1\n"
     ]
    }
   ],
   "source": [
    "\"\"\"\n",
    "code to perform mathematical operations. take two numbers from the user and show the below menu\n",
    "\t1.add,\n",
    "\t2.sub,\t\n",
    "\t3.mul,\n",
    " \t4.div\n",
    "\tEnter an option:\n",
    "\t\tbased on the option need to perform an operations\n",
    "\n",
    "\"\"\"\n",
    "n1=input(\"enter number1:\")\n",
    "n2=input(\"Enter number2:\")\n",
    "n1=float(n1)\n",
    "n2=float(n2)\n",
    "print(\"1.Add\\n2.sub\\n3.mul\\n4.div\\n\")\n",
    "opt=input(\"Enter an option:\")\n",
    "if opt==1:\n",
    "    print(n1+n2)\n",
    "if opt==2:\n",
    "    print(n1-n2)\n",
    "if opt==3:\n",
    "    print(n1*n2)\n",
    "if opt==4:\n",
    "    print(n1/n2)"
   ]
  },
  {
   "cell_type": "code",
   "execution_count": 3,
   "metadata": {},
   "outputs": [
    {
     "data": {
      "text/plain": [
       "False"
      ]
     },
     "execution_count": 3,
     "metadata": {},
     "output_type": "execute_result"
    }
   ],
   "source": [
    "\"1\" == 1"
   ]
  },
  {
   "cell_type": "code",
   "execution_count": 4,
   "metadata": {},
   "outputs": [
    {
     "name": "stdout",
     "output_type": "stream",
     "text": [
      "enter number1:12\n",
      "Enter number2:23\n",
      "1.Add\n",
      "2.sub\n",
      "3.mul\n",
      "4.div\n",
      "\n",
      "Enter an option:3\n",
      "276.0\n",
      "END\n"
     ]
    }
   ],
   "source": [
    "\"\"\"\n",
    "code to perform mathematical operations. take two numbers from the user and show the below menu\n",
    "\t1.add,\n",
    "\t2.sub,\t\n",
    "\t3.mul,\n",
    " \t4.div\n",
    "\tEnter an option:\n",
    "\t\tbased on the option need to perform an operations\n",
    "\n",
    "\"\"\"\n",
    "n1=input(\"enter number1:\")\n",
    "n2=input(\"Enter number2:\")\n",
    "n1=float(n1)\n",
    "n2=float(n2)\n",
    "print(\"1.Add\\n2.sub\\n3.mul\\n4.div\\n\")\n",
    "opt=input(\"Enter an option:\")#3\n",
    "if opt==\"1\":\n",
    "    print(n1+n2)\n",
    "if opt==\"2\":\n",
    "    print(n1-n2)\n",
    "if opt==\"3\":\n",
    "    print(n1*n2)\n",
    "if opt==\"4\":\n",
    "    print(n1/n2)\n",
    "print(\"END\")"
   ]
  },
  {
   "cell_type": "code",
   "execution_count": 5,
   "metadata": {},
   "outputs": [
    {
     "name": "stdout",
     "output_type": "stream",
     "text": [
      "enter number1:12\n",
      "Enter number2:34\n",
      "1.Add\n",
      "2.sub\n",
      "3.mul\n",
      "4.div\n",
      "\n",
      "Enter an option:7\n",
      "END\n"
     ]
    }
   ],
   "source": [
    "n1=input(\"enter number1:\")\n",
    "n2=input(\"Enter number2:\")\n",
    "n1=float(n1)\n",
    "n2=float(n2)\n",
    "print(\"1.Add\\n2.sub\\n3.mul\\n4.div\\n\")\n",
    "opt=input(\"Enter an option:\")#3\n",
    "if opt==\"1\":\n",
    "    print(n1+n2)\n",
    "if opt==\"2\":\n",
    "    print(n1-n2)\n",
    "if opt==\"3\":\n",
    "    print(n1*n2)\n",
    "if opt==\"4\":\n",
    "    print(n1/n2)\n",
    "print(\"END\")"
   ]
  },
  {
   "cell_type": "code",
   "execution_count": 6,
   "metadata": {},
   "outputs": [
    {
     "name": "stdout",
     "output_type": "stream",
     "text": [
      "enter number1:12\n",
      "Enter number2:23\n",
      "1.Add\n",
      "2.sub\n",
      "3.mul\n",
      "4.div\n",
      "\n",
      "Enter an option:3\n",
      "276.0\n",
      "END\n"
     ]
    }
   ],
   "source": [
    "n1=input(\"enter number1:\")\n",
    "n2=input(\"Enter number2:\")\n",
    "n1=float(n1)\n",
    "n2=float(n2)\n",
    "print(\"1.Add\\n2.sub\\n3.mul\\n4.div\\n\")\n",
    "opt=input(\"Enter an option:\")#3\n",
    "if opt not in [\"1\",\"2\",\"3\",\"4\"]:\n",
    "    print(\"Invalid entry..\")\n",
    "if opt==\"1\":\n",
    "    print(n1+n2)\n",
    "if opt==\"2\":\n",
    "    print(n1-n2)\n",
    "if opt==\"3\":\n",
    "    print(n1*n2)\n",
    "if opt==\"4\":\n",
    "    print(n1/n2)\n",
    "print(\"END\")"
   ]
  },
  {
   "cell_type": "code",
   "execution_count": 7,
   "metadata": {},
   "outputs": [
    {
     "name": "stdout",
     "output_type": "stream",
     "text": [
      "enter number1:12\n",
      "Enter number2:34\n",
      "1.Add\n",
      "2.sub\n",
      "3.mul\n",
      "4.div\n",
      "\n",
      "Enter an option:6\n",
      "Invalid entry..\n",
      "END\n"
     ]
    }
   ],
   "source": [
    "n1=input(\"enter number1:\")\n",
    "n2=input(\"Enter number2:\")\n",
    "n1=float(n1)\n",
    "n2=float(n2)\n",
    "print(\"1.Add\\n2.sub\\n3.mul\\n4.div\\n\")\n",
    "opt=input(\"Enter an option:\")#3\n",
    "if opt not in [\"1\",\"2\",\"3\",\"4\"]:\n",
    "    print(\"Invalid entry..\")\n",
    "if opt==\"1\":\n",
    "    print(n1+n2)\n",
    "if opt==\"2\":\n",
    "    print(n1-n2)\n",
    "if opt==\"3\":\n",
    "    print(n1*n2)\n",
    "if opt==\"4\":\n",
    "    print(n1/n2)\n",
    "print(\"END\")"
   ]
  },
  {
   "cell_type": "code",
   "execution_count": 8,
   "metadata": {},
   "outputs": [
    {
     "name": "stdout",
     "output_type": "stream",
     "text": [
      "enter number1:12\n",
      "Enter number2:23\n",
      "1.Add\n",
      "2.sub\n",
      "3.mul\n",
      "4.div\n",
      "\n",
      "Enter an option:1\n",
      "35.0\n",
      "END\n"
     ]
    }
   ],
   "source": [
    "n1=input(\"enter number1:\")\n",
    "n2=input(\"Enter number2:\")\n",
    "n1=float(n1)\n",
    "n2=float(n2)\n",
    "print(\"1.Add\\n2.sub\\n3.mul\\n4.div\\n\")\n",
    "opt=input(\"Enter an option:\")#3\n",
    "if opt==\"1\":\n",
    "    print(n1+n2)\n",
    "elif opt==\"2\":\n",
    "    print(n1-n2)\n",
    "elif opt==\"3\":\n",
    "    print(n1*n2)\n",
    "elif opt==\"4\":\n",
    "    print(n1/n2)\n",
    "else:\n",
    "    print(\"Invalid Entry\")\n",
    "print(\"END\")"
   ]
  },
  {
   "cell_type": "code",
   "execution_count": 9,
   "metadata": {},
   "outputs": [
    {
     "name": "stdout",
     "output_type": "stream",
     "text": [
      "enter number1:12\n",
      "Enter number2:34\n",
      "1.Add\n",
      "2.sub\n",
      "3.mul\n",
      "4.div\n",
      "\n",
      "Enter an option:3\n",
      "408.0\n",
      "END\n"
     ]
    }
   ],
   "source": [
    "n1=input(\"enter number1:\")\n",
    "n2=input(\"Enter number2:\")\n",
    "n1=float(n1)\n",
    "n2=float(n2)\n",
    "print(\"1.Add\\n2.sub\\n3.mul\\n4.div\\n\")\n",
    "opt=input(\"Enter an option:\")#3\n",
    "if opt==\"1\":\n",
    "    print(n1+n2)\n",
    "elif opt==\"2\":\n",
    "    print(n1-n2)\n",
    "elif opt==\"3\":\n",
    "    print(n1*n2)\n",
    "elif opt==\"4\":\n",
    "    print(n1/n2)\n",
    "else:\n",
    "    print(\"Invalid Entry\")\n",
    "print(\"END\")"
   ]
  },
  {
   "cell_type": "code",
   "execution_count": 10,
   "metadata": {},
   "outputs": [],
   "source": [
    "a=10"
   ]
  },
  {
   "cell_type": "code",
   "execution_count": 11,
   "metadata": {},
   "outputs": [],
   "source": [
    " a=10"
   ]
  },
  {
   "cell_type": "code",
   "execution_count": 12,
   "metadata": {},
   "outputs": [
    {
     "name": "stdout",
     "output_type": "stream",
     "text": [
      "program started\n",
      "if block started\n",
      "processing\n",
      "ended\n",
      "program ended\n"
     ]
    }
   ],
   "source": [
    "print(\"program started\")\n",
    "if True:\n",
    "    print(\"if block started\")\n",
    "    print(\"processing\")\n",
    "    print(\"ended\")\n",
    "else:\n",
    "    print(\"else block started\")\n",
    "    print(\"processing\")\n",
    "    print(\"else block ended\")\n",
    "print(\"program ended\")"
   ]
  },
  {
   "cell_type": "code",
   "execution_count": 13,
   "metadata": {},
   "outputs": [
    {
     "name": "stdout",
     "output_type": "stream",
     "text": [
      "program started\n",
      "if block started\n",
      "processing\n",
      "ended\n",
      "program ended\n"
     ]
    }
   ],
   "source": [
    "print(\"program started\")\n",
    "if True:\n",
    "    print(\"if block started\")\n",
    "    print(\"processing\")\n",
    "    print(\"ended\")\n",
    "else:\n",
    " print(\"else block started\")\n",
    " print(\"processing\")\n",
    " print(\"else block ended\")\n",
    "print(\"program ended\")"
   ]
  },
  {
   "cell_type": "code",
   "execution_count": 14,
   "metadata": {},
   "outputs": [
    {
     "name": "stdout",
     "output_type": "stream",
     "text": [
      "program started\n",
      "else block started\n",
      "processing\n",
      "else block ended\n",
      "program ended\n"
     ]
    }
   ],
   "source": [
    "print(\"program started\")\n",
    "if False:\n",
    "    print(\"if block started\")\n",
    "    print(\"processing\")\n",
    "    print(\"ended\")\n",
    "else:\n",
    " print(\"else block started\")\n",
    " print(\"processing\")\n",
    " print(\"else block ended\")\n",
    "print(\"program ended\")"
   ]
  },
  {
   "cell_type": "code",
   "execution_count": 15,
   "metadata": {},
   "outputs": [
    {
     "ename": "IndentationError",
     "evalue": "unexpected indent (<ipython-input-15-74c59f251e6c>, line 8)",
     "output_type": "error",
     "traceback": [
      "\u001b[1;36m  File \u001b[1;32m\"<ipython-input-15-74c59f251e6c>\"\u001b[1;36m, line \u001b[1;32m8\u001b[0m\n\u001b[1;33m    print(\"processing\")\u001b[0m\n\u001b[1;37m    ^\u001b[0m\n\u001b[1;31mIndentationError\u001b[0m\u001b[1;31m:\u001b[0m unexpected indent\n"
     ]
    }
   ],
   "source": [
    "print(\"program started\")\n",
    "if False:\n",
    "    print(\"if block started\")\n",
    "    print(\"processing\")\n",
    "    print(\"ended\")\n",
    "else:\n",
    " print(\"else block started\")\n",
    "   print(\"processing\")\n",
    "   print(\"else block ended\")\n",
    "print(\"program ended\")"
   ]
  },
  {
   "cell_type": "code",
   "execution_count": 16,
   "metadata": {},
   "outputs": [
    {
     "name": "stdout",
     "output_type": "stream",
     "text": [
      "program started\n",
      "else block started\n",
      "processing\n",
      "else block ended\n",
      "program ended\n"
     ]
    }
   ],
   "source": [
    "print(\"program started\")\n",
    "if False:\n",
    "    print(\"if block started\")\n",
    "    print(\"processing\")\n",
    "    print(\"ended\")\n",
    "else:\n",
    "    print(\"else block started\")\n",
    "    print(\"processing\")\n",
    "    print(\"else block ended\")\n",
    "print(\"program ended\")"
   ]
  },
  {
   "cell_type": "code",
   "execution_count": 17,
   "metadata": {},
   "outputs": [
    {
     "name": "stdout",
     "output_type": "stream",
     "text": [
      "program started\n",
      "program ended\n"
     ]
    }
   ],
   "source": [
    "print(\"program started\")\n",
    "if False:\n",
    "    print(\"if block started\")\n",
    "    print(\"processing\")\n",
    "    print(\"ended\")\n",
    "print(\"program ended\")"
   ]
  },
  {
   "cell_type": "code",
   "execution_count": 18,
   "metadata": {},
   "outputs": [
    {
     "ename": "SyntaxError",
     "evalue": "invalid syntax (<ipython-input-18-f69c4e8f6f67>, line 6)",
     "output_type": "error",
     "traceback": [
      "\u001b[1;36m  File \u001b[1;32m\"<ipython-input-18-f69c4e8f6f67>\"\u001b[1;36m, line \u001b[1;32m6\u001b[0m\n\u001b[1;33m    else:\u001b[0m\n\u001b[1;37m    ^\u001b[0m\n\u001b[1;31mSyntaxError\u001b[0m\u001b[1;31m:\u001b[0m invalid syntax\n"
     ]
    }
   ],
   "source": [
    "print(\"program started\")\n",
    "if False:\n",
    "    print(\"if block started\")\n",
    "    print(\"processing\")\n",
    "print(\"ended\")\n",
    "else:\n",
    "    print(\"else block started\")\n",
    "    print(\"processing\")\n",
    "    print(\"else block ended\")\n",
    "print(\"program ended\")"
   ]
  },
  {
   "cell_type": "code",
   "execution_count": 19,
   "metadata": {},
   "outputs": [
    {
     "name": "stdout",
     "output_type": "stream",
     "text": [
      "program started\n",
      "else block started\n",
      "processing\n",
      "else block ended\n",
      "program ended\n"
     ]
    }
   ],
   "source": [
    "print(\"program started\")\n",
    "if False:\n",
    "    print(\"if block started\")\n",
    "    print(\"processing\")\n",
    "    print(\"ended\")\n",
    "else:\n",
    "    print(\"else block started\")\n",
    "    print(\"processing\")\n",
    "    print(\"else block ended\")\n",
    "print(\"program ended\")"
   ]
  },
  {
   "cell_type": "code",
   "execution_count": null,
   "metadata": {},
   "outputs": [],
   "source": [
    "a=ord(input(\"Enter lettter:\"))\n",
    "if a in range(ord(\"a\"),ord(\"z\")+1):\n",
    "    print(\"it's a small letter\")\n",
    "elif a in range(ord(\"A\"), ord(\"Z\")+1):\n",
    "    print(\"it's a capital letter.\")\n"
   ]
  },
  {
   "cell_type": "code",
   "execution_count": 1,
   "metadata": {},
   "outputs": [
    {
     "ename": "TypeError",
     "evalue": "ord() expected a character, but string of length 2 found",
     "output_type": "error",
     "traceback": [
      "\u001b[1;31m---------------------------------------------------------------------------\u001b[0m",
      "\u001b[1;31mTypeError\u001b[0m                                 Traceback (most recent call last)",
      "\u001b[1;32m<ipython-input-1-6f4522ba892d>\u001b[0m in \u001b[0;36m<module>\u001b[1;34m\u001b[0m\n\u001b[1;32m----> 1\u001b[1;33m \u001b[0mord\u001b[0m\u001b[1;33m(\u001b[0m\u001b[1;34m\"ab\"\u001b[0m\u001b[1;33m)\u001b[0m\u001b[1;33m\u001b[0m\u001b[1;33m\u001b[0m\u001b[0m\n\u001b[0m",
      "\u001b[1;31mTypeError\u001b[0m: ord() expected a character, but string of length 2 found"
     ]
    }
   ],
   "source": [
    "ord(\"ab\")"
   ]
  },
  {
   "cell_type": "code",
   "execution_count": null,
   "metadata": {},
   "outputs": [],
   "source": []
  }
 ],
 "metadata": {
  "kernelspec": {
   "display_name": "Python 3",
   "language": "python",
   "name": "python3"
  },
  "language_info": {
   "codemirror_mode": {
    "name": "ipython",
    "version": 3
   },
   "file_extension": ".py",
   "mimetype": "text/x-python",
   "name": "python",
   "nbconvert_exporter": "python",
   "pygments_lexer": "ipython3",
   "version": "3.8.3"
  }
 },
 "nbformat": 4,
 "nbformat_minor": 4
}
