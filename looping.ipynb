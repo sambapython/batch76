{
 "cells": [
  {
   "cell_type": "code",
   "execution_count": 1,
   "metadata": {},
   "outputs": [
    {
     "name": "stdout",
     "output_type": "stream",
     "text": [
      "even\n",
      "even\n",
      "even\n",
      "odd\n"
     ]
    }
   ],
   "source": [
    "l=[10,20,30,45,67,34,32]\n",
    "if l[0]%2==0:\n",
    "    print(\"even\")\n",
    "else:\n",
    "    print(\"odd\")\n",
    "if l[1]%2==0:\n",
    "    print(\"even\")\n",
    "else:\n",
    "    print(\"odd\")\n",
    "if l[2]%2==0:\n",
    "    print(\"even\")\n",
    "else:\n",
    "    print(\"odd\")\n",
    "if l[3]%2==0:\n",
    "    print(\"even\")\n",
    "else:\n",
    "    print(\"odd\")"
   ]
  },
  {
   "cell_type": "code",
   "execution_count": 2,
   "metadata": {},
   "outputs": [
    {
     "name": "stdout",
     "output_type": "stream",
     "text": [
      "10\n",
      "20\n",
      "30\n",
      "45\n",
      "67\n",
      "34\n",
      "32\n"
     ]
    }
   ],
   "source": [
    "l=[10,20,30,45,67,34,32]\n",
    "for number in l:\n",
    "    print(number)"
   ]
  },
  {
   "cell_type": "code",
   "execution_count": 3,
   "metadata": {},
   "outputs": [
    {
     "name": "stdout",
     "output_type": "stream",
     "text": [
      "name\n",
      "age\n",
      "weight\n"
     ]
    }
   ],
   "source": [
    "l={\"name\":\"jay\",\"age\":3,\"weight\":15}\n",
    "for number in l:\n",
    "    print(number)"
   ]
  },
  {
   "cell_type": "code",
   "execution_count": 4,
   "metadata": {},
   "outputs": [
    {
     "name": "stdout",
     "output_type": "stream",
     "text": [
      "p\n",
      "y\n",
      "t\n",
      "h\n",
      "o\n",
      "n\n"
     ]
    }
   ],
   "source": [
    "s=\"python\"\n",
    "for i in s:\n",
    "    print(i)"
   ]
  },
  {
   "cell_type": "code",
   "execution_count": 5,
   "metadata": {},
   "outputs": [
    {
     "name": "stdout",
     "output_type": "stream",
     "text": [
      "apple\n",
      "orange\n",
      "grape\n",
      "banana\n"
     ]
    }
   ],
   "source": [
    "l=[\"apple\",\"orange\",\"grape\",\"banana\"]\n",
    "for i in l:\n",
    "    print(i)"
   ]
  },
  {
   "cell_type": "code",
   "execution_count": 6,
   "metadata": {},
   "outputs": [
    {
     "name": "stdout",
     "output_type": "stream",
     "text": [
      "apple\n",
      "orange\n",
      "grape\n",
      "banana\n"
     ]
    }
   ],
   "source": [
    "l=(\"apple\",\"orange\",\"grape\",\"banana\")\n",
    "for i in l:\n",
    "    print(i)"
   ]
  },
  {
   "cell_type": "code",
   "execution_count": 7,
   "metadata": {},
   "outputs": [
    {
     "name": "stdout",
     "output_type": "stream",
     "text": [
      "grape\n",
      "orange\n",
      "banana\n",
      "apple\n"
     ]
    }
   ],
   "source": [
    "l={\"apple\",\"orange\",\"grape\",\"banana\"}\n",
    "for i in l:\n",
    "    print(i)"
   ]
  },
  {
   "cell_type": "code",
   "execution_count": 8,
   "metadata": {},
   "outputs": [
    {
     "name": "stdout",
     "output_type": "stream",
     "text": [
      "even\n",
      "odd\n",
      "odd\n",
      "even\n",
      "even\n",
      "end\n"
     ]
    }
   ],
   "source": [
    "l=[10,45,67,34,32]\n",
    "for number in l:\n",
    "    if number%2==0: #False\n",
    "        print(\"even\")\n",
    "    else:\n",
    "        print(\"odd\")\n",
    "print(\"end\")"
   ]
  },
  {
   "cell_type": "code",
   "execution_count": 9,
   "metadata": {},
   "outputs": [
    {
     "name": "stdout",
     "output_type": "stream",
     "text": [
      "5.5\n"
     ]
    }
   ],
   "source": [
    "print(11/2)"
   ]
  },
  {
   "cell_type": "code",
   "execution_count": 10,
   "metadata": {},
   "outputs": [
    {
     "name": "stdout",
     "output_type": "stream",
     "text": [
      "1\n"
     ]
    }
   ],
   "source": [
    "print(11%2)"
   ]
  },
  {
   "cell_type": "code",
   "execution_count": 1,
   "metadata": {},
   "outputs": [
    {
     "name": "stdout",
     "output_type": "stream",
     "text": [
      "loop started\n",
      "p\n",
      "loop ended\n",
      "loop started\n",
      "y\n",
      "loop ended\n",
      "loop started\n",
      "t\n",
      "loop ended\n",
      "loop started\n",
      "h\n",
      "loop ended\n",
      "loop started\n",
      "o\n",
      "loop ended\n",
      "loop started\n",
      "n\n",
      "loop ended\n",
      "end\n"
     ]
    }
   ],
   "source": [
    "s=\"python\"\n",
    "for i in s:#i=n\n",
    "    print(\"loop started\")\n",
    "    print(i)\n",
    "    print(\"loop ended\")\n",
    "print(\"end\")"
   ]
  },
  {
   "cell_type": "code",
   "execution_count": 2,
   "metadata": {},
   "outputs": [
    {
     "name": "stdout",
     "output_type": "stream",
     "text": [
      "loop started\n",
      "apple\n",
      "loop ended\n",
      "loop started\n",
      "orage\n",
      "loop ended\n",
      "loop started\n",
      "grape\n",
      "loop ended\n",
      "end\n"
     ]
    }
   ],
   "source": [
    "s=[\"apple\",\"orage\",\"grape\"] #(\"apple\",\"orage\",\"grape\") #{\"apple\",\"orage\",\"grape\"}#{\"name\":\"jay\",\"age\":3,\"weight\":15},10,12.34,False,True,None\n",
    "for i in s:#i=n\n",
    "    print(\"loop started\")\n",
    "    print(i)\n",
    "    print(\"loop ended\")\n",
    "print(\"end\")"
   ]
  },
  {
   "cell_type": "code",
   "execution_count": 3,
   "metadata": {},
   "outputs": [
    {
     "ename": "TypeError",
     "evalue": "'bool' object is not iterable",
     "output_type": "error",
     "traceback": [
      "\u001b[1;31m---------------------------------------------------------------------------\u001b[0m",
      "\u001b[1;31mTypeError\u001b[0m                                 Traceback (most recent call last)",
      "\u001b[1;32m<ipython-input-3-b76801a9ff4d>\u001b[0m in \u001b[0;36m<module>\u001b[1;34m\u001b[0m\n\u001b[0;32m      1\u001b[0m \u001b[0ms\u001b[0m\u001b[1;33m=\u001b[0m\u001b[1;32mTrue\u001b[0m\u001b[1;33m\u001b[0m\u001b[1;33m\u001b[0m\u001b[0m\n\u001b[1;32m----> 2\u001b[1;33m \u001b[1;32mfor\u001b[0m \u001b[0mi\u001b[0m \u001b[1;32min\u001b[0m \u001b[0ms\u001b[0m\u001b[1;33m:\u001b[0m\u001b[1;33m\u001b[0m\u001b[1;33m\u001b[0m\u001b[0m\n\u001b[0m\u001b[0;32m      3\u001b[0m     \u001b[0mprint\u001b[0m\u001b[1;33m(\u001b[0m\u001b[1;34m\"loop started\"\u001b[0m\u001b[1;33m)\u001b[0m\u001b[1;33m\u001b[0m\u001b[1;33m\u001b[0m\u001b[0m\n\u001b[0;32m      4\u001b[0m     \u001b[0mprint\u001b[0m\u001b[1;33m(\u001b[0m\u001b[0mi\u001b[0m\u001b[1;33m)\u001b[0m\u001b[1;33m\u001b[0m\u001b[1;33m\u001b[0m\u001b[0m\n\u001b[0;32m      5\u001b[0m     \u001b[0mprint\u001b[0m\u001b[1;33m(\u001b[0m\u001b[1;34m\"loop ended\"\u001b[0m\u001b[1;33m)\u001b[0m\u001b[1;33m\u001b[0m\u001b[1;33m\u001b[0m\u001b[0m\n",
      "\u001b[1;31mTypeError\u001b[0m: 'bool' object is not iterable"
     ]
    }
   ],
   "source": [
    "s=True\n",
    "for i in s:\n",
    "    print(\"loop started\")\n",
    "    print(i)\n",
    "    print(\"loop ended\")\n",
    "print(\"end\")"
   ]
  },
  {
   "cell_type": "code",
   "execution_count": 4,
   "metadata": {},
   "outputs": [],
   "source": [
    "# string,list,set,tuple,dict : can be iterable\n",
    "# int,float,bool,None : cant be iterable."
   ]
  },
  {
   "cell_type": "code",
   "execution_count": 5,
   "metadata": {},
   "outputs": [
    {
     "name": "stdout",
     "output_type": "stream",
     "text": [
      "name: apple\n",
      "name: orange\n",
      "name: grape\n"
     ]
    }
   ],
   "source": [
    "fruits=[\"apple\", \"orange\",\"grape\"]\n",
    "for fruit in fruits: #\n",
    "    print(\"name: %s\" % fruit)"
   ]
  },
  {
   "cell_type": "code",
   "execution_count": 6,
   "metadata": {},
   "outputs": [
    {
     "ename": "SyntaxError",
     "evalue": "cannot assign to literal (<ipython-input-6-2c84caa39070>, line 1)",
     "output_type": "error",
     "traceback": [
      "\u001b[1;36m  File \u001b[1;32m\"<ipython-input-6-2c84caa39070>\"\u001b[1;36m, line \u001b[1;32m1\u001b[0m\n\u001b[1;33m    1=\"apple\"\u001b[0m\n\u001b[1;37m    ^\u001b[0m\n\u001b[1;31mSyntaxError\u001b[0m\u001b[1;31m:\u001b[0m cannot assign to literal\n"
     ]
    }
   ],
   "source": [
    "1=\"apple\""
   ]
  },
  {
   "cell_type": "code",
   "execution_count": 7,
   "metadata": {},
   "outputs": [],
   "source": [
    "i=\"apple\""
   ]
  },
  {
   "cell_type": "code",
   "execution_count": 8,
   "metadata": {},
   "outputs": [],
   "source": [
    "fruit=\"apple\""
   ]
  },
  {
   "cell_type": "code",
   "execution_count": 10,
   "metadata": {},
   "outputs": [
    {
     "name": "stdout",
     "output_type": "stream",
     "text": [
      "10\n",
      "11\n",
      "13\n",
      "15\n",
      "14\n"
     ]
    }
   ],
   "source": [
    "# 3 odd numbers and 2 even numbers in the list.\n",
    "l=[10,11,13,15,14]\n",
    "#10: even\n",
    "#11: odd\n",
    "#13: odd\n",
    "#15: odd\n",
    "#14: even\n",
    "for i in l:\n",
    "    print(i)\n"
   ]
  },
  {
   "cell_type": "code",
   "execution_count": 11,
   "metadata": {},
   "outputs": [
    {
     "name": "stdout",
     "output_type": "stream",
     "text": [
      "10:\n",
      "11:\n",
      "13:\n",
      "15:\n",
      "14:\n"
     ]
    }
   ],
   "source": [
    "# 3 odd numbers and 2 even numbers in the list.\n",
    "l=[10,11,13,15,14]\n",
    "#10: even\n",
    "#11: odd\n",
    "#13: odd\n",
    "#15: odd\n",
    "#14: even\n",
    "for i in l:\n",
    "    print(\"%s:\"%i)\n"
   ]
  },
  {
   "cell_type": "code",
   "execution_count": 12,
   "metadata": {},
   "outputs": [
    {
     "name": "stdout",
     "output_type": "stream",
     "text": [
      "10: Even\n",
      "11: Odd\n",
      "13: Odd\n",
      "15: Odd\n",
      "14: Even\n"
     ]
    }
   ],
   "source": [
    "# 3 odd numbers and 2 even numbers in the list.\n",
    "l=[10,11,13,15,14]\n",
    "#10: even\n",
    "#11: odd\n",
    "#13: odd\n",
    "#15: odd\n",
    "#14: even\n",
    "for i in l:\n",
    "    res=\"Even\" if i%2==0 else \"Odd\"\n",
    "    print(\"%s: %s\"%(i,res))\n"
   ]
  },
  {
   "cell_type": "code",
   "execution_count": 13,
   "metadata": {},
   "outputs": [
    {
     "name": "stdout",
     "output_type": "stream",
     "text": [
      "3 odd numbers and 2 even numbers in the list\n"
     ]
    }
   ],
   "source": [
    "# 3 odd numbers and 2 even numbers in the list.\n",
    "l=[10,11,13,15,14]\n",
    "odd_count=0\n",
    "even_count=0\n",
    "for i in l:\n",
    "    if i%2==0:\n",
    "        even_count=even_count+1\n",
    "    else:\n",
    "        odd_count = odd_count+1\n",
    "print(\"%s odd numbers and %s even numbers in the list\" %(odd_count, even_count))\n"
   ]
  },
  {
   "cell_type": "code",
   "execution_count": 14,
   "metadata": {},
   "outputs": [
    {
     "name": "stdout",
     "output_type": "stream",
     "text": [
      "no, it's not conatains even numbers\n"
     ]
    }
   ],
   "source": [
    "# whether the given list contains atleast one even number or not.\n",
    "l=[10,11,13,15,14] # yes it contatins even numbers\n",
    "l=[11,13,15,17] #no it's not contains even numbers.\n",
    "l=[13,11,13,15,17]\n",
    "even_count=0\n",
    "for i in l:\n",
    "    if i%2==0:\n",
    "        even_count=even_count+1\n",
    "    else:\n",
    "        odd_count = odd_count+1\n",
    "if even_count == 0:\n",
    "    print(\"no, it's not conatains even numbers\")\n",
    "else:\n",
    "    print(\"yes, it's contains even numebrs.\")\n"
   ]
  },
  {
   "cell_type": "code",
   "execution_count": 15,
   "metadata": {},
   "outputs": [
    {
     "name": "stdout",
     "output_type": "stream",
     "text": [
      "yes, it's contains even numebrs.\n"
     ]
    }
   ],
   "source": [
    "l=[11,12,14,15,16,19,21,25]\n",
    "even_count=0\n",
    "for i in l:\n",
    "    if i%2==0:\n",
    "        even_count=even_count+1\n",
    "    else:\n",
    "        odd_count = odd_count+1\n",
    "if even_count == 0:\n",
    "    print(\"no, it's not conatains even numbers\")\n",
    "else:\n",
    "    print(\"yes, it's contains even numebrs.\")"
   ]
  },
  {
   "cell_type": "code",
   "execution_count": 16,
   "metadata": {},
   "outputs": [
    {
     "name": "stdout",
     "output_type": "stream",
     "text": [
      "11\n",
      "12\n",
      "14\n",
      "15\n",
      "16\n",
      "19\n",
      "21\n",
      "25\n",
      "yes, it's contains even numebrs.\n"
     ]
    }
   ],
   "source": [
    "l=[11,12,14,15,16,19,21,25]\n",
    "even_count=0\n",
    "for i in l:\n",
    "    print(i)\n",
    "    if i%2==0:\n",
    "        even_count=even_count+1\n",
    "    else:\n",
    "        odd_count = odd_count+1\n",
    "if even_count == 0:\n",
    "    print(\"no, it's not conatains even numbers\")\n",
    "else:\n",
    "    print(\"yes, it's contains even numebrs.\")"
   ]
  },
  {
   "cell_type": "code",
   "execution_count": 17,
   "metadata": {},
   "outputs": [
    {
     "name": "stdout",
     "output_type": "stream",
     "text": [
      "11\n",
      "12\n",
      "yes, it's contains even numebrs.\n"
     ]
    }
   ],
   "source": [
    "l=[11,12,14,15,16,19,21,25]\n",
    "even_count=0\n",
    "for i in l:#i=12\n",
    "    print(i)\n",
    "    if i%2==0: #0==0: True\n",
    "        even_count=even_count+1 # even_count=1\n",
    "        break\n",
    "if even_count == 0: # 1==0 False\n",
    "    print(\"no, it's not conatains even numbers\")\n",
    "else:\n",
    "    print(\"yes, it's contains even numebrs.\")"
   ]
  },
  {
   "cell_type": "code",
   "execution_count": 18,
   "metadata": {},
   "outputs": [
    {
     "name": "stdout",
     "output_type": "stream",
     "text": [
      "11\n",
      "13\n",
      "15\n",
      "no, it's not conatains even numbers\n"
     ]
    }
   ],
   "source": [
    "l=[11,13,15]\n",
    "even_count=0\n",
    "for i in l:#i=12\n",
    "    print(i)\n",
    "    if i%2==0: #0==0: True\n",
    "        even_count=even_count+1 # even_count=1\n",
    "        break\n",
    "if even_count == 0: # 1==0 False\n",
    "    print(\"no, it's not conatains even numbers\")\n",
    "else:\n",
    "    print(\"yes, it's contains even numebrs.\")"
   ]
  },
  {
   "cell_type": "code",
   "execution_count": 19,
   "metadata": {},
   "outputs": [
    {
     "name": "stdout",
     "output_type": "stream",
     "text": [
      "started\n",
      "fruit= apple\n",
      "fruit outside the loop: apple\n",
      "ended\n"
     ]
    }
   ],
   "source": [
    "print(\"started\")\n",
    "for fruit in [\"apple\",\"orange\"]:# fruit=apple\n",
    "    print(\"fruit=\",fruit)\n",
    "    break\n",
    "print(\"fruit outside the loop: %s\" %fruit)\n",
    "print(\"ended\")"
   ]
  },
  {
   "cell_type": "code",
   "execution_count": 1,
   "metadata": {},
   "outputs": [
    {
     "name": "stdout",
     "output_type": "stream",
     "text": [
      "started\n",
      "fruit= apple\n",
      "fruit= orange\n",
      "fruit= grape\n",
      "fruit= papaya\n",
      "fruit outside the loop: papaya\n",
      "ended\n"
     ]
    },
    {
     "data": {
      "text/plain": [
       "'\\no/p\\nstarted\\nfruit=apple\\nfruit=orange\\nfruit=grape\\nfruit=papaya\\nfruit out side the loop: papaya\\nended\\n'"
      ]
     },
     "execution_count": 1,
     "metadata": {},
     "output_type": "execute_result"
    }
   ],
   "source": [
    "print(\"started\")\n",
    "for fruit in [\"apple\",\"orange\",\"grape\",\"papaya\"]:# fruit=papaya\n",
    "    print(\"fruit=\",fruit)\n",
    "    if fruit==\"mango\":#papaya==mango: False\n",
    "        break\n",
    "print(\"fruit outside the loop: %s\" %fruit)\n",
    "print(\"ended\")\n",
    "\"\"\"\n",
    "o/p\n",
    "started\n",
    "fruit=apple\n",
    "fruit=orange\n",
    "fruit=grape\n",
    "fruit=papaya\n",
    "fruit out side the loop: papaya\n",
    "ended\n",
    "\"\"\""
   ]
  },
  {
   "cell_type": "code",
   "execution_count": null,
   "metadata": {},
   "outputs": [],
   "source": [
    "l=[11,13,15]\n",
    "even_count=0\n",
    "for i in l:#i=12\n",
    "    print(i)\n",
    "    if i%2==0: #0==0: True\n",
    "        even_count=even_count+1 # even_count=1\n",
    "        break\n",
    "if even_count == 0: # 1==0 False\n",
    "    print(\"no, it's not conatains even numbers\")\n",
    "else:\n",
    "    print(\"yes, it's contains even numebrs.\")"
   ]
  },
  {
   "cell_type": "code",
   "execution_count": 2,
   "metadata": {},
   "outputs": [
    {
     "name": "stdout",
     "output_type": "stream",
     "text": [
      "satrted\n",
      "apple\n",
      "orange\n",
      "grape\n",
      "this is else\n",
      "ended\n"
     ]
    }
   ],
   "source": [
    "# for else\n",
    "print(\"satrted\")\n",
    "for i in [\"apple\",\"orange\",\"grape\"]:\n",
    "    print(i)\n",
    "else: # no_break\n",
    "    print(\"this is else\")\n",
    "print(\"ended\")"
   ]
  },
  {
   "cell_type": "code",
   "execution_count": 3,
   "metadata": {},
   "outputs": [
    {
     "name": "stdout",
     "output_type": "stream",
     "text": [
      "satrted\n",
      "apple\n",
      "ended\n"
     ]
    }
   ],
   "source": [
    "# for else\n",
    "print(\"satrted\")\n",
    "for i in [\"apple\",\"orange\",\"grape\"]:\n",
    "    print(i)\n",
    "    break\n",
    "else: # no_break\n",
    "    print(\"this is else\")\n",
    "print(\"ended\")"
   ]
  },
  {
   "cell_type": "code",
   "execution_count": 4,
   "metadata": {},
   "outputs": [
    {
     "name": "stdout",
     "output_type": "stream",
     "text": [
      "satrted\n",
      "apple\n",
      "orange\n",
      "grape\n",
      "ended\n"
     ]
    }
   ],
   "source": [
    "# for else\n",
    "print(\"satrted\")\n",
    "for i in [\"apple\",\"orange\",\"grape\"]:\n",
    "    print(i)\n",
    "    if i==\"grape\":\n",
    "        break\n",
    "else: # no_break\n",
    "    print(\"this is else\")\n",
    "print(\"ended\")"
   ]
  },
  {
   "cell_type": "code",
   "execution_count": 5,
   "metadata": {},
   "outputs": [
    {
     "name": "stdout",
     "output_type": "stream",
     "text": [
      "satrted\n",
      "apple\n",
      "orange\n",
      "grape\n",
      "this is else\n",
      "ended\n"
     ]
    }
   ],
   "source": [
    "# for else\n",
    "print(\"satrted\")\n",
    "for i in [\"apple\",\"orange\",\"grape\"]:\n",
    "    print(i)\n",
    "    if i==\"mango\":\n",
    "        break\n",
    "else: # no_break\n",
    "    print(\"this is else\")\n",
    "print(\"ended\")"
   ]
  },
  {
   "cell_type": "code",
   "execution_count": 6,
   "metadata": {},
   "outputs": [
    {
     "name": "stdout",
     "output_type": "stream",
     "text": [
      "no, it does not have even numbers.\n"
     ]
    }
   ],
   "source": [
    "l=[11,13,15]\n",
    "for i in l:\n",
    "    if i%2==0: \n",
    "        print(\"yes, it has even numbers.\")\n",
    "        break\n",
    "else:\n",
    "    print(\"no, it does not have even numbers.\")"
   ]
  },
  {
   "cell_type": "code",
   "execution_count": 7,
   "metadata": {},
   "outputs": [
    {
     "name": "stdout",
     "output_type": "stream",
     "text": [
      "yes, it has even numbers.\n"
     ]
    }
   ],
   "source": [
    "l=[11,13,15,14]\n",
    "for i in l:\n",
    "    if i%2==0: \n",
    "        print(\"yes, it has even numbers.\")\n",
    "        break\n",
    "else:\n",
    "    print(\"no, it does not have even numbers.\")"
   ]
  },
  {
   "cell_type": "code",
   "execution_count": null,
   "metadata": {},
   "outputs": [],
   "source": [
    "numbers=[11,12,15,14]\n",
    "for number in numbers:#number=11\n",
    "    if number%2==0: \n",
    "        print(\"yes, it has even numbers.\")\n",
    "        break\n",
    "else:\n",
    "    print(\"no, it does not have even numbers.\")"
   ]
  },
  {
   "cell_type": "code",
   "execution_count": 9,
   "metadata": {},
   "outputs": [
    {
     "name": "stdout",
     "output_type": "stream",
     "text": [
      "0\n",
      "1\n",
      "2\n",
      "3\n",
      "4\n",
      "5\n",
      "6\n",
      "7\n",
      "8\n",
      "9\n"
     ]
    }
   ],
   "source": [
    "for i in range(10):\n",
    "    print(i)"
   ]
  },
  {
   "cell_type": "code",
   "execution_count": 10,
   "metadata": {},
   "outputs": [
    {
     "name": "stdout",
     "output_type": "stream",
     "text": [
      "3\n",
      "4\n",
      "5\n",
      "6\n",
      "7\n",
      "8\n",
      "9\n"
     ]
    }
   ],
   "source": [
    "for i in range(3,10):\n",
    "    print(i)"
   ]
  },
  {
   "cell_type": "code",
   "execution_count": 11,
   "metadata": {},
   "outputs": [
    {
     "name": "stdout",
     "output_type": "stream",
     "text": [
      "3\n",
      "5\n",
      "7\n",
      "9\n"
     ]
    }
   ],
   "source": [
    "for i in range(3,10,2):\n",
    "    print(i)"
   ]
  },
  {
   "cell_type": "code",
   "execution_count": 12,
   "metadata": {},
   "outputs": [],
   "source": [
    "for i in range(10,1):\n",
    "    print(i)"
   ]
  },
  {
   "cell_type": "code",
   "execution_count": 13,
   "metadata": {},
   "outputs": [
    {
     "name": "stdout",
     "output_type": "stream",
     "text": [
      "10\n",
      "9\n",
      "8\n",
      "7\n",
      "6\n",
      "5\n",
      "4\n",
      "3\n",
      "2\n"
     ]
    }
   ],
   "source": [
    "for i in range(10,1,-1):\n",
    "    print(i)"
   ]
  },
  {
   "cell_type": "code",
   "execution_count": 14,
   "metadata": {},
   "outputs": [
    {
     "name": "stdout",
     "output_type": "stream",
     "text": [
      "10\n",
      "8\n",
      "6\n",
      "4\n",
      "2\n"
     ]
    }
   ],
   "source": [
    "for i in range(10,1,-2):\n",
    "    print(i)"
   ]
  },
  {
   "cell_type": "code",
   "execution_count": 15,
   "metadata": {},
   "outputs": [
    {
     "name": "stdout",
     "output_type": "stream",
     "text": [
      "started\n",
      "0\n",
      "ended\n"
     ]
    }
   ],
   "source": [
    "print(\"started\")\n",
    "i=0\n",
    "if i<3: #true\n",
    "    print(i)\n",
    "    i=i+1 #i=0+1\n",
    "print(\"ended\")"
   ]
  },
  {
   "cell_type": "code",
   "execution_count": 16,
   "metadata": {},
   "outputs": [
    {
     "name": "stdout",
     "output_type": "stream",
     "text": [
      "started\n",
      "0\n",
      "1\n",
      "2\n",
      "ended\n"
     ]
    }
   ],
   "source": [
    "print(\"started\")\n",
    "i=0\n",
    "while i<3: #3<3:flase\n",
    "    print(i)\n",
    "    i=i+1 #i=2+1:3\n",
    "print(\"ended\")"
   ]
  },
  {
   "cell_type": "code",
   "execution_count": 17,
   "metadata": {},
   "outputs": [
    {
     "name": "stdout",
     "output_type": "stream",
     "text": [
      "started\n",
      "ended\n"
     ]
    }
   ],
   "source": [
    "print(\"started\")\n",
    "i=10\n",
    "while i<3:#10<3: false\n",
    "    print(i)\n",
    "    i=i+1 \n",
    "print(\"ended\")"
   ]
  },
  {
   "cell_type": "code",
   "execution_count": 18,
   "metadata": {},
   "outputs": [
    {
     "name": "stdout",
     "output_type": "stream",
     "text": [
      "started\n",
      "0\n",
      "1\n",
      "2\n",
      "i outside the loop: 3\n",
      "ended\n"
     ]
    }
   ],
   "source": [
    "print(\"started\")\n",
    "i=0\n",
    "while i<3:\n",
    "    print(i)\n",
    "    i=i+1 \n",
    "print(\"i outside the loop: %s\"%i)\n",
    "print(\"ended\")"
   ]
  },
  {
   "cell_type": "code",
   "execution_count": 19,
   "metadata": {},
   "outputs": [
    {
     "name": "stdout",
     "output_type": "stream",
     "text": [
      "started\n",
      "0\n",
      "i outside the loop: 0\n",
      "ended\n"
     ]
    }
   ],
   "source": [
    "print(\"started\")\n",
    "i=0\n",
    "while i<3: # 0<3\n",
    "    print(i)\n",
    "    break\n",
    "    i=i+1  # this statement will not execute here.\n",
    "print(\"i outside the loop: %s\"%i)\n",
    "print(\"ended\")"
   ]
  },
  {
   "cell_type": "code",
   "execution_count": 20,
   "metadata": {},
   "outputs": [
    {
     "name": "stdout",
     "output_type": "stream",
     "text": [
      "started\n",
      "i outside the loop: 10\n",
      "ended\n"
     ]
    }
   ],
   "source": [
    "print(\"started\")\n",
    "i=10\n",
    "while i<3: # 10<3:false: the entire while loop will not execute\n",
    "    print(i)\n",
    "    break\n",
    "    i=i+1  \n",
    "print(\"i outside the loop: %s\"%i)\n",
    "print(\"ended\")"
   ]
  },
  {
   "cell_type": "code",
   "execution_count": 21,
   "metadata": {},
   "outputs": [
    {
     "name": "stdout",
     "output_type": "stream",
     "text": [
      "started\n",
      "0\n",
      "1\n",
      "2\n",
      "i outside the loop: 2\n",
      "ended\n"
     ]
    }
   ],
   "source": [
    "print(\"started\")\n",
    "i=0\n",
    "while i<3: \n",
    "    print(i)\n",
    "    if i==2:\n",
    "        break\n",
    "    i=i+1  \n",
    "print(\"i outside the loop: %s\"%i)\n",
    "print(\"ended\")"
   ]
  },
  {
   "cell_type": "code",
   "execution_count": 22,
   "metadata": {},
   "outputs": [
    {
     "name": "stdout",
     "output_type": "stream",
     "text": [
      "started\n",
      "0\n",
      "1\n",
      "2\n",
      "i outside the loop: 2\n",
      "ended\n"
     ]
    }
   ],
   "source": [
    "print(\"started\")\n",
    "i=0\n",
    "while i<3: \n",
    "    print(i)\n",
    "    if i==2:\n",
    "        break\n",
    "    i=i+1  \n",
    "else:\n",
    "    print(\"this is else\")\n",
    "print(\"i outside the loop: %s\"%i)\n",
    "print(\"ended\")"
   ]
  },
  {
   "cell_type": "code",
   "execution_count": 23,
   "metadata": {},
   "outputs": [
    {
     "name": "stdout",
     "output_type": "stream",
     "text": [
      "started\n",
      "0\n",
      "1\n",
      "2\n",
      "this is else\n",
      "i outside the loop: 3\n",
      "ended\n"
     ]
    }
   ],
   "source": [
    "print(\"started\")\n",
    "i=0\n",
    "while i<3: \n",
    "    print(i)\n",
    "    if i==20:\n",
    "        break\n",
    "    i=i+1  \n",
    "else:\n",
    "    print(\"this is else\")\n",
    "print(\"i outside the loop: %s\"%i)\n",
    "print(\"ended\")"
   ]
  },
  {
   "cell_type": "code",
   "execution_count": 24,
   "metadata": {},
   "outputs": [
    {
     "name": "stdout",
     "output_type": "stream",
     "text": [
      "this is else\n"
     ]
    }
   ],
   "source": [
    "l=[]\n",
    "for i in l:\n",
    "    print(i)\n",
    "else:\n",
    "    print(\"this is else\")"
   ]
  },
  {
   "cell_type": "code",
   "execution_count": 25,
   "metadata": {},
   "outputs": [],
   "source": [
    "l=[]\n",
    "for i in l:\n",
    "    print(i)\n",
    "else:\n",
    "    if l:\n",
    "        print(\"this is else\")"
   ]
  },
  {
   "cell_type": "code",
   "execution_count": 26,
   "metadata": {},
   "outputs": [
    {
     "name": "stdout",
     "output_type": "stream",
     "text": [
      "1\n",
      "3\n"
     ]
    }
   ],
   "source": [
    "# continue\n",
    "for i in [1,2,3,4]:\n",
    "    if i%2==0:\n",
    "        continue\n",
    "    print(i)"
   ]
  },
  {
   "cell_type": "code",
   "execution_count": 27,
   "metadata": {},
   "outputs": [
    {
     "name": "stdout",
     "output_type": "stream",
     "text": [
      "1\n",
      "3\n"
     ]
    }
   ],
   "source": [
    "# continue\n",
    "for i in [1,2,3,4]:\n",
    "    if i%2==0:\n",
    "        continue\n",
    "        print(\"hello\")\n",
    "    print(i)\n",
    "# will use continure to skip some part of iteration block from execution for some iteration."
   ]
  },
  {
   "cell_type": "code",
   "execution_count": 28,
   "metadata": {},
   "outputs": [
    {
     "name": "stdout",
     "output_type": "stream",
     "text": [
      "Enter string:APPLE\n",
      "a\n",
      "p\n",
      "p\n",
      "l\n",
      "e\n"
     ]
    }
   ],
   "source": [
    "s=input(\"Enter string:\") #:APPLE\n",
    "res=\"\"\n",
    "for i in s:\n",
    "    print(chr(ord(i)+32))\n",
    "    \n"
   ]
  },
  {
   "cell_type": "code",
   "execution_count": 29,
   "metadata": {},
   "outputs": [
    {
     "name": "stdout",
     "output_type": "stream",
     "text": [
      "Enter string:APPLE\n",
      "a\n",
      "ap\n",
      "app\n",
      "appl\n",
      "apple\n"
     ]
    }
   ],
   "source": [
    "s=input(\"Enter string:\") #:APPLE\n",
    "res=\"\"\n",
    "for i in s:\n",
    "    j=chr(ord(i)+32)\n",
    "    res=res+j\n",
    "    print(res)\n",
    "    "
   ]
  },
  {
   "cell_type": "code",
   "execution_count": 30,
   "metadata": {},
   "outputs": [
    {
     "name": "stdout",
     "output_type": "stream",
     "text": [
      "Enter string:APPLE\n",
      "apple\n"
     ]
    }
   ],
   "source": [
    "s=input(\"Enter string:\") #:APPLE\n",
    "res=\"\"\n",
    "for i in s: #i=A,P,P,L,E\n",
    "    j=chr(ord(i)+32) #a,p,p,l,e\n",
    "    res=res+j #\"\"+\"a\":a,a+p:ap,ap+p:app,app+l:appl,appl+e:apple\n",
    "print(res)\n",
    "    "
   ]
  },
  {
   "cell_type": "code",
   "execution_count": 31,
   "metadata": {},
   "outputs": [
    {
     "name": "stdout",
     "output_type": "stream",
     "text": [
      "enternumber:13\n",
      "it's a prime number\n"
     ]
    }
   ],
   "source": [
    "#take a number from the user and check whether it is prime?\n",
    "# number is prime if it's divisable by one and itself\n",
    "number = int(input(\"enternumber:\"))\n",
    "for i in range(2,number//2):\n",
    "    if number%i==0:\n",
    "        print(\"it's not a primenumber\")\n",
    "        break\n",
    "else:\n",
    "    print(\"it's a prime number\")\n",
    "    "
   ]
  },
  {
   "cell_type": "code",
   "execution_count": 32,
   "metadata": {},
   "outputs": [
    {
     "name": "stdout",
     "output_type": "stream",
     "text": [
      "enternumber:240\n",
      "it's not a primenumber\n"
     ]
    }
   ],
   "source": [
    "#take a number from the user and check whether it is prime?\n",
    "# number is prime if it's divisable by one and itself\n",
    "number = int(input(\"enternumber:\"))\n",
    "for i in range(2,number//2):\n",
    "    if number%i==0:\n",
    "        print(\"it's not a primenumber\")\n",
    "        break\n",
    "else:\n",
    "    print(\"it's a prime number\")\n",
    "    "
   ]
  },
  {
   "cell_type": "code",
   "execution_count": 33,
   "metadata": {},
   "outputs": [
    {
     "name": "stdout",
     "output_type": "stream",
     "text": [
      "enternumber:4225547\n",
      "it's a prime number\n"
     ]
    }
   ],
   "source": [
    "# 4225547\n",
    "number = int(input(\"enternumber:\"))\n",
    "for i in range(2,number//2):\n",
    "    if number%i==0:\n",
    "        print(\"it's not a primenumber\")\n",
    "        break\n",
    "else:\n",
    "    print(\"it's a prime number\")"
   ]
  },
  {
   "cell_type": "code",
   "execution_count": null,
   "metadata": {},
   "outputs": [],
   "source": []
  }
 ],
 "metadata": {
  "kernelspec": {
   "display_name": "Python 3",
   "language": "python",
   "name": "python3"
  },
  "language_info": {
   "codemirror_mode": {
    "name": "ipython",
    "version": 3
   },
   "file_extension": ".py",
   "mimetype": "text/x-python",
   "name": "python",
   "nbconvert_exporter": "python",
   "pygments_lexer": "ipython3",
   "version": "3.8.3"
  }
 },
 "nbformat": 4,
 "nbformat_minor": 4
}
